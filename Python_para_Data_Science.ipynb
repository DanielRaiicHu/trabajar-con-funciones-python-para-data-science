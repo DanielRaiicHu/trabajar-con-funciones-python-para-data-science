{
  "nbformat": 4,
  "nbformat_minor": 0,
  "metadata": {
    "colab": {
      "provenance": [],
      "include_colab_link": true
    },
    "kernelspec": {
      "name": "python3",
      "display_name": "Python 3"
    },
    "language_info": {
      "name": "python"
    }
  },
  "cells": [
    {
      "cell_type": "markdown",
      "metadata": {
        "id": "view-in-github",
        "colab_type": "text"
      },
      "source": [
        "<a href=\"https://colab.research.google.com/github/DanielRaiicHu/trabajar-con-funciones-python-para-data-science/blob/main/Python_para_Data_Science.ipynb\" target=\"_parent\"><img src=\"https://colab.research.google.com/assets/colab-badge.svg\" alt=\"Open In Colab\"/></a>"
      ]
    },
    {
      "cell_type": "markdown",
      "source": [
        "# <font color=green> **PYTHON PARA DATA SCIENCE**\n",
        "---"
      ],
      "metadata": {
        "id": "AGc2Cf4cBwd7"
      }
    },
    {
      "cell_type": "markdown",
      "source": [
        "## <font color=green> 1. BIBLIOTECAS\n",
        "---"
      ],
      "metadata": {
        "id": "fH2br9y9CYZ8"
      }
    },
    {
      "cell_type": "markdown",
      "source": [
        "## 1.1 Instalación e importación de bibliotecas\n",
        "\n",
        "En el lenguaje Python se utiliza bastante el concepto de bibliotecas como un conjunto de módulos y funciones útiles para el usuario. Estas favorecen la reducción del uso de códigos en el proyecto, manteniendo únicamente los recursos necesarios para la tarea que deseamos realizar."
      ],
      "metadata": {
        "id": "jjEKgfiuFzHz"
      }
    },
    {
      "cell_type": "markdown",
      "source": [
        "### Instalando una biblioteca"
      ],
      "metadata": {
        "id": "JjpazCgqDRfZ"
      }
    },
    {
      "cell_type": "markdown",
      "source": [
        "Para instalar o actualizar una biblioteca en Python, podemos acudir a `pip` que es un gestor de bibliotecas en Python."
      ],
      "metadata": {
        "id": "_qnuIo7oIQYx"
      }
    },
    {
      "cell_type": "markdown",
      "source": [
        "Existe también PYPI que es un repositorio de bibliotecas Python que contiene las bibliotecas más utilizadas por la comunidad junto a su respectiva documentación.\n",
        "\n",
        "- PYPI ([https://pypi.org/](https://pypi.org/))"
      ],
      "metadata": {
        "id": "IHTmQnlXInD1"
      }
    },
    {
      "cell_type": "code",
      "source": [],
      "metadata": {
        "id": "Rv5sIo7NM5VS"
      },
      "execution_count": null,
      "outputs": []
    },
    {
      "cell_type": "code",
      "source": [
        "#!pip install matplotlib"
      ],
      "metadata": {
        "id": "REYsDRqHM6hN",
        "outputId": "c2ad1122-5310-4189-af6c-516b77b36e37",
        "colab": {
          "base_uri": "https://localhost:8080/"
        }
      },
      "execution_count": null,
      "outputs": [
        {
          "output_type": "stream",
          "name": "stdout",
          "text": [
            "Requirement already satisfied: matplotlib in /usr/local/lib/python3.11/dist-packages (3.10.1)\n",
            "Requirement already satisfied: contourpy>=1.0.1 in /usr/local/lib/python3.11/dist-packages (from matplotlib) (1.3.2)\n",
            "Requirement already satisfied: cycler>=0.10 in /usr/local/lib/python3.11/dist-packages (from matplotlib) (0.12.1)\n",
            "Requirement already satisfied: fonttools>=4.22.0 in /usr/local/lib/python3.11/dist-packages (from matplotlib) (4.57.0)\n",
            "Requirement already satisfied: kiwisolver>=1.3.1 in /usr/local/lib/python3.11/dist-packages (from matplotlib) (1.4.8)\n",
            "Requirement already satisfied: numpy>=1.23 in /usr/local/lib/python3.11/dist-packages (from matplotlib) (2.0.2)\n",
            "Requirement already satisfied: packaging>=20.0 in /usr/local/lib/python3.11/dist-packages (from matplotlib) (24.2)\n",
            "Requirement already satisfied: pillow>=8 in /usr/local/lib/python3.11/dist-packages (from matplotlib) (11.2.1)\n",
            "Requirement already satisfied: pyparsing>=2.3.1 in /usr/local/lib/python3.11/dist-packages (from matplotlib) (3.2.3)\n",
            "Requirement already satisfied: python-dateutil>=2.7 in /usr/local/lib/python3.11/dist-packages (from matplotlib) (2.9.0.post0)\n",
            "Requirement already satisfied: six>=1.5 in /usr/local/lib/python3.11/dist-packages (from python-dateutil>=2.7->matplotlib) (1.17.0)\n"
          ]
        }
      ]
    },
    {
      "cell_type": "markdown",
      "source": [
        "### Importando una biblioteca"
      ],
      "metadata": {
        "id": "A76TbnDbDehe"
      }
    },
    {
      "cell_type": "code",
      "source": [
        "import matplotlib"
      ],
      "metadata": {
        "id": "_xUxLlZFM728"
      },
      "execution_count": null,
      "outputs": []
    },
    {
      "cell_type": "code",
      "source": [
        "matplotlib.__version__"
      ],
      "metadata": {
        "id": "xy035zQzM75b",
        "outputId": "56662886-a3fa-413e-c782-9580556d9046",
        "colab": {
          "base_uri": "https://localhost:8080/",
          "height": 36
        }
      },
      "execution_count": null,
      "outputs": [
        {
          "output_type": "execute_result",
          "data": {
            "text/plain": [
              "'3.10.0'"
            ],
            "application/vnd.google.colaboratory.intrinsic+json": {
              "type": "string"
            }
          },
          "metadata": {},
          "execution_count": 33
        }
      ]
    },
    {
      "cell_type": "code",
      "source": [
        "#!pip install matplotlib==3.10.1"
      ],
      "metadata": {
        "id": "sL5D4_K9AKsE",
        "outputId": "7a8fb3c0-1dcc-4b04-9b4e-09c15de2d335",
        "colab": {
          "base_uri": "https://localhost:8080/"
        }
      },
      "execution_count": null,
      "outputs": [
        {
          "output_type": "stream",
          "name": "stdout",
          "text": [
            "Requirement already satisfied: matplotlib==3.10.1 in /usr/local/lib/python3.11/dist-packages (3.10.1)\n",
            "Requirement already satisfied: contourpy>=1.0.1 in /usr/local/lib/python3.11/dist-packages (from matplotlib==3.10.1) (1.3.2)\n",
            "Requirement already satisfied: cycler>=0.10 in /usr/local/lib/python3.11/dist-packages (from matplotlib==3.10.1) (0.12.1)\n",
            "Requirement already satisfied: fonttools>=4.22.0 in /usr/local/lib/python3.11/dist-packages (from matplotlib==3.10.1) (4.57.0)\n",
            "Requirement already satisfied: kiwisolver>=1.3.1 in /usr/local/lib/python3.11/dist-packages (from matplotlib==3.10.1) (1.4.8)\n",
            "Requirement already satisfied: numpy>=1.23 in /usr/local/lib/python3.11/dist-packages (from matplotlib==3.10.1) (2.0.2)\n",
            "Requirement already satisfied: packaging>=20.0 in /usr/local/lib/python3.11/dist-packages (from matplotlib==3.10.1) (24.2)\n",
            "Requirement already satisfied: pillow>=8 in /usr/local/lib/python3.11/dist-packages (from matplotlib==3.10.1) (11.2.1)\n",
            "Requirement already satisfied: pyparsing>=2.3.1 in /usr/local/lib/python3.11/dist-packages (from matplotlib==3.10.1) (3.2.3)\n",
            "Requirement already satisfied: python-dateutil>=2.7 in /usr/local/lib/python3.11/dist-packages (from matplotlib==3.10.1) (2.9.0.post0)\n",
            "Requirement already satisfied: six>=1.5 in /usr/local/lib/python3.11/dist-packages (from python-dateutil>=2.7->matplotlib==3.10.1) (1.17.0)\n"
          ]
        }
      ]
    },
    {
      "cell_type": "code",
      "source": [
        "import matplotlib\n",
        "print(matplotlib.__version__)"
      ],
      "metadata": {
        "id": "kKW-O2sSAck5",
        "outputId": "e7023f4e-cc56-4bc3-c7dc-2bb05c63d58a",
        "colab": {
          "base_uri": "https://localhost:8080/"
        }
      },
      "execution_count": null,
      "outputs": [
        {
          "output_type": "stream",
          "name": "stdout",
          "text": [
            "3.10.1\n"
          ]
        }
      ]
    },
    {
      "cell_type": "code",
      "source": [
        "import matplotlib.pyplot as plt\n"
      ],
      "metadata": {
        "id": "zg_PhJGrLRBG"
      },
      "execution_count": null,
      "outputs": []
    },
    {
      "cell_type": "code",
      "source": [
        "plt.show()"
      ],
      "metadata": {
        "id": "M_3zls-tLRFb"
      },
      "execution_count": null,
      "outputs": []
    },
    {
      "cell_type": "code",
      "source": [
        "# Imprimir todos los paquetes instalados en el entorno y sus versiones\n",
        "#!pip list"
      ],
      "metadata": {
        "id": "W0PFWy0jLRN0"
      },
      "execution_count": null,
      "outputs": []
    },
    {
      "cell_type": "markdown",
      "source": [
        "## 1.2 Utilizando módulos/bibliotecas\n",
        "\n",
        "- Documentación de Python (https://docs.python.org/es/3/)"
      ],
      "metadata": {
        "id": "oMxkV9-6GXwH"
      }
    },
    {
      "cell_type": "markdown",
      "source": [
        "#### Ejemplo 1: Vamos a probar la biblioteca Matplotlib para un ejemplo sobre el cálculo de los promedios de notas de los estudiantes de una clase.\n",
        "\n",
        "(https://matplotlib.org/stable/tutorials/introductory/pyplot.html)"
      ],
      "metadata": {
        "id": "W1MHaXB2Q7tT"
      }
    },
    {
      "cell_type": "code",
      "source": [
        "from matplotlib import pyplot as plt"
      ],
      "metadata": {
        "id": "hme-WlDYM-Od"
      },
      "execution_count": null,
      "outputs": []
    },
    {
      "cell_type": "code",
      "source": [
        "estudiantes = ['Juan', 'María', 'José'] #listas\n",
        "notas = [9, 8.5, 6.5]\n"
      ],
      "metadata": {
        "id": "mv1h3vJsM-RK"
      },
      "execution_count": null,
      "outputs": []
    },
    {
      "cell_type": "code",
      "source": [
        "plt.bar(x=estudiantes, height=notas)\n",
        "plt.show()"
      ],
      "metadata": {
        "id": "GK77H828M-Zk",
        "outputId": "247fa24d-bfc8-452d-d85c-664e06d3e1e3",
        "colab": {
          "base_uri": "https://localhost:8080/",
          "height": 430
        }
      },
      "execution_count": null,
      "outputs": [
        {
          "output_type": "display_data",
          "data": {
            "text/plain": [
              "<Figure size 640x480 with 1 Axes>"
            ],
            "image/png": "[encoded data removed]"
          },
          "metadata": {}
        }
      ]
    },
    {
      "cell_type": "markdown",
      "source": [
        "#### Ejemplo 2: Vamos a seleccionar aleatoriamente a un alumno para presentar su trabajo de ciencia de datos usando la biblioteca `random`.\n",
        "\n",
        "(https://docs.python.org/es/3/library/random.html)"
      ],
      "metadata": {
        "id": "5G6u4ZRYRIFZ"
      }
    },
    {
      "cell_type": "code",
      "source": [
        "estudiantes_2 = ['Juan', 'María', 'José', 'Érica']"
      ],
      "metadata": {
        "id": "Y4o2AvhWNBdM"
      },
      "execution_count": null,
      "outputs": []
    },
    {
      "cell_type": "code",
      "source": [
        "import random"
      ],
      "metadata": {
        "id": "9fXfsVnANBiG"
      },
      "execution_count": null,
      "outputs": []
    },
    {
      "cell_type": "markdown",
      "source": [
        "<font color=green>**Tip:**</font> Podrás notar a medida que avanzas en los ejercicios la importancia de acudir a la documentación para aprender cómo utilizar un método de algún módulo en el lenguaje Python.\n",
        "\n",
        "El método `help()`, por ejemplo, retorna una descripción sobre una variable, método o clase.\n",
        "\n",
        "https://docs.python.org/es/3/library/functions.html?#help"
      ],
      "metadata": {
        "id": "N-XJrnISGpTN"
      }
    },
    {
      "cell_type": "code",
      "source": [
        "from random import choice"
      ],
      "metadata": {
        "id": "a2zJCXNUND9X"
      },
      "execution_count": null,
      "outputs": []
    },
    {
      "cell_type": "code",
      "source": [
        "estudiante = choice(estudiantes_2)\n",
        "estudiante"
      ],
      "metadata": {
        "id": "2Yvr71PIND_r",
        "outputId": "01766932-6353-4a2d-e154-2f676e46bc0c",
        "colab": {
          "base_uri": "https://localhost:8080/",
          "height": 36
        }
      },
      "execution_count": null,
      "outputs": [
        {
          "output_type": "execute_result",
          "data": {
            "text/plain": [
              "'José'"
            ],
            "application/vnd.google.colaboratory.intrinsic+json": {
              "type": "string"
            }
          },
          "metadata": {},
          "execution_count": 54
        }
      ]
    },
    {
      "cell_type": "code",
      "source": [
        "help(choice)"
      ],
      "metadata": {
        "id": "UFfZz4CxNGjU",
        "outputId": "16f65c53-e6e0-4a7a-b06b-524bc071b25b",
        "colab": {
          "base_uri": "https://localhost:8080/"
        }
      },
      "execution_count": null,
      "outputs": [
        {
          "output_type": "stream",
          "name": "stdout",
          "text": [
            "Help on method choice in module random:\n",
            "\n",
            "choice(seq) method of random.Random instance\n",
            "    Choose a random element from a non-empty sequence.\n",
            "\n"
          ]
        }
      ]
    },
    {
      "cell_type": "code",
      "source": [
        "help(random.choice)"
      ],
      "metadata": {
        "id": "ASU7U6WDAN8Q",
        "outputId": "dd75ee6a-fe10-4daf-af34-78c2e1ea8b5f",
        "colab": {
          "base_uri": "https://localhost:8080/"
        }
      },
      "execution_count": null,
      "outputs": [
        {
          "output_type": "stream",
          "name": "stdout",
          "text": [
            "Help on method choice in module random:\n",
            "\n",
            "choice(seq) method of random.Random instance\n",
            "    Choose a random element from a non-empty sequence.\n",
            "\n"
          ]
        }
      ]
    },
    {
      "cell_type": "code",
      "source": [
        "# Importamos los métodos randrange y sample de la biblioteca random\n",
        "from random import randrange, sample\n",
        "\n",
        "# Creamos una lista vacía para almacenar los números aleatorios\n",
        "lista = []\n",
        "\n",
        "# Generamos 20 números aleatorios y los agregamos a la lista\n",
        "for i in range(0, 20):\n",
        "    # randrange(100) genera un número aleatorio entre 0 y 99\n",
        "    lista.append(randrange(100))\n",
        "\n",
        "# Seleccionamos 5 elementos aleatorios de la lista\n",
        "# (Nota: el resultado no se almacena ni se imprime)\n",
        "sample(lista, 5)\n"
      ],
      "metadata": {
        "id": "7SJ6yaVFD_Ok",
        "outputId": "66c7e571-ad7a-41e7-8390-bfd29cc31038",
        "colab": {
          "base_uri": "https://localhost:8080/"
        }
      },
      "execution_count": null,
      "outputs": [
        {
          "output_type": "execute_result",
          "data": {
            "text/plain": [
              "[24, 93, 28, 21, 11]"
            ]
          },
          "metadata": {},
          "execution_count": 90
        }
      ]
    },
    {
      "cell_type": "code",
      "source": [
        "import math\n",
        "\n",
        "n = int(input(\"Digite um número positivo para calcular su raíz cuadrada:\"))\n",
        "print(f\"\\nLa raíz cuadrada de {n} es igual a {math.sqrt(n)}\")"
      ],
      "metadata": {
        "id": "bdhjNsnoIOMJ",
        "outputId": "a90508e9-9d7c-4dda-d8c5-7b231e650f08",
        "colab": {
          "base_uri": "https://localhost:8080/"
        }
      },
      "execution_count": null,
      "outputs": [
        {
          "output_type": "stream",
          "name": "stdout",
          "text": [
            "Digite um número positivo para calcular su raíz cuadrada:25\n",
            "\n",
            "La raíz cuadrada de 25 es igual a 5.0\n"
          ]
        }
      ]
    },
    {
      "cell_type": "code",
      "source": [
        "import math\n",
        "\n",
        "receita = 1000\n",
        "unidade = 15\n",
        "\n",
        "print(f\"La empresa vendió aproximadamente {math.ceil(receita/unidade)} unidades\")"
      ],
      "metadata": {
        "id": "kbHDcIkMV55I",
        "outputId": "fd04d677-8d34-4d83-a844-5aabfb9b21e0",
        "colab": {
          "base_uri": "https://localhost:8080/"
        }
      },
      "execution_count": null,
      "outputs": [
        {
          "output_type": "stream",
          "name": "stdout",
          "text": [
            "La empresa vendió aproximadamente 67 unidades\n"
          ]
        }
      ]
    },
    {
      "cell_type": "markdown",
      "source": [
        "# ***Ejercicios de repaso:***"
      ],
      "metadata": {
        "id": "6YhODwal3FdO"
      }
    },
    {
      "cell_type": "markdown",
      "source": [
        "1 - Escribe un código para instalar la versión 3.7.1 de la biblioteca matplotlib."
      ],
      "metadata": {
        "id": "Qp2jFCbG9kji"
      }
    },
    {
      "cell_type": "code",
      "source": [
        "#ejercicio 1\n",
        "#!pip install matplotlib==3.7.1"
      ],
      "metadata": {
        "id": "-TtuL7Xy3spl"
      },
      "execution_count": null,
      "outputs": []
    },
    {
      "cell_type": "markdown",
      "source": [
        "2 - Escribe un código para importar la biblioteca numpy con el alias np."
      ],
      "metadata": {
        "id": "-G3btzY59lfR"
      }
    },
    {
      "cell_type": "code",
      "source": [
        "#ejercicio 2\n",
        "import numpy as np"
      ],
      "metadata": {
        "id": "izGEnSgv3W19"
      },
      "execution_count": null,
      "outputs": []
    },
    {
      "cell_type": "markdown",
      "source": [
        "3 - Crea un programa que lea la siguiente lista de números y elija uno al azar."
      ],
      "metadata": {
        "id": "SdrYeeNf9mgJ"
      }
    },
    {
      "cell_type": "code",
      "source": [
        "#ejercicio 3\n",
        "import random\n",
        "#from random import sample\n",
        "lista = [8, 12, 54, 23, 43, 1, 90, 87, 105, 77]\n",
        "#print(f\"Su número elegido de manera aleatoria de la lista es: {sample(lista,1)}\")\n",
        "numero_aleatorio = random.choice(lista)\n",
        "print(f\"Su número elegido de manera aleatoria de la lista es: {numero_aleatorio}\")"
      ],
      "metadata": {
        "colab": {
          "base_uri": "https://localhost:8080/"
        },
        "id": "bSCHQZ2x47NW",
        "outputId": "4e9b77be-fe1d-428b-993c-58d183fe037e"
      },
      "execution_count": null,
      "outputs": [
        {
          "output_type": "stream",
          "name": "stdout",
          "text": [
            "Su número elegido de manera aleatoria de la lista es: 54\n"
          ]
        }
      ]
    },
    {
      "cell_type": "markdown",
      "source": [
        "4 - Crea un programa que genere aleatoriamente un número entero menor que 100."
      ],
      "metadata": {
        "id": "z12VtzXt9nw5"
      }
    },
    {
      "cell_type": "code",
      "source": [
        "'''from random import sample\n",
        "lista = []\n",
        "for i in range(1,101):\n",
        "    lista.append(i)\n",
        "\n",
        "print(f\"Su número elegido aleatoriamente entre 1 a 100 es: {sample(lista,1)}\")'''\n",
        "import random\n",
        "numero_aleatorio = random.randrange(100)\n",
        "print(f\"Su número elegido de manera aleatoria es: {numero_aleatorio}\")\n",
        "\n"
      ],
      "metadata": {
        "colab": {
          "base_uri": "https://localhost:8080/"
        },
        "id": "Ehf_czHN7htH",
        "outputId": "3bfe4fe5-9a9f-45eb-9b5a-7f7ab6aecb01"
      },
      "execution_count": null,
      "outputs": [
        {
          "output_type": "stream",
          "name": "stdout",
          "text": [
            "Su número elegido de manera aleatoria es: 55\n"
          ]
        }
      ]
    },
    {
      "cell_type": "code",
      "source": [
        "from random import sample\n",
        "lista = []\n",
        "for i in range(1,101): #números de 1 a 100\n",
        "    lista.append(i)\n",
        "\n",
        "print(f\"Su número elegido aleatoriamente entre 1 a 100 es: {sample(lista,1)}\")"
      ],
      "metadata": {
        "colab": {
          "base_uri": "https://localhost:8080/"
        },
        "id": "XmVrbMl87wdP",
        "outputId": "c0dd5451-5565-4b1a-9462-2427697b32b8"
      },
      "execution_count": null,
      "outputs": [
        {
          "output_type": "stream",
          "name": "stdout",
          "text": [
            "Su número elegido aleatoriamente entre 1 a 100 es: [11]\n"
          ]
        }
      ]
    },
    {
      "cell_type": "markdown",
      "source": [
        "5 - Crea un programa que solicite a la persona usuaria ingresar dos números enteros y calcule la potencia del primer número elevado al segundo."
      ],
      "metadata": {
        "id": "a5-n-3zY9ypX"
      }
    },
    {
      "cell_type": "code",
      "source": [
        "from math import pow\n",
        "while True:\n",
        "  valor_1 = input(\"Ingrese su primer número: \")\n",
        "  try:\n",
        "        valor_1 = int(valor_1)  # Intentamos convertir a entero\n",
        "        break                   # Si no lanza error, salimos del ciclo\n",
        "  except ValueError:\n",
        "        print(\"Error: debe ingresar un número entero\")\n",
        "while True:\n",
        "  valor_2 = input(\"Ingrese su segundo número: \")\n",
        "  try:\n",
        "        valor_2 = int(valor_2)  # Intentamos convertir a entero\n",
        "        break                   # Si no lanza error, salimos del ciclo\n",
        "  except ValueError:\n",
        "        print(\"Error: debe ingresar un número entero\")\n",
        "\n",
        "resultado = math.pow(valor_1, valor_2)\n",
        "resultado = int(resultado)\n",
        "print(f\"{valor_1} elevado a {valor_2} es: {resultado}\")\n"
      ],
      "metadata": {
        "colab": {
          "base_uri": "https://localhost:8080/"
        },
        "id": "XVGbBWQR-aN0",
        "outputId": "c8b62a59-724e-4f04-cc0b-74bc5eb8871f"
      },
      "execution_count": null,
      "outputs": [
        {
          "output_type": "stream",
          "name": "stdout",
          "text": [
            "Ingrese su primer número: 10\n",
            "Ingrese su segundo número: 2\n",
            "10 elevado a 2 es: 100\n"
          ]
        }
      ]
    },
    {
      "cell_type": "markdown",
      "source": [
        "6 - Se debe escribir un programa para sortear a un seguidor de una red social para ganar un premio. La lista de participantes está enumerada y debemos elegir aleatoriamente un número según la cantidad de participantes. Pide a la persona usuaria que proporcione el número de participantes del sorteo y devuelve el número sorteado."
      ],
      "metadata": {
        "id": "GJPlaMmZ9yvQ"
      }
    },
    {
      "cell_type": "code",
      "source": [
        "import random\n",
        "#from random import choice\n",
        "#validamos que sea un número entero y mayor a 0 el ingresado por usuario\n",
        "while True:\n",
        "  cant_participantes = input(\"Ingrese la cantidad de participantes en el sorteo: \")\n",
        "  try:\n",
        "        cant_participantes = int(cant_participantes)  # Intentamos convertir a entero\n",
        "        if cant_participantes > 0:\n",
        "          #print(f\"La cantidad de participantes es: {cant_participantes}\")\n",
        "          break                   # Si no hay error y el número es mayor a 0\n",
        "        else:\n",
        "          print(\"Debe ingresar un número mayor a 0\")\n",
        "\n",
        "  except ValueError:\n",
        "        print(\"Error: debe ingresar un número válido\")\n",
        "#cerramos ciclo while de la validación\n",
        "\n",
        "lista_participantes = []\n",
        "for i in range (1, cant_participantes+1):\n",
        "  lista_participantes.append(i)\n",
        "\n",
        "ganador = random.choice(lista_participantes)\n",
        "print(f\"El ganador del concurso es el participante número: [{ganador}]\")\n"
      ],
      "metadata": {
        "colab": {
          "base_uri": "https://localhost:8080/"
        },
        "id": "fuYFsnxp-bCR",
        "outputId": "03d344b8-32c6-4d3b-a1bf-ec1775c33359"
      },
      "execution_count": null,
      "outputs": [
        {
          "output_type": "stream",
          "name": "stdout",
          "text": [
            "Ingrese la cantidad de participantes en el sorteo: 100\n",
            "El ganador del concurso es el participante número: [12]\n"
          ]
        }
      ]
    },
    {
      "cell_type": "code",
      "source": [
        "import random\n",
        "import time  # Necesario para hacer pausas\n",
        "\n",
        "# Validación del número de participantes\n",
        "while True:\n",
        "    cant_participantes = input(\"Ingrese la cantidad de participantes en el sorteo: \")\n",
        "    try:\n",
        "        cant_participantes = int(cant_participantes)\n",
        "        if cant_participantes > 0:\n",
        "            break\n",
        "        else:\n",
        "            print(\"Debe ingresar un número mayor a 0\")\n",
        "    except ValueError:\n",
        "        print(\"Error: debe ingresar un número válido\")\n",
        "\n",
        "# Crear la lista de participantes\n",
        "lista_participantes = list(range(1, cant_participantes + 1))\n",
        "\n",
        "# Simulación tipo tómbola\n",
        "print(\"\\nGirando la tómbola...\")\n",
        "for _ in range(10):  # Muestra 10 números aleatorios antes del ganador\n",
        "    numero_mostrado = random.choice(lista_participantes)\n",
        "    print(f\"→ Número: {numero_mostrado}\", end=\"\\r\", flush=True)\n",
        "    time.sleep(0.3)  # Pausa breve entre cada número (0.3 segundos)\n",
        "\n",
        "# Espera 3 segundos antes de mostrar el ganador final\n",
        "time.sleep(3)\n",
        "ganador = random.choice(lista_participantes)\n",
        "print(f\"\\n🎉 ¡El ganador del concurso es el participante número: [{ganador}]! 🎉\")"
      ],
      "metadata": {
        "colab": {
          "base_uri": "https://localhost:8080/"
        },
        "id": "xHEHDHIvF4H7",
        "outputId": "270ad70c-fce4-4a39-8190-c33fcfd763f4"
      },
      "execution_count": null,
      "outputs": [
        {
          "output_type": "stream",
          "name": "stdout",
          "text": [
            "Ingrese la cantidad de participantes en el sorteo: 100\n",
            "\n",
            "Girando la tómbola...\n",
            "\n",
            "🎉 ¡El ganador del concurso es el participante número: [51]! 🎉\n"
          ]
        }
      ]
    },
    {
      "cell_type": "code",
      "source": [
        "import random\n",
        "import time\n",
        "\n",
        "# Validación del número de participantes\n",
        "while True:\n",
        "    cant_participantes = input(\"Ingrese la cantidad de participantes en el sorteo: \")\n",
        "    try:\n",
        "        cant_participantes = int(cant_participantes)\n",
        "        if cant_participantes > 0:\n",
        "            break\n",
        "        else:\n",
        "            print(\"Debe ingresar un número mayor a 0\")\n",
        "    except ValueError:\n",
        "        print(\"Error: debe ingresar un número válido\")\n",
        "\n",
        "# Crear la lista de participantes\n",
        "lista_participantes = list(range(1, cant_participantes + 1))\n",
        "\n",
        "# Simulación de tómbola visual (sin mensajes intermedios)\n",
        "for _ in range(25):  # cantidad de \"vueltas\"\n",
        "    numero_mostrado = random.choice(lista_participantes)\n",
        "    print(f\"🎰 Número: {numero_mostrado:>3}\", end=\"\\r\", flush=True)\n",
        "    time.sleep(0.1)  # velocidad de cambio de número\n",
        "\n",
        "# Espera 2 segundos antes de mostrar el ganador\n",
        "time.sleep(2)\n",
        "\n",
        "# Selección del ganador final\n",
        "ganador = random.choice(lista_participantes)\n",
        "print(\" \" * 30, end=\"\\r\")  # Limpia la línea\n",
        "print(f\"🎉 ¡El ganador del concurso es el participante número: [{ganador}]! 🎉\")\n"
      ],
      "metadata": {
        "colab": {
          "base_uri": "https://localhost:8080/"
        },
        "id": "9J1RgkuqGME0",
        "outputId": "84f8b38f-f0a8-46ab-ee0a-8b95c2763cdc"
      },
      "execution_count": null,
      "outputs": [
        {
          "output_type": "stream",
          "name": "stdout",
          "text": [
            "Ingrese la cantidad de participantes en el sorteo: 100\n",
            "🎉 ¡El ganador del concurso es el participante número: [34]! 🎉\n"
          ]
        }
      ]
    },
    {
      "cell_type": "code",
      "source": [
        "import random\n",
        "import time\n",
        "import os\n",
        "\n",
        "# Validación del número de participantes\n",
        "while True:\n",
        "    cant_participantes = input(\"Ingrese la cantidad de participantes en el sorteo: \")\n",
        "    try:\n",
        "        cant_participantes = int(cant_participantes)\n",
        "        if cant_participantes > 0:\n",
        "            break\n",
        "        else:\n",
        "            print(\"Debe ingresar un número mayor a 0\")\n",
        "    except ValueError:\n",
        "        print(\"Error: debe ingresar un número válido\")\n",
        "\n",
        "# Crear la lista de participantes\n",
        "lista_participantes = list(range(1, cant_participantes + 1))\n",
        "\n",
        "# Mostrar números aleatorios (efecto tómbola) — compatible con entornos web\n",
        "print(\"\\nSeleccionando número ganador...\\n\")\n",
        "for _ in range(15):\n",
        "    numero = random.choice(lista_participantes)\n",
        "    print(f\"> Número: {numero}\")\n",
        "    time.sleep(0.3)\n",
        "\n",
        "# Pausa antes del resultado final\n",
        "time.sleep(1)\n",
        "\n",
        "# Mostrar el ganador\n",
        "ganador = random.choice(lista_participantes)\n",
        "print(f\"\\n¡El ganador del concurso es el participante número: [{ganador}]! 🎉\")\n"
      ],
      "metadata": {
        "colab": {
          "base_uri": "https://localhost:8080/"
        },
        "id": "q_pbA90HGfkd",
        "outputId": "fa852484-fb3e-4950-9c7a-3772d2d8a612"
      },
      "execution_count": null,
      "outputs": [
        {
          "output_type": "stream",
          "name": "stdout",
          "text": [
            "Ingrese la cantidad de participantes en el sorteo: 100\n",
            "\n",
            "Seleccionando número ganador...\n",
            "\n",
            "> Número: 75\n",
            "> Número: 48\n",
            "> Número: 69\n",
            "> Número: 19\n",
            "> Número: 23\n",
            "> Número: 30\n",
            "> Número: 74\n",
            "> Número: 26\n",
            "> Número: 73\n",
            "> Número: 41\n",
            "> Número: 94\n",
            "> Número: 99\n",
            "> Número: 52\n",
            "> Número: 53\n",
            "> Número: 32\n",
            "\n",
            "¡El ganador del concurso es el participante número: [91]! 🎉\n"
          ]
        }
      ]
    },
    {
      "cell_type": "markdown",
      "source": [
        "7 - Has recibido una solicitud para generar números de token para acceder a la aplicación de una empresa. El token debe ser par y variar de 1000 a 9998. Escribe un código que solicite el nombre de la persona usuaria y muestre un mensaje junto a este token generado aleatoriamente.\n",
        "\n",
        "`print(f\"Hola, {nombre_usuario}, tu token de acceso es {token_generado} ¡Bienvenido/a!\")`"
      ],
      "metadata": {
        "id": "Mb4JXEmn9y0g"
      }
    },
    {
      "cell_type": "code",
      "source": [
        "import random\n",
        "nombre_usuario = input(\"Ingrese su nombre de usuario: \").capitalize()\n",
        "token_generado = random.randrange(1000,9998,2)\n",
        "print(f\"Hola {nombre_usuario}, tu token de acceso es el {token_generado} ¡Bienvenido/a!\")\n",
        "\n"
      ],
      "metadata": {
        "colab": {
          "base_uri": "https://localhost:8080/"
        },
        "id": "tWhlkxrU-bua",
        "outputId": "801a669c-f372-4645-ef10-d7831edaf4f1"
      },
      "execution_count": null,
      "outputs": [
        {
          "output_type": "stream",
          "name": "stdout",
          "text": [
            "Ingrese su nombre de usuario: daniel\n",
            "Hola Daniel, tu token de acceso es el 2408 ¡Bienvenido/a!\n"
          ]
        }
      ]
    },
    {
      "cell_type": "markdown",
      "source": [
        "8 - Para diversificar y atraer nuevos clientes, una lanchonete creó un ítem misterioso en su menú llamado \"ensalada de frutas sorpresa\". En este ítem, se eligen aleatoriamente 3 frutas de una lista de 12 para componer la ensalada de frutas del cliente. Crea el código que realice esta selección aleatoria según la lista dada.\n",
        "\n",
        "`frutas = [\"manzana\", \"banana\", \"uva\", \"pera\", \"mango\", \"coco\", \"sandia\", \"fresa\", \"naranja\", \"maracuya\", \"kiwi\", \"cereza\"]`"
      ],
      "metadata": {
        "id": "0KVu4FbO9y4C"
      }
    },
    {
      "cell_type": "code",
      "source": [
        "import random\n",
        "frutas = [\"manzana\", \"banana\", \"uva\", \"pera\", \"mango\", \"coco\", \"sandia\", \"fresa\", \"naranja\", \"maracuya\", \"kiwi\", \"cereza\"]\n",
        "frutas_seleccionadas = sample(frutas,3)\n",
        "print(f\"Sus frutas seleccionadas son: {frutas_seleccionadas[0].capitalize()}, {frutas_seleccionadas[1].capitalize()} y {frutas_seleccionadas[2].capitalize()}. \")"
      ],
      "metadata": {
        "colab": {
          "base_uri": "https://localhost:8080/"
        },
        "id": "G7C2lkPC-cSK",
        "outputId": "e72fe0c0-6562-4bdf-95a2-9447d5062e26"
      },
      "execution_count": null,
      "outputs": [
        {
          "output_type": "stream",
          "name": "stdout",
          "text": [
            "Sus frutas seleccionadas son: Naranja, Coco y Kiwi. \n"
          ]
        }
      ]
    },
    {
      "cell_type": "markdown",
      "source": [
        "9 - Has recibido un desafío para calcular la raíz cuadrada de una lista de números, identificando cuáles resultan en un número entero. La lista es la siguiente:\n",
        "\n",
        "`numeros = [2, 8, 15, 23, 91, 112, 256]`"
      ],
      "metadata": {
        "id": "0sO4dSLX-MCN"
      }
    },
    {
      "cell_type": "code",
      "source": [
        "import math\n",
        "numeros = [2, 8, 15, 23, 91, 112, 256]\n",
        "raiz_resultado_entero = [] #lista donde se almacenaran los valores cuya raiz cuadrada sea entera\n",
        "for num in numeros: #recorremos los valores de la lista original (numeros)\n",
        "  # Calculamos la raíz cuadrada y verificamos si no tiene decimales (es decir, si % 1 == 0)\n",
        "  if math.sqrt(num) % 1 == 0:\n",
        "    resultado = int(math.sqrt(num)) #convertir resultado de la raiz cuadrada a entero\n",
        "    print(f\"El número {num} tiene como resultado una raíz cuadrada con valor entero: {resultado}\")\n",
        "    raiz_resultado_entero.append(num) #ingresa a nueva lista el número cuyo resultado tiene como raíz cuadrada un valor entero\n",
        "\n",
        "print(f\"Según la lista proporcionada, esta es la nueva lista con los números cuya raíz cuadrada da como resultado un número entero: {raiz_resultado_entero}\")"
      ],
      "metadata": {
        "colab": {
          "base_uri": "https://localhost:8080/"
        },
        "id": "MME1FXby-dA5",
        "outputId": "aabe01e2-a5ff-485f-acb0-7d7c21e1bccb"
      },
      "execution_count": null,
      "outputs": [
        {
          "output_type": "stream",
          "name": "stdout",
          "text": [
            "El número 256 tiene como resultado una raíz cuadrada con valor entero: 16\n",
            "Según la lista proporcionada, esta es la nueva lista con los números cuya raíz cuadrada da como resultado un número entero: [256]\n"
          ]
        }
      ]
    },
    {
      "cell_type": "markdown",
      "source": [
        "10 - Haz un programa para una tienda que vende césped para jardines. Esta tienda trabaja con jardines circulares y el precio del metro cuadrado de césped es de R$ 25,00. Pide a la persona usuaria el radio del área circular y devuelve el valor en reales de cuánto tendrá que pagar."
      ],
      "metadata": {
        "id": "DwhFrx9L-MHe"
      }
    },
    {
      "cell_type": "code",
      "source": [
        "import math\n",
        "precio_cesped = 25\n",
        "while True:\n",
        "  radio = input(\"Ingrese el radio de su área circular de césped a comprar: \")\n",
        "  try:\n",
        "    radio = float(radio)\n",
        "    if radio > 0:\n",
        "      break\n",
        "    else:\n",
        "      print(\"Debe ingresar un valor mayor a 0\")\n",
        "  except ValueError:\n",
        "    print(\"Error: Debe ingresar un valor numérico.\")\n",
        "\n",
        "\n",
        "area = math.pi*math.pow(radio,2) #el 2 despues del radio es para elevar al cuadrado\n",
        "monto_a_pagar = round((precio_cesped * area),2) #el 2 al final, es para redondear a 2 decimales\n",
        "print(f\"Usted debe pagar: R$ {monto_a_pagar}\")\n"
      ],
      "metadata": {
        "colab": {
          "base_uri": "https://localhost:8080/"
        },
        "id": "qInjuxtO9xjA",
        "outputId": "30caa980-4bfd-44a2-de9d-8c0e18ddfa8d"
      },
      "execution_count": null,
      "outputs": [
        {
          "output_type": "stream",
          "name": "stdout",
          "text": [
            "Ingrese el radio de su área circular de césped a comprar: 2\n",
            "Usted debe pagar: R$ 314.16\n"
          ]
        }
      ]
    },
    {
      "cell_type": "code",
      "source": [
        "#Para que no pueda ser ingresado un valor con notación científica\n",
        "import math\n",
        "precio_cesped = 25\n",
        "\n",
        "while True:\n",
        "    radio = input(\"Ingrese el radio de su área circular de césped a comprar: \")\n",
        "\n",
        "    try:\n",
        "        radio_float = float(radio)\n",
        "\n",
        "        # Revisar si la entrada original fue notación científica válida\n",
        "        if 'e' in radio.lower() or 'E' in radio:\n",
        "            #print(f\"No se permite notación científica ({radio})\")\n",
        "            print(\"Error: debe ingresar un valor numérico válido.\")\n",
        "            continue\n",
        "\n",
        "        if radio_float > 0:\n",
        "            radio = radio_float  # Guardar el valor limpio\n",
        "            break\n",
        "        else:\n",
        "            print(\"Debe ingresar un número mayor a 0\")\n",
        "    except ValueError:\n",
        "        print(\"Error: debe ingresar un valor numérico válido.\")\n",
        "\n",
        "area = math.pi*math.pow(radio,2) #el 2 despues del radio es para elevar al cuadrado\n",
        "monto_a_pagar = round((precio_cesped * area),2) #el 2 al final, es para redondear a 2 decimales\n",
        "print(f\"Usted debe pagar: R$ {monto_a_pagar}\")"
      ],
      "metadata": {
        "id": "g39gBqwasQfD",
        "outputId": "f90e1749-43a5-4a4f-f061-8e70cfcd735d",
        "colab": {
          "base_uri": "https://localhost:8080/"
        }
      },
      "execution_count": null,
      "outputs": [
        {
          "output_type": "stream",
          "name": "stdout",
          "text": [
            "Ingrese el radio de su área circular de césped a comprar: 2\n",
            "Usted debe pagar: R$ 314.16\n"
          ]
        }
      ]
    },
    {
      "cell_type": "markdown",
      "source": [
        "## <font color=green> 2. FUNCIONES\n",
        "---"
      ],
      "metadata": {
        "id": "2hrSPmlcBwWS"
      }
    },
    {
      "cell_type": "markdown",
      "source": [
        "En Python, las **funciones** son secuencias de instrucciones que ejecutan tareas específicas, permitiendo su reutilización en diferentes partes del código. Estas pueden recibir parámetros de entrada (que también los conocemos como *inputs*) y también retornar resultados."
      ],
      "metadata": {
        "id": "gC4lHsW-DREY"
      }
    },
    {
      "cell_type": "markdown",
      "source": [
        "## 2.1 Built-in function (Función Incorporada)\n",
        "\n",
        "El interpretador de Python contiene una serie de funciones incorporadas que pueden ser invocadas es cualquier momento. Algunas que vamos a utilizar a lo largo de este curso son: `type()`, `print()`, `list()`, `zip()`, `sum()`, `map()`, etc.\n",
        "\n",
        "***Documentación:***\n",
        "https://docs.python.org/es/3/library/functions.html\n"
      ],
      "metadata": {
        "id": "Qr_h1_UNEzHZ"
      }
    },
    {
      "cell_type": "markdown",
      "source": [
        "#### **Situación 1:**\n",
        "\n",
        "La institución educativa para la cual nos encontramos trabajando compartió los datos de las notas de un estudiante para que pudiesemos calcular su promedio con una casilla decimal.\n",
        "\n",
        "Los datos recibidos corresponden a un diccionario cuyas llaves indican el trimestre en cuestión y sus valores corresponden a las notas de cada trimestre del estudiante en una respectiva materia."
      ],
      "metadata": {
        "id": "MMOJIW3TyLIB"
      }
    },
    {
      "cell_type": "code",
      "source": [
        "notas = {'1° Trimestre': 9.5, '2° Trimestre': 8, '3° Trimestre': 7}"
      ],
      "metadata": {
        "id": "WQ-pCgdaMOlc"
      },
      "execution_count": null,
      "outputs": []
    },
    {
      "cell_type": "code",
      "source": [
        "suma = 0\n",
        "for nota in notas.values():\n",
        "  suma += nota\n",
        "print(suma)"
      ],
      "metadata": {
        "id": "GU-HvC-QMOoS",
        "colab": {
          "base_uri": "https://localhost:8080/"
        },
        "outputId": "6b1a6b9b-3213-41b8-bf69-208311f2ae76"
      },
      "execution_count": null,
      "outputs": [
        {
          "output_type": "stream",
          "name": "stdout",
          "text": [
            "24.5\n"
          ]
        }
      ]
    },
    {
      "cell_type": "code",
      "source": [
        "promedio = sum(notas.values())/len(notas)\n",
        "promedio"
      ],
      "metadata": {
        "id": "qKEyjY2bMOqj",
        "colab": {
          "base_uri": "https://localhost:8080/"
        },
        "outputId": "f3573c4f-c8a3-4b6f-b64d-a56e04b54d7f"
      },
      "execution_count": null,
      "outputs": [
        {
          "output_type": "execute_result",
          "data": {
            "text/plain": [
              "8.166666666666666"
            ]
          },
          "metadata": {},
          "execution_count": 11
        }
      ]
    },
    {
      "cell_type": "markdown",
      "source": [
        "*Redondear el promedio usando round():*\n",
        "\n",
        "https://docs.python.org/es/3/library/functions.html#round"
      ],
      "metadata": {
        "id": "JD2z3LW8312E"
      }
    },
    {
      "cell_type": "code",
      "source": [
        "help(round)"
      ],
      "metadata": {
        "id": "c7Cn5XFfMP5E",
        "colab": {
          "base_uri": "https://localhost:8080/"
        },
        "outputId": "08165df2-aea1-46b9-dacd-4ff44e8e23b7"
      },
      "execution_count": null,
      "outputs": [
        {
          "output_type": "stream",
          "name": "stdout",
          "text": [
            "Help on built-in function round in module builtins:\n",
            "\n",
            "round(number, ndigits=None)\n",
            "    Round a number to a given precision in decimal digits.\n",
            "    \n",
            "    The return value is an integer if ndigits is omitted or None.  Otherwise\n",
            "    the return value has the same type as the number.  ndigits may be negative.\n",
            "\n"
          ]
        }
      ]
    },
    {
      "cell_type": "code",
      "source": [
        "promedio = round(promedio,1)\n",
        "promedio"
      ],
      "metadata": {
        "id": "eVNPFr0pMRWl",
        "colab": {
          "base_uri": "https://localhost:8080/"
        },
        "outputId": "f2aaa08b-4046-4725-a2d3-f67c5d95b714"
      },
      "execution_count": null,
      "outputs": [
        {
          "output_type": "execute_result",
          "data": {
            "text/plain": [
              "8.2"
            ]
          },
          "metadata": {},
          "execution_count": 17
        }
      ]
    },
    {
      "cell_type": "code",
      "source": [
        "peso = float(input(\"Digita el peso, en kilogramos: \"))\n",
        "altura = float(input(\"Digita la altura, en metros: \"))\n",
        "\n",
        "imc = round(peso / pow(altura, 2), 2)\n",
        "\n",
        "print(f\"El IMC de la persona es: {imc}\")"
      ],
      "metadata": {
        "colab": {
          "base_uri": "https://localhost:8080/"
        },
        "id": "Jw0pwRh2a-Ol",
        "outputId": "6e93906e-1a3f-4c63-e32c-cb4974f764b0"
      },
      "execution_count": null,
      "outputs": [
        {
          "output_type": "stream",
          "name": "stdout",
          "text": [
            "Digita el peso, en kilogramos: 69\n",
            "Digita la altura, en metros: 1.63\n",
            "El IMC de la persona es: 25.97\n"
          ]
        }
      ]
    },
    {
      "cell_type": "markdown",
      "source": [
        "## 2.2 Creando funciones"
      ],
      "metadata": {
        "id": "NCUSezOJIdfy"
      }
    },
    {
      "cell_type": "markdown",
      "source": [
        "Tras explorar las funciones incorporadas y aprender cómo utilizar algunas de ellas, es posible que tengas la necesidad de resolver un problema específico y estas no sean suficientes.\n",
        "\n",
        "Por este motivo, necesitaremos crear nuestras propias funciones, y aún más, si necesitamos aplicarlas en varias partes de nuestros códigos."
      ],
      "metadata": {
        "id": "QrTAXwghsg6s"
      }
    },
    {
      "cell_type": "markdown",
      "source": [
        "### Funciones sin parámetros\n",
        "\n",
        "#### Formato estándar:\n",
        "\n",
        "```python\n",
        "def <nombre>():\n",
        "  <instrucciones>\n",
        "```"
      ],
      "metadata": {
        "id": "zxyXiX462A_X"
      }
    },
    {
      "cell_type": "code",
      "source": [
        "def promedio(): #crea función\n",
        "  calculo = (10+9+7)/3\n",
        "  print(calculo)"
      ],
      "metadata": {
        "id": "WgWoULpnMSrT"
      },
      "execution_count": null,
      "outputs": []
    },
    {
      "cell_type": "code",
      "source": [
        "promedio() #ejecuta o llama a la función"
      ],
      "metadata": {
        "id": "VKfg0zkDMStp",
        "colab": {
          "base_uri": "https://localhost:8080/"
        },
        "outputId": "3474dee0-6dda-42f7-8c29-959674085ee4"
      },
      "execution_count": null,
      "outputs": [
        {
          "output_type": "stream",
          "name": "stdout",
          "text": [
            "8.666666666666666\n"
          ]
        }
      ]
    },
    {
      "cell_type": "code",
      "source": [],
      "metadata": {
        "id": "04YIHBu-MTNB"
      },
      "execution_count": null,
      "outputs": []
    },
    {
      "cell_type": "markdown",
      "source": [
        "### Funciones con parámetros\n",
        "\n",
        "#### Formato estándar:\n",
        "\n",
        "```python\n",
        "def <nombre>(<param_1>, <param_2>, ..., <param_n>):\n",
        "  <instrucciones>\n",
        "```"
      ],
      "metadata": {
        "id": "o9AR_DNDFKSD"
      }
    },
    {
      "cell_type": "code",
      "source": [
        "def promedio(nota_1, nota_2, nota_3): #crea función con parámetros\n",
        "  calculo = (nota_1 + nota_2 + nota_3)/3\n",
        "  print(calculo)"
      ],
      "metadata": {
        "id": "1QHJXCYsMUx3"
      },
      "execution_count": null,
      "outputs": []
    },
    {
      "cell_type": "code",
      "source": [
        "promedio(10,9,7) #llama a la función con sus respectivos argumentos"
      ],
      "metadata": {
        "id": "txkkIwheMU0n",
        "colab": {
          "base_uri": "https://localhost:8080/"
        },
        "outputId": "782f9d40-c95e-4714-82a7-36c969e0eddf"
      },
      "execution_count": null,
      "outputs": [
        {
          "output_type": "stream",
          "name": "stdout",
          "text": [
            "8.666666666666666\n"
          ]
        }
      ]
    },
    {
      "cell_type": "code",
      "source": [
        "promedio(nota_1=10, nota_2=9, nota_3=7) # llama a la función promedio con argumentos nombrados"
      ],
      "metadata": {
        "id": "Pq88ApQEMWK9",
        "colab": {
          "base_uri": "https://localhost:8080/"
        },
        "outputId": "d74628f6-aca9-4650-a290-ec1568fbc14b"
      },
      "execution_count": null,
      "outputs": [
        {
          "output_type": "stream",
          "name": "stdout",
          "text": [
            "8.666666666666666\n"
          ]
        }
      ]
    },
    {
      "cell_type": "markdown",
      "source": [
        "#### **Situación 2:**\n",
        "\n",
        "Recibimos una solicitud para crear una función que calcule el promedio de notas de un estudiante a partir de una lista; que permita alterar la cantidad de notas, y que no implique tener que modificar la función.\n",
        "\n",
        "Los datos recibidos, en esta ocasión, corresponden a una lista que contiene las notas de un mismo estudiante en una determinada materia.\n",
        "\n",
        "notas = 8.5, 9.0, 6.0, 10.0\n",
        "\n",
        "**¿Vamos a resolver este desafío?**\n",
        "\n",
        "Para facilitar nuestra comprensión del proceso, vamos a aplicar las notas de un único estudiante; sin embargo, puedes probar otros casos para practicar."
      ],
      "metadata": {
        "id": "-Umx7n134suz"
      }
    },
    {
      "cell_type": "code",
      "source": [
        "notas = [8.5, 9.0, 6.0, 10.0] #lista de notas"
      ],
      "metadata": {
        "id": "U4MlTO9ucAKc"
      },
      "execution_count": null,
      "outputs": []
    },
    {
      "cell_type": "code",
      "source": [
        "def promedio(lista): #crea función con 'lista' como parámetro\n",
        "  calculo = sum(lista)/len(lista)\n",
        "  print(calculo)"
      ],
      "metadata": {
        "id": "ZrqyDBNFMYOK"
      },
      "execution_count": null,
      "outputs": []
    },
    {
      "cell_type": "code",
      "source": [
        "promedio(notas) #llama a la función promedio"
      ],
      "metadata": {
        "id": "wEkixagwMY2E",
        "colab": {
          "base_uri": "https://localhost:8080/"
        },
        "outputId": "4068d2f2-ffd7-4119-ca13-50d4645e70b7"
      },
      "execution_count": null,
      "outputs": [
        {
          "output_type": "stream",
          "name": "stdout",
          "text": [
            "8.375\n"
          ]
        }
      ]
    },
    {
      "cell_type": "code",
      "source": [
        "media = promedio(notas)"
      ],
      "metadata": {
        "id": "60Gvxd9tMa5d",
        "colab": {
          "base_uri": "https://localhost:8080/"
        },
        "outputId": "ef474cc1-7f97-4934-f1ee-2792f75432a7"
      },
      "execution_count": null,
      "outputs": [
        {
          "output_type": "stream",
          "name": "stdout",
          "text": [
            "8.375\n"
          ]
        }
      ]
    },
    {
      "cell_type": "markdown",
      "source": [
        "El tipo NoneType aparece cuando una función no devuelve ningún valor. En Python, si una función no tiene una salida definida, su resultado por defecto es None."
      ],
      "metadata": {
        "id": "n_lJZVhboHlw"
      }
    },
    {
      "cell_type": "code",
      "source": [
        "type(media) #"
      ],
      "metadata": {
        "id": "1DTCrlIHnLUL",
        "outputId": "7b42ecdd-46a3-4615-aad5-b10a13857db8",
        "colab": {
          "base_uri": "https://localhost:8080/"
        }
      },
      "execution_count": null,
      "outputs": [
        {
          "output_type": "execute_result",
          "data": {
            "text/plain": [
              "NoneType"
            ]
          },
          "metadata": {},
          "execution_count": 41
        }
      ]
    },
    {
      "cell_type": "code",
      "source": [
        "x = 7\n",
        "\n",
        "def suma():\n",
        "  y = 9\n",
        "  print(x + y)"
      ],
      "metadata": {
        "id": "dTOPA4hFLKYo"
      },
      "execution_count": null,
      "outputs": []
    },
    {
      "cell_type": "code",
      "source": [
        "suma()"
      ],
      "metadata": {
        "id": "xz1InytfLQDw",
        "outputId": "835921a5-1026-4e76-ac4b-b14881c2fa49",
        "colab": {
          "base_uri": "https://localhost:8080/"
        }
      },
      "execution_count": null,
      "outputs": [
        {
          "output_type": "stream",
          "name": "stdout",
          "text": [
            "16\n"
          ]
        }
      ]
    },
    {
      "cell_type": "code",
      "source": [
        "type(x)"
      ],
      "metadata": {
        "id": "dQqEtFw7LT9h",
        "outputId": "e29b63b1-e8c3-4686-c4cb-5141eaac3f9d",
        "colab": {
          "base_uri": "https://localhost:8080/"
        }
      },
      "execution_count": null,
      "outputs": [
        {
          "output_type": "execute_result",
          "data": {
            "text/plain": [
              "int"
            ]
          },
          "metadata": {},
          "execution_count": 3
        }
      ]
    },
    {
      "cell_type": "code",
      "source": [
        "type(y)"
      ],
      "metadata": {
        "id": "H6HFydJELUJb",
        "outputId": "436fa389-8df7-4076-c4f7-a3bb54eee078",
        "colab": {
          "base_uri": "https://localhost:8080/",
          "height": 146
        }
      },
      "execution_count": null,
      "outputs": [
        {
          "output_type": "error",
          "ename": "NameError",
          "evalue": "name 'y' is not defined",
          "traceback": [
            "\u001b[0;31m---------------------------------------------------------------------------\u001b[0m",
            "\u001b[0;31mNameError\u001b[0m                                 Traceback (most recent call last)",
            "\u001b[0;32m<ipython-input-4-74463a5214db>\u001b[0m in \u001b[0;36m<cell line: 0>\u001b[0;34m()\u001b[0m\n\u001b[0;32m----> 1\u001b[0;31m \u001b[0mtype\u001b[0m\u001b[0;34m(\u001b[0m\u001b[0my\u001b[0m\u001b[0;34m)\u001b[0m\u001b[0;34m\u001b[0m\u001b[0;34m\u001b[0m\u001b[0m\n\u001b[0m",
            "\u001b[0;31mNameError\u001b[0m: name 'y' is not defined"
          ]
        }
      ]
    },
    {
      "cell_type": "code",
      "source": [
        "x = 7\n",
        "\n",
        "def suma():\n",
        "  global y\n",
        "  y = 9\n",
        "  print(x + y)"
      ],
      "metadata": {
        "id": "1ZJLfDQgLcGF"
      },
      "execution_count": null,
      "outputs": []
    },
    {
      "cell_type": "code",
      "source": [
        "suma()"
      ],
      "metadata": {
        "id": "i4nP7Wo2LhDe",
        "outputId": "719c7d40-18c3-49a8-ab2e-2c5193d9c588",
        "colab": {
          "base_uri": "https://localhost:8080/"
        }
      },
      "execution_count": null,
      "outputs": [
        {
          "output_type": "stream",
          "name": "stdout",
          "text": [
            "16\n"
          ]
        }
      ]
    },
    {
      "cell_type": "code",
      "source": [
        "type(x)"
      ],
      "metadata": {
        "id": "kWVzqfejLhK_",
        "outputId": "736020ea-d5fe-464a-b281-5b1adae69b24",
        "colab": {
          "base_uri": "https://localhost:8080/"
        }
      },
      "execution_count": null,
      "outputs": [
        {
          "output_type": "execute_result",
          "data": {
            "text/plain": [
              "int"
            ]
          },
          "metadata": {},
          "execution_count": 9
        }
      ]
    },
    {
      "cell_type": "code",
      "source": [
        "type(y)"
      ],
      "metadata": {
        "id": "Mw-ieqoSLjCH",
        "outputId": "25585703-43b9-4909-f110-7c25066d0a41",
        "colab": {
          "base_uri": "https://localhost:8080/"
        }
      },
      "execution_count": null,
      "outputs": [
        {
          "output_type": "execute_result",
          "data": {
            "text/plain": [
              "int"
            ]
          },
          "metadata": {},
          "execution_count": 10
        }
      ]
    },
    {
      "cell_type": "markdown",
      "source": [
        "<font color=red>**Atención!**</font>\n",
        "Cuando utilizamos funciones, necesitamos prestar atención a una propiedad llamada **Alcance de una función**. Esta propiedad determina dónde una variable puede ser utilizada dentro del código. Por ejemplo, una variable creada dentro de una función existirá únicamente dentro de esta función. O sea, cuando finaliza la ejecución de una función, la variable no estará disponible para el usuario en el resto del código."
      ],
      "metadata": {
        "id": "skMq7d0_xHND"
      }
    },
    {
      "cell_type": "code",
      "source": [],
      "metadata": {
        "id": "yTOqJSgsMbdJ"
      },
      "execution_count": null,
      "outputs": []
    },
    {
      "cell_type": "markdown",
      "source": [
        "## 2.3 Funciones que retornan valores\n",
        "\n",
        "#### Formato estándar:\n",
        "\n",
        "```python\n",
        "def <nombre>(<param_1>, <param_2>, ..., <param_n>):\n",
        "  <instrucciones>\n",
        "  return resultado\n",
        "```"
      ],
      "metadata": {
        "id": "-oDFGKcA52kG"
      }
    },
    {
      "cell_type": "markdown",
      "source": [
        "Retomando la actividad anterior, podemos retornar y guardar el valor del promedio de la siguiente forma:"
      ],
      "metadata": {
        "id": "DxvT_uItbQ-q"
      }
    },
    {
      "cell_type": "code",
      "source": [
        "# Notas del estudiante\n",
        "notas = [8.5, 9.0, 6.0, 10.0]"
      ],
      "metadata": {
        "id": "GlWdnX7Ubgl3"
      },
      "execution_count": null,
      "outputs": []
    },
    {
      "cell_type": "code",
      "source": [
        "def promedio(lista):\n",
        "  resultado = sum(lista)/len(lista)\n",
        "  return resultado\n"
      ],
      "metadata": {
        "id": "p7AwNnTCMgLf"
      },
      "execution_count": null,
      "outputs": []
    },
    {
      "cell_type": "code",
      "source": [
        "promedio(notas)"
      ],
      "metadata": {
        "id": "35zC247QMgRP",
        "colab": {
          "base_uri": "https://localhost:8080/"
        },
        "outputId": "6cb105fb-08fa-4ab2-8d28-89da32d9134d"
      },
      "execution_count": null,
      "outputs": [
        {
          "output_type": "execute_result",
          "data": {
            "text/plain": [
              "8.375"
            ]
          },
          "metadata": {},
          "execution_count": 79
        }
      ]
    },
    {
      "cell_type": "code",
      "source": [
        "resultado = promedio(notas)\n",
        "resultado"
      ],
      "metadata": {
        "id": "TjmB8IWpMgV4",
        "colab": {
          "base_uri": "https://localhost:8080/"
        },
        "outputId": "0a5f7664-ac7c-45d4-f56c-7a7bf0ba0254"
      },
      "execution_count": null,
      "outputs": [
        {
          "output_type": "execute_result",
          "data": {
            "text/plain": [
              "8.375"
            ]
          },
          "metadata": {},
          "execution_count": 81
        }
      ]
    },
    {
      "cell_type": "code",
      "source": [
        "type(resultado)"
      ],
      "metadata": {
        "colab": {
          "base_uri": "https://localhost:8080/"
        },
        "id": "dgXaHa1RLfa0",
        "outputId": "40c2da56-0b9d-4ace-bda4-c95c6ed510a4"
      },
      "execution_count": null,
      "outputs": [
        {
          "output_type": "execute_result",
          "data": {
            "text/plain": [
              "float"
            ]
          },
          "metadata": {},
          "execution_count": 76
        }
      ]
    },
    {
      "cell_type": "code",
      "source": [],
      "metadata": {
        "id": "lbeYJIwGLfuG"
      },
      "execution_count": null,
      "outputs": []
    },
    {
      "cell_type": "markdown",
      "source": [
        "#### **Situación 3:**\n",
        "\n",
        "Recibimos una nueva solicitud. Debemos calcular el promedio de un estudiante a partir de una lista y retornar tanto el promedio como la situación del estudiante (\"Aprobado(a)\" si la nota es mayor o igual a 7.0, en caso contrario, será \"Reprobado(a)\").\n",
        "\n",
        "Además de ello, necesitamos exhibir un pequeño texto para indicar el promedio del estudiante y cuál es su situación. Los datos recibidos corresponden a una lista que contiene apenas las notas de un estudiante en una materia determinada.\n",
        "\n",
        "**¿Vamos a resolver este desafío?**\n",
        "\n",
        "Para facilitar nuestra comprensión del proceso, vamos a aplicar las notas de un único estudiante; sin embargo, puedes probar otros casos para practicar."
      ],
      "metadata": {
        "id": "_awyOKOH8OOi"
      }
    },
    {
      "cell_type": "code",
      "source": [
        "# Notas del estudiante\n",
        "notas = [8.5, 9.0, 6.0, 10.0] #lista de notas"
      ],
      "metadata": {
        "id": "3saGo2kDf0BY"
      },
      "execution_count": null,
      "outputs": []
    },
    {
      "cell_type": "code",
      "source": [
        "def informe_notas(lista):  #función\n",
        "  resultado = sum(lista)/len(lista)\n",
        "  if resultado >= 7:\n",
        "    situacion = 'Aprobado(a)'\n",
        "  else:\n",
        "    situacion = 'Reprobado(a)'\n",
        "  return (resultado, situacion)"
      ],
      "metadata": {
        "id": "unNLrdFjMjbv"
      },
      "execution_count": null,
      "outputs": []
    },
    {
      "cell_type": "code",
      "source": [
        "informe_notas(notas) #mostramos resultado"
      ],
      "metadata": {
        "id": "Rmvg4hNeMjeD",
        "colab": {
          "base_uri": "https://localhost:8080/"
        },
        "outputId": "53b6c941-dcd6-4959-d385-31b7acc6aa44"
      },
      "execution_count": null,
      "outputs": [
        {
          "output_type": "execute_result",
          "data": {
            "text/plain": [
              "(8.375, 'Aprobado(a)')"
            ]
          },
          "metadata": {},
          "execution_count": 91
        }
      ]
    },
    {
      "cell_type": "code",
      "source": [
        "resultado, situacion = informe_notas(notas) #Llama a informe_notas y guarda el promedio y la situación."
      ],
      "metadata": {
        "id": "jCYuFpmeMji6"
      },
      "execution_count": null,
      "outputs": []
    },
    {
      "cell_type": "code",
      "source": [
        "print(f'El/la estudiante obtuvo un puntaje de: {resultado} y su sitaución es: {situacion}')"
      ],
      "metadata": {
        "id": "hSht0Z2cMjlT",
        "colab": {
          "base_uri": "https://localhost:8080/"
        },
        "outputId": "3d4fa0f2-1344-4b5e-ee84-38f23f27861f"
      },
      "execution_count": null,
      "outputs": [
        {
          "output_type": "stream",
          "name": "stdout",
          "text": [
            "El/la estudiante obtuvo un puntaje de: 8.375 y su sitaución es: Aprobado(a)\n"
          ]
        }
      ]
    },
    {
      "cell_type": "code",
      "source": [
        "notas_2 = [7.5, 4.0, 3.0, 10.0] #lista de notas_2"
      ],
      "metadata": {
        "id": "tLdjCulMMjnD"
      },
      "execution_count": null,
      "outputs": []
    },
    {
      "cell_type": "code",
      "source": [
        "def informe_notas(lista):  #funcion\n",
        "  resultado = sum(lista)/len(lista)\n",
        "  if resultado >= 7:\n",
        "    situacion = 'Aprobado'\n",
        "  else:\n",
        "    situacion = 'Reprobado'\n",
        "  return f'El/la estudiante obtuvo un puntaje de: {resultado} y su situación es: {situacion}'"
      ],
      "metadata": {
        "id": "we1lIU_Hd-Ds"
      },
      "execution_count": null,
      "outputs": []
    },
    {
      "cell_type": "code",
      "source": [
        "informe_notas(notas_2) # Llama a informe_notas para calcular con notas_2."
      ],
      "metadata": {
        "colab": {
          "base_uri": "https://localhost:8080/",
          "height": 36
        },
        "id": "mDXJWP3vehp3",
        "outputId": "b0bf8c18-7f59-47e3-dabb-529bde8e66fd"
      },
      "execution_count": null,
      "outputs": [
        {
          "output_type": "execute_result",
          "data": {
            "text/plain": [
              "'El/la estudiante obtuvo un puntaje de: 6.125 y su situación es: Reprobado'"
            ],
            "application/vnd.google.colaboratory.intrinsic+json": {
              "type": "string"
            }
          },
          "metadata": {},
          "execution_count": 100
        }
      ]
    },
    {
      "cell_type": "markdown",
      "source": [
        "## 2.4 Funciones lambda\n",
        "\n",
        "También se conocen como funciones anónimas, son funciones que no necesitan ser definidas, o sea, no poseen un nombre, y describen en una única fila los comandos que deseamos aplicar.\n",
        "\n",
        "https://docs.python.org/es/3/reference/expressions.html?#lambda\n",
        "\n",
        "#### Formato estándar:\n",
        "\n",
        "```python\n",
        "lambda <variable>: <expresion>\n",
        "```"
      ],
      "metadata": {
        "id": "hwYYRpkZMft5"
      }
    },
    {
      "cell_type": "markdown",
      "source": [
        "sin lambda"
      ],
      "metadata": {
        "id": "uwJ_bySzPpar"
      }
    },
    {
      "cell_type": "code",
      "source": [
        "nota_ingresada = float(input('Digite una nota: '))\n",
        "\n",
        "def cualitativa(nota):\n",
        "  return nota+0.5\n",
        "\n",
        "cualitativa(nota_ingresada)\n"
      ],
      "metadata": {
        "id": "wcNxDJoPMmTJ",
        "outputId": "1e75c0e3-3417-431d-9103-cd3d5eb8f4b8",
        "colab": {
          "base_uri": "https://localhost:8080/"
        }
      },
      "execution_count": null,
      "outputs": [
        {
          "name": "stdout",
          "output_type": "stream",
          "text": [
            "Digite una nota: 6\n"
          ]
        },
        {
          "output_type": "execute_result",
          "data": {
            "text/plain": [
              "6.5"
            ]
          },
          "metadata": {},
          "execution_count": 12
        }
      ]
    },
    {
      "cell_type": "markdown",
      "source": [
        "con lambda"
      ],
      "metadata": {
        "id": "HZh18CWRPsD3"
      }
    },
    {
      "cell_type": "code",
      "source": [
        "nota_ingresada = float(input('Digite una nota: '))\n",
        "\n",
        "cualitativa = lambda x: x+0.5\n",
        "\n",
        "cualitativa(nota_ingresada)"
      ],
      "metadata": {
        "id": "S-baAoaQMmVy",
        "outputId": "201f74bd-edfc-43f4-fdca-edc5b8687882",
        "colab": {
          "base_uri": "https://localhost:8080/"
        }
      },
      "execution_count": null,
      "outputs": [
        {
          "name": "stdout",
          "output_type": "stream",
          "text": [
            "Digite una nota: 6\n"
          ]
        },
        {
          "output_type": "execute_result",
          "data": {
            "text/plain": [
              "6.5"
            ]
          },
          "metadata": {},
          "execution_count": 16
        }
      ]
    },
    {
      "cell_type": "markdown",
      "source": [
        "#### **Situación 4:**\n",
        "\n",
        "En esta nueva solicitud, necesitamos crear una calculadora simple para obtener el promedio ponderado de notas de una materia determinada. Vamos a pedir que el usuario introduzca 3 notas (N1, N2, N3) del estudiante y devuelva el promedio ponderado de este estudiante. Los pesos de las notas son de, respectivamente 3, 2 y 5.\n",
        "\n",
        "Necesitamos exhibir un pequeño texto para poder indicar el promedio del estudiante.\n",
        "**¿Vamos a resolver este desafío?**\n"
      ],
      "metadata": {
        "id": "AuRWyNXYgD_b"
      }
    },
    {
      "cell_type": "markdown",
      "source": [
        "**Resolviendo nuestro problema:**"
      ],
      "metadata": {
        "id": "vdKk3DRBmtUE"
      }
    },
    {
      "cell_type": "code",
      "source": [
        "notas = [3,2,5]\n",
        "promedio = lambda nota: sum(nota)/len(nota)\n",
        "promedio(notas)"
      ],
      "metadata": {
        "id": "6YxEn9aiMnYJ",
        "outputId": "191cdbfd-05fe-4b63-ce18-0dbd6630beb9",
        "colab": {
          "base_uri": "https://localhost:8080/"
        }
      },
      "execution_count": null,
      "outputs": [
        {
          "output_type": "execute_result",
          "data": {
            "text/plain": [
              "3.3333333333333335"
            ]
          },
          "metadata": {},
          "execution_count": 18
        }
      ]
    },
    {
      "cell_type": "code",
      "source": [
        "notas = []\n",
        "peso = [3,2,5]\n",
        "for i in range(3):\n",
        "  nota = float(input('Digite su nota: '))\n",
        "  resultado = nota* peso[i]\n",
        "  notas.append(resultado)\n",
        "promedio = lambda calificacion, valor: sum(calificacion)/valor\n",
        "# promedio(notas,sum(peso))\n",
        "nota_final = promedio(notas,sum(peso))\n",
        "print(f'La nota final del estudiante es: {nota_final}')"
      ],
      "metadata": {
        "id": "Ptn9gQaPMnaz",
        "outputId": "31f0e3a3-25bc-4d55-877e-7c9dc5c8fab6",
        "colab": {
          "base_uri": "https://localhost:8080/"
        }
      },
      "execution_count": null,
      "outputs": [
        {
          "output_type": "stream",
          "name": "stdout",
          "text": [
            "Digite su nota: 7\n",
            "Digite su nota: 8\n",
            "Digite su nota: 9.6\n",
            "La nota final del estudiante es: 8.5\n"
          ]
        }
      ]
    },
    {
      "cell_type": "code",
      "source": [
        "n1 = float(input('Digite primera nota: '))\n",
        "n2 = float(input('Digite segunda nota: '))\n",
        "n3 = float(input('Digite tercera nota: '))\n",
        "ponderado = lambda x,y,z: (x*3+y*2+z*5)/10\n",
        "# ponderado(n1,n2,n3)\n",
        "nota_final = ponderado(n1,n2,n3)\n",
        "print(f'La nota final del estudiante es: {nota_final}')"
      ],
      "metadata": {
        "id": "q4qQNbmxTOhw",
        "outputId": "40bf9d15-a747-472d-ca2f-3106c05835ff",
        "colab": {
          "base_uri": "https://localhost:8080/"
        }
      },
      "execution_count": null,
      "outputs": [
        {
          "output_type": "stream",
          "name": "stdout",
          "text": [
            "Digite primera nota: 7\n",
            "Digite segunda nota: 8\n",
            "Digite tercera nota: 9.6\n",
            "La nota final del estudiante es: 8.5\n"
          ]
        }
      ]
    },
    {
      "cell_type": "markdown",
      "source": [
        "#### **Situación 5:**\n",
        "\n",
        "Ahora, debemos crear una pequeña función que permita dar una nota cualitativa (puntaje extra) a las notas del trimestre de los estudiantes del grupo que ganó el concurso de programación realizado en la institución. Cada estudiante recibirá el cualitativo de 0.5 añadido al promedio.\n",
        "\n",
        "Los datos recibidos corresponden a una lista que contiene las notas de algunos estudiantes y una variable con el cualitativo recibido.\n",
        "\n",
        "**¿Vamos a resolver este desafío?**\n",
        "\n",
        "Para facilitar nuestra comprensión del proceso, vamos a aplicar las notas de 5 estudiantes; sin embargo, puedes probar otros casos para practicar."
      ],
      "metadata": {
        "id": "1qk0gLdfFcbf"
      }
    },
    {
      "cell_type": "code",
      "source": [
        "# Notas del estudiante\n",
        "notas = [6.0, 7.0, 9.0, 5.5, 8.0]\n",
        "cualitativo = 0.5"
      ],
      "metadata": {
        "id": "RdoaWhuVI_OB"
      },
      "execution_count": null,
      "outputs": []
    },
    {
      "cell_type": "code",
      "source": [
        "notas_actualizadas = lambda x: x + 0.5\n",
        "for i in range(0,len(notas)):\n",
        "  nota_final = notas_actualizadas(notas[i])\n",
        "  print(f'La nota actualizada del estudiante {i+1} es: {nota_final}')\n"
      ],
      "metadata": {
        "id": "PzDfbv-kMq2t",
        "colab": {
          "base_uri": "https://localhost:8080/"
        },
        "outputId": "15011acc-fd77-42c2-f09b-ef75d4cb0d33"
      },
      "execution_count": null,
      "outputs": [
        {
          "output_type": "stream",
          "name": "stdout",
          "text": [
            "La nota actualizada del estudiante 1 es: 6.5\n",
            "La nota actualizada del estudiante 2 es: 7.5\n",
            "La nota actualizada del estudiante 3 es: 9.5\n",
            "La nota actualizada del estudiante 4 es: 6.0\n",
            "La nota actualizada del estudiante 5 es: 8.5\n"
          ]
        }
      ]
    },
    {
      "cell_type": "code",
      "source": [],
      "metadata": {
        "id": "3YDQ39wFMq5u"
      },
      "execution_count": null,
      "outputs": []
    },
    {
      "cell_type": "markdown",
      "source": [
        "### Mapeando valores\n",
        "\n",
        "#### Formato estándar:\n",
        "\n",
        "```python\n",
        "map(<lambda function>, <iterador>)\n",
        "```"
      ],
      "metadata": {
        "id": "SOK4BC4mmKbG"
      }
    },
    {
      "cell_type": "code",
      "source": [
        "notas_actualizadas = map(lambda x: x + 0.5, notas)"
      ],
      "metadata": {
        "id": "ZbfpvfWJMsjv"
      },
      "execution_count": null,
      "outputs": []
    },
    {
      "cell_type": "code",
      "source": [
        "notas_actualizadas"
      ],
      "metadata": {
        "id": "TA-zGLJfMseA",
        "colab": {
          "base_uri": "https://localhost:8080/"
        },
        "outputId": "4d7e6662-5ff3-4a97-bcf8-aa9d13b876fb"
      },
      "execution_count": null,
      "outputs": [
        {
          "output_type": "execute_result",
          "data": {
            "text/plain": [
              "<map at 0x7dfc4aba61a0>"
            ]
          },
          "metadata": {},
          "execution_count": 13
        }
      ]
    },
    {
      "cell_type": "code",
      "source": [
        "notas_actualizadas = list(notas_actualizadas)\n",
        "print(notas_actualizadas)\n",
        "print(notas)"
      ],
      "metadata": {
        "id": "PrAppvR6MuKm",
        "colab": {
          "base_uri": "https://localhost:8080/"
        },
        "outputId": "79e0dc8a-505a-4a9f-ef6a-d53f17441737"
      },
      "execution_count": null,
      "outputs": [
        {
          "output_type": "stream",
          "name": "stdout",
          "text": [
            "[6.5, 7.5, 9.5, 6.0, 8.5]\n",
            "[6.0, 7.0, 9.0, 5.5, 8.0]\n"
          ]
        }
      ]
    },
    {
      "cell_type": "markdown",
      "source": [
        "# Documentando Funciones"
      ],
      "metadata": {
        "id": "sxNrGRjc04hg"
      }
    },
    {
      "cell_type": "markdown",
      "source": [
        "**Type Hint**"
      ],
      "metadata": {
        "id": "1n3lY9eJyB61"
      }
    },
    {
      "cell_type": "markdown",
      "source": [
        "Type Hint es una sintaxis utilizada en Python para indicar el tipo de dato esperado de un parámetro o el retorno de una función, ayudando en la legibilidad y mantenimiento del código. Podemos decir, en pocas palabras, que es una sugerencia de tipado de datos.\n"
      ],
      "metadata": {
        "id": "fpuJ7HCo1Eu2"
      }
    },
    {
      "cell_type": "markdown",
      "source": [
        "*Formato:*"
      ],
      "metadata": {
        "id": "6ENQtXyU1RrP"
      }
    },
    {
      "cell_type": "markdown",
      "source": [
        "\n",
        "\n",
        "```\n",
        "def <nombre>(<param>: <tipo_param>) -> <tipo_retorno>:\n",
        "  <instrucciones>\n",
        "  return resultado\n",
        "```\n",
        "\n"
      ],
      "metadata": {
        "id": "qciEG-1V1LoW"
      }
    },
    {
      "cell_type": "code",
      "source": [
        "# nuestra función recibe una lista del tipo list y retorna una variable del tipo float\n",
        "notas = [6.0, 7.0, 9.0, 5.5, 8.0]\n",
        "def promedio(lista: list) -> float:\n",
        "  calculo = sum(lista) / len(lista)\n",
        "  return calculo"
      ],
      "metadata": {
        "id": "nIWDFFstxKR1"
      },
      "execution_count": null,
      "outputs": []
    },
    {
      "cell_type": "code",
      "source": [
        "promedio(notas)"
      ],
      "metadata": {
        "colab": {
          "base_uri": "https://localhost:8080/"
        },
        "id": "b0RszO6e0H8_",
        "outputId": "d8bbb721-2418-4550-a8d4-3a94bba90e9b"
      },
      "execution_count": null,
      "outputs": [
        {
          "output_type": "execute_result",
          "data": {
            "text/plain": [
              "7.1"
            ]
          },
          "metadata": {},
          "execution_count": 34
        }
      ]
    },
    {
      "cell_type": "markdown",
      "source": [
        "**Default Value**"
      ],
      "metadata": {
        "id": "uuX3v-eeyG5Q"
      }
    },
    {
      "cell_type": "markdown",
      "source": [
        "En Python, Default Value es un valor predeterminado asignado a un argumento de función que se utiliza si el usuario no proporciona ningún valor."
      ],
      "metadata": {
        "id": "_dNJYwpW1jeQ"
      }
    },
    {
      "cell_type": "markdown",
      "source": [
        "*Formato:*"
      ],
      "metadata": {
        "id": "EtRmCfpn1cWu"
      }
    },
    {
      "cell_type": "markdown",
      "source": [
        "\n",
        "\n",
        "```\n",
        "<nombre_variable>: <tipo_variable> = <valor_variable>\n",
        "```\n",
        "\n"
      ],
      "metadata": {
        "id": "2PUfBOlQ1cdX"
      }
    },
    {
      "cell_type": "code",
      "source": [
        "# nuestra función recibe una lista del tipo list y retorna una variable del tipo float\n",
        "# si no recibe ningún valor de parámetro, se pasará una lista con un único\n",
        "# elemento, siendo este cero\n",
        "notas = [6.0, 7.0, 9.0, 5.5, 8.0]\n",
        "def promedio(lista: list=[0]) -> float:\n",
        "  calculo = sum(lista) / len(lista)\n",
        "  return calculo"
      ],
      "metadata": {
        "id": "8-3FGm2zyHG4"
      },
      "execution_count": null,
      "outputs": []
    },
    {
      "cell_type": "code",
      "source": [
        "promedio() #función sin argumentos"
      ],
      "metadata": {
        "colab": {
          "base_uri": "https://localhost:8080/"
        },
        "id": "GZc4FcQG0Me-",
        "outputId": "931353b5-89db-4e96-c2a4-52b8da7f6c9f"
      },
      "execution_count": null,
      "outputs": [
        {
          "output_type": "execute_result",
          "data": {
            "text/plain": [
              "0.0"
            ]
          },
          "metadata": {},
          "execution_count": 41
        }
      ]
    },
    {
      "cell_type": "markdown",
      "source": [
        "**Doctring**"
      ],
      "metadata": {
        "id": "OU863N5Fzz1A"
      }
    },
    {
      "cell_type": "markdown",
      "source": [
        "Finalmente, tenemos el Docstring, que es una cadena literal utilizada para documentar módulos, funciones, clases o métodos en Python. Se coloca como el primer elemento de la definición y se puede acceder utilizando la función help().\n",
        "\n",
        "El Docstring debe describir el propósito, los parámetros, el tipo de retorno y las excepciones que puede generar la función. Es una buena práctica de programación utilizar Docstrings en tu código para facilitar la lectura, el mantenimiento y el intercambio de código con otros desarrolladores."
      ],
      "metadata": {
        "id": "sJv6kB3n1kSe"
      }
    },
    {
      "cell_type": "markdown",
      "source": [
        "*Formato:*"
      ],
      "metadata": {
        "id": "9R8hz0ET1egm"
      }
    },
    {
      "cell_type": "markdown",
      "source": [
        "\n",
        "\n",
        "```\n",
        "def <nombre>(<param_1>, <param_2>, ..., <param_n>):\n",
        "    '''Texto documentando su función...\n",
        "    '''\n",
        "  <instrucciones>\n",
        "  return resultado\n",
        "```\n",
        "\n"
      ],
      "metadata": {
        "id": "xrYgaRDr1el4"
      }
    },
    {
      "cell_type": "code",
      "source": [
        "notas = [6.0, 7.0, 9.0, 5.5, 8.0]\n",
        "def promedio(lista: list=[0]) -> float:\n",
        "  '''Función para calcular el promedio de notas pasadas por una lista\n",
        "\n",
        "  lista: list, default [0]\n",
        "    Lista con las notas para calcular el promedio\n",
        "  return = calculo: float\n",
        "    Promedio calculado\n",
        "  '''\n",
        "  calculo = sum(lista) / len(lista)\n",
        "  return calculo"
      ],
      "metadata": {
        "id": "spTcdzYEzz-W"
      },
      "execution_count": null,
      "outputs": []
    },
    {
      "cell_type": "code",
      "source": [
        "help(promedio)"
      ],
      "metadata": {
        "colab": {
          "base_uri": "https://localhost:8080/"
        },
        "id": "25Nn6e7n0OVP",
        "outputId": "55f41e79-8ee6-42ec-857b-27bff75735a6"
      },
      "execution_count": null,
      "outputs": [
        {
          "output_type": "stream",
          "name": "stdout",
          "text": [
            "Help on function promedio in module __main__:\n",
            "\n",
            "promedio(lista: list = [0]) -> float\n",
            "    Función para calcular el promedio de notas pasadas por una lista\n",
            "    \n",
            "    lista: list, default [0]\n",
            "      Lista con las notas para calcular el promedio\n",
            "    return = calculo: float\n",
            "      Promedio calculado\n",
            "\n"
          ]
        }
      ]
    },
    {
      "cell_type": "markdown",
      "source": [
        "En la clase de programación, la estudiante Milena recibió la tarea de convertir una lista de temperaturas de grados Celsius a Fahrenheit. Al investigar cómo realizar la conversión, notó que era posible crear una función lambda para convertir las temperaturas, pero necesitaría utilizar la función incorporada map() para ayudarla en la conversión elemento por elemento.\n",
        "\n",
        "La conversión de temperaturas Celsius a Fahrenheit se puede describir de la siguiente manera:\n",
        "\n",
        "\n",
        "```\n",
        "temp_fahrenheit = temp_celsius * 9/5 + 32\n",
        "```\n",
        "\n"
      ],
      "metadata": {
        "id": "7zg6TNkjLrTT"
      }
    },
    {
      "cell_type": "code",
      "source": [
        "temp_celsius = [0, 25, 37, 78, 100]\n",
        "temp_fahrenheit = list(map(lambda x: (x * 9/5) + 32, temp_celsius))\n",
        "temp_fahrenheit"
      ],
      "metadata": {
        "id": "ClSJHfW-Lq0s",
        "outputId": "c8aa44f6-e2ac-4b0e-d9e7-7f5e570a9154",
        "colab": {
          "base_uri": "https://localhost:8080/"
        }
      },
      "execution_count": null,
      "outputs": [
        {
          "output_type": "execute_result",
          "data": {
            "text/plain": [
              "[32.0, 77.0, 98.6, 172.4, 212.0]"
            ]
          },
          "metadata": {},
          "execution_count": 49
        }
      ]
    },
    {
      "cell_type": "markdown",
      "source": [
        "## **Desafío: hora de practicar**"
      ],
      "metadata": {
        "id": "Y9xz1-JJcfaS"
      }
    },
    {
      "cell_type": "markdown",
      "source": [
        "1 - Escribe un código que lee la lista siguiente y realiza:\n",
        "\n",
        "\n",
        "```\n",
        "lista = [16, 14, 63, 65, 17, 99, 70, 11, 20, 48, 79, 32, 17, 89, 12, 25, 66]\n",
        "# 1. Leer el tamaño de la lista\n",
        "# 2. Leer el valor máximo y mínimo\n",
        "# 3. Calcular la suma de los valores de la lista\n",
        "# 4. Mostrar un mensaje al final: La lista tiene `tamano` números, donde el mayor\n",
        "# es `mayor` y el menor es `menor`. La suma de los valores es `suma`.\n",
        "```\n",
        "\n"
      ],
      "metadata": {
        "id": "iY8h1wmIcZWy"
      }
    },
    {
      "cell_type": "code",
      "source": [
        "lista = [16, 14, 63, 65, 17, 99, 70, 11, 20, 48, 79, 32, 17, 89, 12, 25, 66]\n",
        "\n",
        "tamano = int(len(lista))\n",
        "mayor = int(max(lista))\n",
        "menor = int(min(lista))\n",
        "suma = int(sum(lista))\n",
        "\n",
        "#print(f\"El tamaño de la lista es de: {tamano}\")\n",
        "#print(f\"El número máximo de la lista es: {mayor}\")\n",
        "#print(f\"El tamaño mínimo de la lista es: {menor}\")\n",
        "#print(f\"La suma de los valores de la lista es: {suma}\")\n",
        "\n",
        "print(f\"La lista tiene {tamano} números, donde el mayor es {mayor} y el menor es {menor}.\\nLa suma de los valores es: {suma}\")\n"
      ],
      "metadata": {
        "id": "39Z5XDPncZgR",
        "outputId": "a272b81f-a1a5-460b-cb23-3f8380424900",
        "colab": {
          "base_uri": "https://localhost:8080/"
        }
      },
      "execution_count": null,
      "outputs": [
        {
          "output_type": "stream",
          "name": "stdout",
          "text": [
            "La lista tiene 17 números, donde el mayor es 99 y el menor es 11.\n",
            "La suma de los valores es: 743\n"
          ]
        }
      ]
    },
    {
      "cell_type": "markdown",
      "source": [
        "2 - Escribe una función que genere la tabla de multiplicar de un número entero del 1 al 10, según la elección del usuario. Como ejemplo, para el número 7, la tabla de multiplicar se debe mostrar en el siguiente formato:\n",
        "\n",
        "\n",
        "```\n",
        "# Tabla del  7:\n",
        "# 7 x 0 = 0\n",
        "# 7 x 1 = 7\n",
        "# [...]\n",
        "# 7 x 10 = 70\n",
        "```\n",
        "\n"
      ],
      "metadata": {
        "id": "lhLbq94-cZvx"
      }
    },
    {
      "cell_type": "code",
      "source": [
        "factor = int(input(\"Digite un número: \"))\n",
        "def tabla(multiplicador):\n",
        "  for i in range(1,10+1):\n",
        "    producto = multiplicador * i\n",
        "    print(f\"{multiplicador} x {i} = {producto}\")\n",
        "\n",
        "tabla(factor)"
      ],
      "metadata": {
        "id": "uWCerYYvcZ5h",
        "outputId": "9885b957-3eb8-4a11-b75f-165306f2e24f",
        "colab": {
          "base_uri": "https://localhost:8080/"
        }
      },
      "execution_count": null,
      "outputs": [
        {
          "output_type": "stream",
          "name": "stdout",
          "text": [
            "Digite un número: 2\n",
            "2 x 1 = 2\n",
            "2 x 2 = 4\n",
            "2 x 3 = 6\n",
            "2 x 4 = 8\n",
            "2 x 5 = 10\n",
            "2 x 6 = 12\n",
            "2 x 7 = 14\n",
            "2 x 8 = 16\n",
            "2 x 9 = 18\n",
            "2 x 10 = 20\n"
          ]
        }
      ]
    },
    {
      "cell_type": "code",
      "source": [
        "factor = int(input(\"Digite un número: \"))\n",
        "def tabla(factor):\n",
        "  for i in range(1,10+1):\n",
        "    producto = factor * i\n",
        "    print(f\"{factor} x {i} = {producto}\")\n",
        "\n",
        "tabla(factor)"
      ],
      "metadata": {
        "id": "0fODUaiLyUDC",
        "outputId": "179f5586-4028-4d59-9c46-eaea6e1fe22c",
        "colab": {
          "base_uri": "https://localhost:8080/"
        }
      },
      "execution_count": null,
      "outputs": [
        {
          "output_type": "stream",
          "name": "stdout",
          "text": [
            "Digite un número: 2\n",
            "2 x 1 = 2\n",
            "2 x 2 = 4\n",
            "2 x 3 = 6\n",
            "2 x 4 = 8\n",
            "2 x 5 = 10\n",
            "2 x 6 = 12\n",
            "2 x 7 = 14\n",
            "2 x 8 = 16\n",
            "2 x 9 = 18\n",
            "2 x 10 = 20\n"
          ]
        }
      ]
    },
    {
      "cell_type": "markdown",
      "source": [
        "3 - Crea una función que lea la siguiente lista y devuelva una nueva lista con los múltiplos de 3:\n",
        "\n",
        "\n",
        "```\n",
        "[97, 80, 94, 88, 80, 1, 16, 53, 62, 32, 24, 99]\n",
        "```\n",
        "\n"
      ],
      "metadata": {
        "id": "K0OwSIgEcaJA"
      }
    },
    {
      "cell_type": "code",
      "source": [
        "numeros = [97, 80, 94, 88, 80, 1, 16, 53, 62, 32, 24, 99]"
      ],
      "metadata": {
        "id": "3k6MBAVrcaP7"
      },
      "execution_count": null,
      "outputs": []
    },
    {
      "cell_type": "code",
      "source": [
        "def obtener_multiplos_de_3(lista):\n",
        "    multiplos = []\n",
        "    for numero in lista:\n",
        "        if numero % 3 == 0:\n",
        "            multiplos.append(numero)\n",
        "    return multiplos\n",
        "\n",
        "# Llamada a la función\n",
        "resultado = obtener_multiplos_de_3(numeros)\n",
        "\n",
        "# Mostrar resultado\n",
        "print(\"Múltiplos de 3:\", resultado)"
      ],
      "metadata": {
        "id": "fpkVHWI2imOU",
        "outputId": "5b7e8b67-565d-4515-9bbd-7de809c62198",
        "colab": {
          "base_uri": "https://localhost:8080/"
        }
      },
      "execution_count": null,
      "outputs": [
        {
          "output_type": "stream",
          "name": "stdout",
          "text": [
            "Múltiplos de 3: [24, 99]\n"
          ]
        }
      ]
    },
    {
      "cell_type": "markdown",
      "source": [
        "4 - Crea una lista de los cuadrados de los números de la siguiente lista [1, 2, 3, 4, 5, 6, 7, 8, 9, 10]. Recuerda utilizar las funciones lambda y map() para calcular el cuadrado de cada elemento de la lista.\n"
      ],
      "metadata": {
        "id": "5OzRqLMndGSr"
      }
    },
    {
      "cell_type": "code",
      "source": [
        "lista = [1, 2, 3, 4, 5, 6, 7, 8, 9, 10]\n",
        "#cuadrado = map(lambda x: print(f\"{x} al cuadrado es: {x*x}\"), lista) #Intento, no se que tan válido sea\n",
        "cuadrado = map(lambda x: x*x, lista)\n",
        "cuadrado = list(cuadrado)\n",
        "for i in range(0,len(cuadrado)):\n",
        "  print(f\"{i+1} al cuadrado es: {cuadrado[i]}\")\n"
      ],
      "metadata": {
        "id": "-Q4IM-x-dHtz",
        "outputId": "2d53b0a9-d21b-491b-a7c9-b0004d98822b",
        "colab": {
          "base_uri": "https://localhost:8080/"
        }
      },
      "execution_count": null,
      "outputs": [
        {
          "output_type": "stream",
          "name": "stdout",
          "text": [
            "1 al cuadrado es: 1\n",
            "2 al cuadrado es: 4\n",
            "3 al cuadrado es: 9\n",
            "4 al cuadrado es: 16\n",
            "5 al cuadrado es: 25\n",
            "6 al cuadrado es: 36\n",
            "7 al cuadrado es: 49\n",
            "8 al cuadrado es: 64\n",
            "9 al cuadrado es: 81\n",
            "10 al cuadrado es: 100\n"
          ]
        }
      ]
    },
    {
      "cell_type": "markdown",
      "source": [
        "5 - Has sido contratado como científico(a) de datos de una asociación de skate. Para analizar las notas recibidas por los skaters en algunas competiciones a lo largo del año, necesitas crear un código que calcule la puntuación de los atletas. Para ello, tu código debe recibir 5 notas ingresadas por los jueces.\n"
      ],
      "metadata": {
        "id": "Hh37LE29caX5"
      }
    },
    {
      "cell_type": "code",
      "source": [
        "notas = []\n",
        "for i in range(0, 5):\n",
        "  nota = input(\"Ingrese una nota: \")\n",
        "  notas.append(nota)\n",
        "  notas[i] = float(notas[i])\n",
        "  #print(type(notas[i]))\n",
        "\n",
        "promedio= map(lambda x: sum(x)/len(notas), [notas])\n",
        "promedio = list(promedio)\n",
        "print(f\"El promedio de las notas del atleta es: {promedio}\")\n",
        "\n"
      ],
      "metadata": {
        "id": "3Q_uxdzscae0",
        "outputId": "699bdb48-093c-47ee-e8a8-1e6d0d234126",
        "colab": {
          "base_uri": "https://localhost:8080/"
        }
      },
      "execution_count": null,
      "outputs": [
        {
          "output_type": "stream",
          "name": "stdout",
          "text": [
            "Ingrese una nota: 1\n",
            "Ingrese una nota: 6\n",
            "Ingrese una nota: 3\n",
            "Ingrese una nota: 9\n",
            "Ingrese una nota: 2\n",
            "El promedio de las notas del atleta es: [4.2]\n"
          ]
        }
      ]
    },
    {
      "cell_type": "code",
      "source": [
        "#se toman solo las 3 notas del medio\n",
        "#desde la posición 1 (segunda nota)\n",
        "#hasta la posición 4 (sin incluirla)\n",
        "notas = [float(input(f\"Ingrese la nota {i + 1}: \")) for i in range(5)]\n",
        "notas.sort()\n",
        "media = sum(notas[1:4]) / 3\n",
        "print(f\"Nota de la maniobra: [{media:.2f}]\")"
      ],
      "metadata": {
        "id": "3WjXkAeavTKD",
        "outputId": "8fc67451-c064-4464-e04d-30427e14b16f",
        "colab": {
          "base_uri": "https://localhost:8080/"
        }
      },
      "execution_count": null,
      "outputs": [
        {
          "output_type": "stream",
          "name": "stdout",
          "text": [
            "Ingrese la nota 1: 1\n",
            "Ingrese la nota 2: 6\n",
            "Ingrese la nota 3: 3\n",
            "Ingrese la nota 4: 9\n",
            "Ingrese la nota 5: 2\n",
            "Nota de la maniobra: [3.67]\n"
          ]
        }
      ]
    },
    {
      "cell_type": "markdown",
      "source": [
        "6 - Para cumplir con una demanda de una institución educativa para el análisis del rendimiento de sus estudiantes, necesitas crear una función que reciba una lista de 4 notas y devuelva:\n",
        "\n",
        "\n",
        "```\n",
        "# mayor nota\n",
        "# menor nota\n",
        "# media\n",
        "# situación (Aprobado(a) o Reprobado(a))\n",
        "# Uso de la función\n",
        "# Mostrar: El estudiante obtuvo una media de `media`, con la mayor nota de `mayor` puntos y la menor nota de `menor` puntos y fue `situacion`.)\n",
        "```\n",
        "\n"
      ],
      "metadata": {
        "id": "UQgWCmVCcamS"
      }
    },
    {
      "cell_type": "code",
      "source": [
        "lista_notas = []\n",
        "def informe_notas(lista_notas): #funcion informe_notas, lista lista_notas\n",
        "  for i in range(4):\n",
        "    nota = float(input(\"Ingrese nota: \"))\n",
        "    lista_notas.append(nota)\n",
        "  mayor = max(lista_notas)\n",
        "  menor = min(lista_notas)\n",
        "  promedio = sum(lista_notas)/len(lista_notas)\n",
        "  if promedio >= 4:\n",
        "    situacion = 'aprobado'\n",
        "  else:\n",
        "    situacion = 'reprobado'\n",
        "  return mayor, menor, promedio, situacion #retorno de valores y fin de funcion informe_notas\n",
        "\n",
        "\n",
        "mayor, menor, promedio, situacion = informe_notas(lista_notas)\n",
        "print(f\"El estudiante obtuvo una media de {promedio}, con la mayor nota de {mayor} puntos, y la menor nota de {menor} puntos y su situación fue {situacion}\")\n"
      ],
      "metadata": {
        "id": "UDvShpizcasE",
        "outputId": "1d5a13f6-f5ad-45f5-ed21-552b0b8ec5a3",
        "colab": {
          "base_uri": "https://localhost:8080/"
        }
      },
      "execution_count": null,
      "outputs": [
        {
          "output_type": "stream",
          "name": "stdout",
          "text": [
            "Ingrese nota: 4\n",
            "Ingrese nota: 5\n",
            "Ingrese nota: 3\n",
            "Ingrese nota: 4\n",
            "El estudiante obtuvo una media de 4.0, con la mayor nota de 5.0 puntos, y la menor nota de 3.0 puntos y su situación fue aprobado\n"
          ]
        }
      ]
    },
    {
      "cell_type": "markdown",
      "source": [
        "7 - Has recibido una demanda para tratar 2 listas con los nombres y apellidos de cada estudiante concatenándolos para presentar sus nombres completos en la forma Nombre Apellido. Las listas son:\n",
        "\n",
        "\n",
        "```\n",
        "nombres = [\"juan\", \"MaRia\", \"JOSÉ\"]\n",
        "apellidos = [\"SILVA\", \"sosa\", \"Tavares\"]\n",
        "\n",
        "# Normalizar nombres y apellidos y crear una nueva lista con los nombres completos\n",
        "# Puedes apoyarte en la función map()\n",
        "```\n",
        "\n"
      ],
      "metadata": {
        "id": "rNEzHD1ScazS"
      }
    },
    {
      "cell_type": "code",
      "source": [
        "nombres = [\"juan\", \"MaRia\", \"JOSÉ\"]\n",
        "apellidos = [\"SILVA\", \"sosa\", \"Tavares\"]\n",
        "concatenacion = list(map(lambda n,a: n.capitalize()+ \" \" + a.capitalize(),nombres,apellidos))\n",
        "concatenacion = list(concatenacion)\n",
        "print(f\"Los nombres completos son: {concatenacion}\")"
      ],
      "metadata": {
        "id": "MjpKI83cca48",
        "outputId": "ab0e09fd-0c17-453c-c096-bd37426b29d6",
        "colab": {
          "base_uri": "https://localhost:8080/"
        }
      },
      "execution_count": null,
      "outputs": [
        {
          "output_type": "stream",
          "name": "stdout",
          "text": [
            "Los nombres completos son: ['Juan Silva', 'Maria Sosa', 'José Tavares']\n"
          ]
        }
      ]
    },
    {
      "cell_type": "markdown",
      "source": [
        "8 - Como científico de datos en un equipo de fútbol, necesitas implementar nuevas formas de recopilación de datos sobre el rendimiento de los jugadores y del equipo en su conjunto. Tu primera acción es crear una forma de calcular la puntuación del equipo en el campeonato nacional a partir de los datos de goles marcados y recibidos en cada juego.\n",
        "\n",
        "Escribe una función llamada calcula_puntos() que recibe como parámetros dos listas de números enteros, representando los goles marcados y recibidos por el equipo en cada partido del campeonato. La función debe devolver la puntuación del equipo y el rendimiento en porcentaje, teniendo en cuenta que la victoria vale 3 puntos, el empate 1 punto y la derrota 0 puntos.\n",
        "\n",
        "Nota: si la cantidad de goles marcados en un partido es mayor que los recibidos, el equipo ganó. En caso de ser igual, el equipo empató, y si es menor, el equipo perdió. Para calcular el rendimiento, debemos hacer la razón entre la puntuación del equipo y la puntuación máxima que podría recibir.\n",
        "\n",
        "Para la prueba, utiliza las siguientes listas de goles marcados y recibidos:\n",
        "\n",
        "\n",
        "```\n",
        "goles_marcados = [2, 1, 3, 1, 0]\n",
        "goles_recibidos = [1, 2, 2, 1, 3]\n",
        "# Texto probablemente mostrado:\n",
        "# La puntuación del equipo fue `puntos` y su rendimiento fue `desempeno`%\"\n",
        "```\n",
        "\n"
      ],
      "metadata": {
        "id": "OCDn8ErmcbHh"
      }
    },
    {
      "cell_type": "code",
      "source": [
        "goles_marcados = [2, 1, 3, 1, 0]\n",
        "goles_recibidos = [1, 2, 2, 1, 3]\n",
        "\n",
        "def calcular_puntos(goles_marcados, goles_recibidos):\n",
        "  puntaje = 0\n",
        "  desempeno = 0\n",
        "  for i in range(0,len(goles_marcados)):\n",
        "    if goles_marcados[i] > goles_recibidos[i]:\n",
        "      puntaje += 3\n",
        "    elif goles_marcados[i] < goles_recibidos[i]:\n",
        "      puntaje += 0\n",
        "    else:\n",
        "      puntaje += 1\n",
        "  desempeno = round(puntaje/(3*len(goles_marcados))*100,1) #calculo del desempeño\n",
        "\n",
        "  return puntaje, desempeno #retorno de valores y fin de funcion calcular_puntos\n",
        "\n",
        "puntaje, desempeno = calcular_puntos(goles_marcados,goles_recibidos)\n",
        "print(f\"La puntuación del equipo fue de {puntaje} puntos y su desempeño fue de {desempeno}%\")\n",
        "\n"
      ],
      "metadata": {
        "id": "I-byfcLCcbQa",
        "outputId": "fcb1f631-621e-479d-8698-8dfaf18dca19",
        "colab": {
          "base_uri": "https://localhost:8080/"
        }
      },
      "execution_count": null,
      "outputs": [
        {
          "output_type": "stream",
          "name": "stdout",
          "text": [
            "La puntuación del equipo fue de 7 puntos y su desempeño fue de 46.7%\n"
          ]
        }
      ]
    },
    {
      "cell_type": "markdown",
      "source": [
        "9 - Te han desafiado a crear un código que calcule los gastos de un viaje a una de las cuatro ciudades desde Recife, siendo ellas: Salvador, Fortaleza, Natal y Aracaju.\n",
        "\n",
        "El costo diario del hotel es de 150 reales en todas ellas y el consumo de gasolina en el viaje en coche es de 14 km/l, siendo que el precio de la gasolina es de 5 reales por litro. Los gastos con paseos y alimentación a realizar en cada una de ellas por día serían [200, 400, 250, 300], respectivamente.\n",
        "\n",
        "Sabiendo que las distancias entre Recife y cada una de las ciudades son aproximadamente [850, 800, 300, 550] km, crea tres funciones: la primera función calcula los gastos de hotel (gasto_hotel), la segunda calcula los gastos de gasolina (gasto_gasolina) y la tercera los gastos de paseo y alimentación (gasto_paseo).\n",
        "\n",
        "Para probar, simula un viaje de 3 días a Salvador desde Recife. Considera el viaje de ida y vuelta en coche.\n",
        "\n",
        "\n",
        "\n",
        "```\n",
        "# Texto probablemente mostrado:\n",
        "# Con base en los gastos definidos, un viaje de [dias] días a [ciudad] desde\n",
        "# Recife costaría [gastos] reales.\n",
        "```\n",
        "\n"
      ],
      "metadata": {
        "id": "3PK4DdlMcbXq"
      }
    },
    {
      "cell_type": "code",
      "source": [
        "costo_hotel = 150 #costo diario del hotel en reales\n",
        "precio_gasolina = 5 #precio gasolina 5 reales por litro\n",
        "consumo_gasolina = 14 #consumo gasolina 15 km/l\n",
        "ciudades = ['Salvador','Fortaleza','Natal','Aracaju']\n",
        "gastos_viaje = [200, 400, 250, 300]\n",
        "distancia = [850,800,300,550] #distancia entre Recife y cada ciudad en kms\n",
        "\n",
        "while True:\n",
        "  opcion = input(\"[---DESTINOS---]\\n[1] Salvador\\n[2] Fortaleza\\n[3] Natal\\n[4] Aracaju\\n\\nINGRESE OPCIÓN DE SU DESTINO: \")\n",
        "  mensaje_error_destinos = \"\\nDEBE INGRESAR UNA OPCIÓN VÁLIDA: [1-4]\\n\"\n",
        "  try:\n",
        "    opcion = int(opcion)\n",
        "    if opcion == 1:\n",
        "      destino = ciudades[0]\n",
        "      break\n",
        "    if opcion == 2:\n",
        "      destino = ciudades[1]\n",
        "      break\n",
        "    if opcion == 3:\n",
        "      destino = ciudades[2]\n",
        "      break\n",
        "    if opcion == 4:\n",
        "      destino = ciudades[3]\n",
        "      break\n",
        "    else:\n",
        "      print(mensaje_error_destinos)\n",
        "  except ValueError:\n",
        "    print(mensaje_error_destinos)\n",
        "\n",
        "while True:\n",
        "  cant_dias = input(\"INGRESE CANTIDAD DE DÍAS DE VIAJE: \")\n",
        "  mensaje_error_dias = \"\\nDEBE INGRESAR UNA CANTIDAD VÁLIDA\\n\"\n",
        "  try:\n",
        "    cant_dias = int(cant_dias)\n",
        "    if cant_dias >=1 and cant_dias <=100:\n",
        "      break\n",
        "    else:\n",
        "      print(mensaje_error_dias)\n",
        "  except ValueError:\n",
        "    print(mensaje_error_dias)\n",
        "\n",
        "\n",
        "\n",
        "#crear funciones: gasto_hotel, gasto_gasolina y gasto_paseo\n",
        "#funcion: gasto_hotel\n",
        "def gasto_hotel(costo_hotel,cant_dias):\n",
        "  gasto_h = costo_hotel * cant_dias\n",
        "  return gasto_h\n",
        "\n",
        "#funcion: gasto_gasolina\n",
        "def gasto_gasolina(distancia,opcion,consumo_gasolina,precio_gasolina):\n",
        "  gasto_g = round((distancia[opcion-1]/consumo_gasolina)*precio_gasolina,2)\n",
        "  return gasto_g\n",
        "\n",
        "#funcion: gasto_paseo\n",
        "def gasto_paseo(gastos_viaje, opcion,cant_dias):\n",
        "  gasto_p = round(gastos_viaje[opcion-1]*cant_dias,2)\n",
        "  return gasto_p\n",
        "\n",
        "gasto_h = gasto_hotel(costo_hotel,cant_dias)\n",
        "gasto_g = gasto_gasolina(distancia,opcion,consumo_gasolina,precio_gasolina)\n",
        "gasto_p = gasto_paseo(gastos_viaje,opcion,cant_dias)\n",
        "\n",
        "def gasto_total(gasto_h, gasto_g, gasto_p):\n",
        "  gastos_totales = gasto_h + gasto_g + gasto_p\n",
        "  return gastos_totales\n",
        "\n",
        "gastos_totales = gasto_total(gasto_h, gasto_g, gasto_p)\n",
        "\n",
        "# Con base en los gastos definidos, un viaje de [dias] días a [ciudad] desde\n",
        "# Recife costaría [gastos] reales.\n",
        "\n",
        "print(f\"En base a los gastos definidos, un viaje de {cant_dias} días a {destino} desde Recife costaría R$ {gastos_totales}\")\n",
        "\n",
        "#print(gasto_h)\n",
        "#print(gasto_g)\n",
        "#print(gasto_p)\n",
        "#print(destino)\n",
        "\n"
      ],
      "metadata": {
        "id": "Ae9rF-sbcbef",
        "outputId": "4242c536-01f2-4d73-a688-8048435c0d7e",
        "colab": {
          "base_uri": "https://localhost:8080/"
        }
      },
      "execution_count": null,
      "outputs": [
        {
          "output_type": "stream",
          "name": "stdout",
          "text": [
            "[---DESTINOS---]\n",
            "[1] Salvador\n",
            "[2] Fortaleza\n",
            "[3] Natal\n",
            "[4] Aracaju\n",
            "\n",
            "INGRESE OPCIÓN DE SU DESTINO: 4\n",
            "INGRESE CANTIDAD DE DÍAS DE VIAJE: 2\n",
            "En base a los gastos definidos, un viaje de 2 días a Aracaju desde Recife costaría R$ 1096.43\n"
          ]
        }
      ]
    },
    {
      "cell_type": "code",
      "source": [
        "# Datos base\n",
        "costo_hotel = 150  # costo diario del hotel en reales\n",
        "precio_gasolina = 5  # precio gasolina 5 reales por litro\n",
        "consumo_gasolina = 14  # consumo gasolina 14 km/l\n",
        "ciudades = ['Salvador', 'Fortaleza', 'Natal', 'Aracaju']\n",
        "gastos_viaje = [200, 400, 250, 300]\n",
        "distancia = [850, 800, 300, 550]  # distancia entre Recife y cada ciudad\n",
        "\n",
        "# Función para elegir destino\n",
        "def elegir_destino(ciudades):\n",
        "    mensaje_error_destinos = \"\\nDEBE INGRESAR UNA OPCIÓN VÁLIDA: [1-4]\\n\"\n",
        "    while True:\n",
        "        opcion = input(\"[---DESTINOS---]\\n[1] Salvador\\n[2] Fortaleza\\n[3] Natal\\n[4] Aracaju\\n\\nINGRESE OPCIÓN DE SU DESTINO: \")\n",
        "        try:\n",
        "            opcion = int(opcion)\n",
        "            if 1 <= opcion <= 4:\n",
        "                destino = ciudades[opcion - 1]\n",
        "                return opcion, destino\n",
        "            else:\n",
        "                print(mensaje_error_destinos)\n",
        "        except ValueError:\n",
        "            print(mensaje_error_destinos)\n",
        "\n",
        "# Función para ingresar cantidad de días\n",
        "def ingresar_dias():\n",
        "    mensaje_error_dias = \"\\nDEBE INGRESAR UNA CANTIDAD VÁLIDA\\n\"\n",
        "    while True:\n",
        "        cant_dias = input(\"INGRESE CANTIDAD DE DÍAS DE VIAJE: \")\n",
        "        try:\n",
        "            cant_dias = int(cant_dias)\n",
        "            if 1 <= cant_dias <= 100:\n",
        "                return cant_dias\n",
        "            else:\n",
        "                print(mensaje_error_dias)\n",
        "        except ValueError:\n",
        "            print(mensaje_error_dias)\n",
        "\n",
        "# Función: gasto_hotel\n",
        "def gasto_hotel(costo_hotel, cant_dias):\n",
        "    return costo_hotel * cant_dias\n",
        "\n",
        "# Función: gasto_gasolina\n",
        "def gasto_gasolina(distancia, opcion, consumo_gasolina, precio_gasolina):\n",
        "    return round((distancia[opcion - 1] / consumo_gasolina) * precio_gasolina, 2)\n",
        "\n",
        "# Función: gasto_paseo\n",
        "def gasto_paseo(gastos_viaje, opcion, cant_dias):\n",
        "    return round(gastos_viaje[opcion - 1] * cant_dias, 2)\n",
        "\n",
        "# Función: gasto_total\n",
        "def gasto_total(gasto_h, gasto_g, gasto_p):\n",
        "    return gasto_h + gasto_g + gasto_p\n",
        "\n",
        "# Llamadas a funciones\n",
        "opcion, destino = elegir_destino(ciudades)\n",
        "cant_dias = ingresar_dias()\n",
        "gasto_h = gasto_hotel(costo_hotel, cant_dias)\n",
        "gasto_g = gasto_gasolina(distancia, opcion, consumo_gasolina, precio_gasolina)\n",
        "gasto_p = gasto_paseo(gastos_viaje, opcion, cant_dias)\n",
        "gastos_totales = gasto_total(gasto_h, gasto_g, gasto_p)\n",
        "\n",
        "# Resultado final\n",
        "print(f\"\\nEn base a los gastos definidos, un viaje de {cant_dias} días a {destino} desde Recife costaría R$ {gastos_totales:.2f}\")"
      ],
      "metadata": {
        "colab": {
          "base_uri": "https://localhost:8080/"
        },
        "id": "EbB4v8nP66RJ",
        "outputId": "f3607498-ac08-4697-8dab-999e4a6da7a2"
      },
      "execution_count": null,
      "outputs": [
        {
          "output_type": "stream",
          "name": "stdout",
          "text": [
            "[---DESTINOS---]\n",
            "[1] Salvador\n",
            "[2] Fortaleza\n",
            "[3] Natal\n",
            "[4] Aracaju\n",
            "\n",
            "INGRESE OPCIÓN DE SU DESTINO: 2\n",
            "INGRESE CANTIDAD DE DÍAS DE VIAJE: 2\n",
            "\n",
            "En base a los gastos definidos, un viaje de 2 días a Fortaleza desde Recife costaría R$ 1385.71\n"
          ]
        }
      ]
    },
    {
      "cell_type": "code",
      "source": [
        "# Datos base\n",
        "costo_hotel = 150  # costo diario del hotel en reales\n",
        "precio_gasolina = 5  # precio de la gasolina por litro\n",
        "consumo_gasolina = 14  # consumo en km/l\n",
        "ciudades = ['Salvador', 'Fortaleza', 'Natal', 'Aracaju']\n",
        "gastos_viaje = [200, 400, 250, 300]\n",
        "distancia = [850, 800, 300, 550]\n",
        "\n",
        "# Función para elegir destino\n",
        "def elegir_destino(ciudades):\n",
        "    mensaje_error_destinos = \"\\nDEBE INGRESAR UNA OPCIÓN VÁLIDA: [1-4]\\n\"\n",
        "    while True:\n",
        "        opcion = input(\"[---DESTINOS---]\\n[1] Salvador\\n[2] Fortaleza\\n[3] Natal\\n[4] Aracaju\\n\\nINGRESE OPCIÓN DE SU DESTINO: \")\n",
        "        try:\n",
        "            opcion = int(opcion)\n",
        "            if 1 <= opcion <= 4:\n",
        "                destino = ciudades[opcion - 1]\n",
        "                return opcion, destino\n",
        "            else:\n",
        "                print(mensaje_error_destinos)\n",
        "        except ValueError:\n",
        "            print(mensaje_error_destinos)\n",
        "\n",
        "# Función para ingresar cantidad de días\n",
        "def ingresar_dias():\n",
        "    mensaje_error_dias = \"\\nDEBE INGRESAR UNA CANTIDAD VÁLIDA\\n\"\n",
        "    while True:\n",
        "        cant_dias = input(\"INGRESE CANTIDAD DE DÍAS DE VIAJE: \")\n",
        "        try:\n",
        "            cant_dias = int(cant_dias)\n",
        "            if 1 <= cant_dias <= 100:\n",
        "                return cant_dias\n",
        "            else:\n",
        "                print(mensaje_error_dias)\n",
        "        except ValueError:\n",
        "            print(mensaje_error_dias)\n",
        "\n",
        "# Función: gasto del hotel\n",
        "def gasto_hotel(costo_hotel, cant_dias):\n",
        "    gasto_h = costo_hotel * cant_dias\n",
        "    return gasto_h\n",
        "\n",
        "# Función: gasto de gasolina\n",
        "def gasto_gasolina(distancia, opcion, consumo_gasolina, precio_gasolina):\n",
        "    gasto_g = round((distancia[opcion - 1] / consumo_gasolina) * precio_gasolina, 2)\n",
        "    return gasto_g\n",
        "\n",
        "# Función: gasto en paseos\n",
        "def gasto_paseo(gastos_viaje, opcion, cant_dias):\n",
        "    gasto_p = round(gastos_viaje[opcion - 1] * cant_dias, 2)\n",
        "    return gasto_p\n",
        "\n",
        "# Función: gasto total\n",
        "def gasto_total(gasto_h, gasto_g, gasto_p):\n",
        "    gastos_totales = gasto_h + gasto_g + gasto_p\n",
        "    return gastos_totales\n",
        "\n",
        "# Llamadas al programa\n",
        "opcion, destino = elegir_destino(ciudades)\n",
        "cant_dias = ingresar_dias()\n",
        "\n",
        "gasto_h = gasto_hotel(costo_hotel, cant_dias)\n",
        "gasto_g = gasto_gasolina(distancia, opcion, consumo_gasolina, precio_gasolina)\n",
        "gasto_p = gasto_paseo(gastos_viaje, opcion, cant_dias)\n",
        "\n",
        "gastos_totales = gasto_total(gasto_h, gasto_g, gasto_p)\n",
        "\n",
        "# Resultado final\n",
        "print(f\"\\nEn base a los gastos definidos, un viaje de {cant_dias} días a {destino} desde Recife costaría R$ {gastos_totales:.2f}\")\n"
      ],
      "metadata": {
        "colab": {
          "base_uri": "https://localhost:8080/"
        },
        "id": "fgTsWSsy8uNg",
        "outputId": "18629b4a-6d6f-417a-8922-a261e5896af5"
      },
      "execution_count": null,
      "outputs": [
        {
          "output_type": "stream",
          "name": "stdout",
          "text": [
            "[---DESTINOS---]\n",
            "[1] Salvador\n",
            "[2] Fortaleza\n",
            "[3] Natal\n",
            "[4] Aracaju\n",
            "\n",
            "INGRESE OPCIÓN DE SU DESTINO: 4\n",
            "INGRESE CANTIDAD DE DÍAS DE VIAJE: 2\n",
            "\n",
            "En base a los gastos definidos, un viaje de 2 días a Aracaju desde Recife costaría R$ 1096.43\n"
          ]
        }
      ]
    },
    {
      "cell_type": "markdown",
      "source": [
        "10 - Has comenzado una pasantía en una empresa que trabaja con procesamiento de lenguaje natural (NLP). Tu líder te solicitó que crees un fragmento de código que reciba una frase escrita por el usuario y filtre solo las palabras con un tamaño mayor o igual a 5, mostrándolas en una lista. Esta demanda se centra en el análisis del patrón de comportamiento de las personas al escribir palabras de esta cantidad de caracteres o más.\n",
        "\n",
        "Consejo: utiliza las funciones lambda y filter() para filtrar estas palabras. Recordando que la función integrada filter() recibe una función (en nuestro caso, una función lambda) y filtra un iterable según la función. Para tratar la frase, utiliza replace() para cambiar ',' '.', '!' y '?' por espacio.\n",
        "\n",
        "Utiliza la frase \"Aprender Python aquí en Alura es muy bueno\" para probar el código."
      ],
      "metadata": {
        "id": "9E-I0sULcbmC"
      }
    },
    {
      "cell_type": "markdown",
      "source": [
        "***filter() es una función de Python que sirve para filtrar elementos de una colección (lista, tupla, etc.) usando una función de condición (generalmente con lambda).***\n"
      ],
      "metadata": {
        "id": "ixSHTteI-Ioo"
      }
    },
    {
      "cell_type": "markdown",
      "source": [
        "`filter(función_condición, iterable)`"
      ],
      "metadata": {
        "id": "Urevblxh-I7P"
      }
    },
    {
      "cell_type": "code",
      "source": [
        "frase = str(input(\"Ingresa una frase: \"))\n",
        "puntuacion = '!\"\\'?¡¿,#.$|°¬:´¨[]{}();^`_~&><+-*/='\n",
        "for caracter in puntuacion:\n",
        "  frase = frase.replace(caracter, \" \")\n",
        "\n",
        "palabras = frase.split()#crea una lista donde elimina los espacios en blanco y separa palabra por palabra\n",
        "# lambda: función anónima que define la condición (longitud de la palabra mayor a 5)\n",
        "# filter: recorre cada palabra y filtra solo las que tienen más de 5 caracteres\n",
        "# set: elimina las palabras duplicadas del resultado filtrado\n",
        "mayor_a_5 = list(set(filter(lambda mayor: len(mayor) > 5, palabras)))\n",
        "print(f\"En tu frase ingresada, las palabras con más de 5 carácteres son: {mayor_a_5}\")\n",
        "\n"
      ],
      "metadata": {
        "id": "N92vStQ0cbt6",
        "colab": {
          "base_uri": "https://localhost:8080/"
        },
        "outputId": "dfa68d63-e025-4f14-a1fe-842de15319cf"
      },
      "execution_count": null,
      "outputs": [
        {
          "output_type": "stream",
          "name": "stdout",
          "text": [
            "Ingresa una frase: Aprender Python aquí en Alura es muy bueno\"....-.-\n",
            "En tu frase ingresada, las palabras con más de 5 carácteres son: ['Python', 'Aprender']\n"
          ]
        }
      ]
    },
    {
      "cell_type": "markdown",
      "source": [
        "Modificación con un orden mas preciso, independiente si es mayúscula o minúscula, y colocando en lista las palabras con len menor a 5"
      ],
      "metadata": {
        "id": "2yOVwpNQVo65"
      }
    },
    {
      "cell_type": "code",
      "source": [
        "frase = str(input(\"Ingresa una frase: \"))\n",
        "puntuacion = '!\"\\'?¡¿,#.$|°¬:´¨[]{}();^`_~&><+-*/='\n",
        "for caracter in puntuacion:\n",
        "  frase = frase.replace(caracter, \" \")\n",
        "\n",
        "palabras = frase.split()  # crea una lista donde elimina los espacios en blanco y separa palabra por palabra\n",
        "\n",
        "# lambda: función anónima que define la condición (longitud de la palabra mayor a 5)\n",
        "# filter: recorre cada palabra y filtra solo las que tienen más de 5 caracteres\n",
        "# set: elimina las palabras duplicadas del resultado filtrado\n",
        "# sorted: ordena alfabéticamente las palabras resultantes ignorando mayúsculas y dejando los números al final\n",
        "# key=lambda x: (x.isdigit(), x.lower()): coloca los números al final y ordena palabras sin distinguir mayúsculas\n",
        "menor_a_5 = sorted(\n",
        "    set(filter(lambda menor: len(menor) < 5, palabras)),\n",
        "    key=lambda x: (x.isdigit(), x.lower())\n",
        ")\n",
        "\n",
        "print(f\"En tu frase ingresada, las palabras con menos de 5 carácteres son: {menor_a_5}\")\n"
      ],
      "metadata": {
        "colab": {
          "base_uri": "https://localhost:8080/"
        },
        "id": "fLe3am_1VCJt",
        "outputId": "f7e15508-5483-46a4-bb28-13e7c8685e76"
      },
      "execution_count": null,
      "outputs": [
        {
          "output_type": "stream",
          "name": "stdout",
          "text": [
            "Ingresa una frase: print(f\"En tu frase ingresada, las palabras con más de 5 carácteres son: {mayor_a_5}\")\n",
            "En tu frase ingresada, las palabras con más de 5 carácteres son: ['a', 'con', 'de', 'En', 'f', 'las', 'más', 'son', 'tu', '5']\n"
          ]
        }
      ]
    },
    {
      "cell_type": "markdown",
      "source": [
        "Ejemplo simple de como usar key, isdigit() y lower()"
      ],
      "metadata": {
        "id": "2RRk53S9X-vR"
      }
    },
    {
      "cell_type": "code",
      "source": [
        "# Lista original\n",
        "palabras = ['a', 'con', 'En', 'Hola', 'más', '5']\n",
        "\n",
        "# Paso 1: separar palabras y números\n",
        "solo_palabras = []\n",
        "solo_numeros = []\n",
        "\n",
        "for palabra in palabras:\n",
        "    if palabra.isdigit():\n",
        "        solo_numeros.append(palabra)     # Si es un número, lo guarda en la lista de números\n",
        "    else:\n",
        "        solo_palabras.append(palabra)    # Si no es número, lo guarda en la lista de palabras\n",
        "\n",
        "# Paso 2: ordenar palabras alfabéticamente ignorando mayúsculas\n",
        "#funcionamiento de key=str.lower \"Quiero que ordenes las palabras como si todas estuvieran en minúsculas, pero sin cambiar el texto original.\"\n",
        "ordenadas_palabras = sorted(solo_palabras, key=str.lower)\n",
        "\n",
        "# Paso 3: unir palabras ordenadas + números al final\n",
        "resultado_final = ordenadas_palabras + solo_numeros\n",
        "\n",
        "# Mostrar resultado\n",
        "print(\"Resultado ordenado:\", resultado_final)\n"
      ],
      "metadata": {
        "colab": {
          "base_uri": "https://localhost:8080/"
        },
        "id": "x5R13eRPX31K",
        "outputId": "615291a1-9a7c-4203-8f08-e450b3e0eb37"
      },
      "execution_count": null,
      "outputs": [
        {
          "output_type": "stream",
          "name": "stdout",
          "text": [
            "Resultado ordenado: ['a', 'con', 'En', 'Hola', 'más', '5']\n"
          ]
        }
      ]
    },
    {
      "cell_type": "markdown",
      "source": [
        "## <font color=green> 3. ESTRUCTURAS DE DATOS COMPUESTAS\n",
        "---"
      ],
      "metadata": {
        "id": "DoB6wf2JCYf7"
      }
    },
    {
      "cell_type": "markdown",
      "source": [
        "## 3.1 Estructuras anidadas\n",
        "\n",
        "Previamente, aprendimos a manipular las listas, tuplas y diccionarios para trabajar con una secuencia o colección de valores sean numéricos, categóricos, etc. En esta aula, vamos a profundizar en otra situación común para la persona científica de datos que es trabajar con estos tipos de estructuras anidadas, o sea, cuando, por ejemplo, tenemos listas dentro de una lista."
      ],
      "metadata": {
        "id": "3or6MbnZDW_b"
      }
    },
    {
      "cell_type": "markdown",
      "source": [
        "### **Lista de listas**\n",
        "\n",
        "#### Formato estándar:\n",
        "\n",
        "```python\n",
        "[[a1, a2,...,an], [b1, b2,...,bn], ..., [n1, n2,...,nn]]\n",
        "```"
      ],
      "metadata": {
        "id": "fddus1G9HqB3"
      }
    },
    {
      "cell_type": "markdown",
      "source": [
        "#### **Situación 6:**\n",
        "\n",
        "Recibimos la demanda de transformar una lista con el nombre y las notas de tres trimestres de algunos estudiantes en una lista simple, con los nombres separados de las notas, y una lista de listas con las tres notas de cada estudiante separadas entre sí. Los datos recibidos corresponden a una lista con los nombres y las respectivas notas de cada estudiante.\n",
        "\n",
        "**¿Vamos a resolver este desafío?**\n",
        "\n",
        "Para facilitar nuestra comprensión del proceso, vamos a trabajar con un grupo de 5 estudiantes; sin embargo, puedes probar otros casos para practicar.\n"
      ],
      "metadata": {
        "id": "32K5LA11tFpz"
      }
    },
    {
      "cell_type": "code",
      "source": [
        "notas_grupo = ['Juan', 8.0, 9.0, 10.0, 'Maria', 9.0, 7.0, 6.0, 'José', 3.4, 7.0, 7.0, 'Claudia', 5.5, 6.6, 8.0, 'Ana', 6.0, 10.0, 9.5]"
      ],
      "metadata": {
        "id": "jlEP-c2YthpB"
      },
      "execution_count": null,
      "outputs": []
    },
    {
      "cell_type": "code",
      "source": [
        "nombres = []\n",
        "notas = []\n",
        "# Recorre la lista original separando nombres (cada 4° elemento) y notas\n",
        "for i in range(len(notas_grupo)):\n",
        "  if i % 4 == 0:\n",
        "     nombres.append(notas_grupo[i])\n",
        "  else:\n",
        "    notas.append(notas_grupo[i])\n"
      ],
      "metadata": {
        "id": "azR_cX-ILghB"
      },
      "execution_count": null,
      "outputs": []
    },
    {
      "cell_type": "code",
      "source": [
        "nombres"
      ],
      "metadata": {
        "id": "GhfsJvs9LgjY",
        "colab": {
          "base_uri": "https://localhost:8080/"
        },
        "outputId": "02bcef00-a077-4c93-a475-6797dc007c2a"
      },
      "execution_count": null,
      "outputs": [
        {
          "output_type": "execute_result",
          "data": {
            "text/plain": [
              "['Juan', 'Maria', 'José', 'Claudia', 'Ana']"
            ]
          },
          "metadata": {},
          "execution_count": 5
        }
      ]
    },
    {
      "cell_type": "code",
      "source": [
        "notas"
      ],
      "metadata": {
        "id": "tB8FA20gLiog",
        "colab": {
          "base_uri": "https://localhost:8080/"
        },
        "outputId": "9014216c-21f1-4dd8-b9a7-c6504767b2bf"
      },
      "execution_count": null,
      "outputs": [
        {
          "output_type": "execute_result",
          "data": {
            "text/plain": [
              "[8.0, 9.0, 10.0, 9.0, 7.0, 6.0, 3.4, 7.0, 7.0, 5.5, 6.6, 8.0, 6.0, 10.0, 9.5]"
            ]
          },
          "metadata": {},
          "execution_count": 6
        }
      ]
    },
    {
      "cell_type": "code",
      "source": [
        "notas_separadas = []\n",
        "# Agrupa las notas de a 3 en una lista anidada (una por estudiante)\n",
        "for i in range(0,len(notas),3):\n",
        "  notas_separadas.append([notas[i],notas[i+1],notas[i+2]])\n",
        "\n"
      ],
      "metadata": {
        "id": "SCi8Jl82Liqo"
      },
      "execution_count": null,
      "outputs": []
    },
    {
      "cell_type": "code",
      "source": [
        "notas_separadas"
      ],
      "metadata": {
        "colab": {
          "base_uri": "https://localhost:8080/"
        },
        "id": "RsVkp2zAU7u0",
        "outputId": "38a880ce-32c3-424a-9db6-1dfee99804ef"
      },
      "execution_count": null,
      "outputs": [
        {
          "output_type": "execute_result",
          "data": {
            "text/plain": [
              "[[8.0, 9.0, 10.0],\n",
              " [9.0, 7.0, 6.0],\n",
              " [3.4, 7.0, 7.0],\n",
              " [5.5, 6.6, 8.0],\n",
              " [6.0, 10.0, 9.5]]"
            ]
          },
          "metadata": {},
          "execution_count": 9
        }
      ]
    },
    {
      "cell_type": "code",
      "source": [
        "# Calcula e imprime el promedio individual de cada estudiante\n",
        "for i in range(len(notas_separadas)):\n",
        "    promedio = sum(notas_separadas[i]) / len(notas_separadas[i])\n",
        "    promedio = round(promedio,1)\n",
        "    print(f\"El promedio del estudiante {i} es: {promedio}\")"
      ],
      "metadata": {
        "colab": {
          "base_uri": "https://localhost:8080/"
        },
        "id": "X4jT26JZWyRu",
        "outputId": "8c704518-e0c8-461e-9484-6f6e45f70661"
      },
      "execution_count": null,
      "outputs": [
        {
          "output_type": "stream",
          "name": "stdout",
          "text": [
            "El promedio del estudiante 0 es: 9.0\n",
            "El promedio del estudiante 1 es: 7.3\n",
            "El promedio del estudiante 2 es: 5.8\n",
            "El promedio del estudiante 3 es: 6.7\n",
            "El promedio del estudiante 4 es: 8.5\n"
          ]
        }
      ]
    },
    {
      "cell_type": "code",
      "source": [
        "# Función para extraer las notas del estudiante en la posición 1 (María)\n",
        "def calificaciones_maria(notas_separadas):\n",
        "    j = 1  # índice de María\n",
        "    notas_maria = []\n",
        "    for i in range(3):\n",
        "        notas_maria.append(notas_separadas[j][i])\n",
        "    return notas_maria\n",
        "\n",
        "# Llamada a la función para obtener y mostrar las notas de María\n",
        "notas_maria = calificaciones_maria(notas_separadas)\n",
        "\n",
        "# Imprimir fuera de la función\n",
        "print(notas_maria)"
      ],
      "metadata": {
        "colab": {
          "base_uri": "https://localhost:8080/"
        },
        "id": "Nz29HsQzY62O",
        "outputId": "7f28d7f7-ffdc-4631-9308-7865c45b6eae"
      },
      "execution_count": null,
      "outputs": [
        {
          "output_type": "stream",
          "name": "stdout",
          "text": [
            "[9.0, 7.0, 6.0]\n"
          ]
        }
      ]
    },
    {
      "cell_type": "markdown",
      "source": [
        "### **Lista de tuplas**\n",
        "\n",
        "#### Formato estándar:\n",
        "\n",
        "```python\n",
        "[(a1, a2,...,an), (b1, b2,...,bn), ..., (n1, n2,...,nn)]\n",
        "```"
      ],
      "metadata": {
        "id": "SW0sVg68sK_z"
      }
    },
    {
      "cell_type": "markdown",
      "source": [
        "#### **Situación 7:**\n",
        "\n",
        "Necesitamos generar una lista de tuplas con los nombres de los estudiantes y el código ID de cada uno de ellos para la plataforma de análisis de datos. La creación del código consiste en concatenar la primera letra del nombre del estudiante con un número aleatorio de 0 a 999. Los datos recibidos corresponden a una lista con los nombres de cada estudiante.\n",
        "\n",
        "**¿Vamos a resolver este desafío?**\n",
        "\n",
        "Para facilitar nuestra comprensión del proceso, vamos a trabajar con un grupo de 5 estudiantes; sin embargo, puedes probar otros casos para practicar.\n"
      ],
      "metadata": {
        "id": "OId6jAZz5x2m"
      }
    },
    {
      "cell_type": "code",
      "source": [
        "nombres = ['Juan', 'Maria', 'José', 'Claudia', 'Ana']"
      ],
      "metadata": {
        "id": "YA1zJ0G6LkTy"
      },
      "execution_count": null,
      "outputs": []
    },
    {
      "cell_type": "code",
      "source": [
        "from random import randint\n",
        "def genera_numero():\n",
        "  return randint(0,999) #devuelve un numero entero"
      ],
      "metadata": {
        "id": "yBzPwhGiLkWa"
      },
      "execution_count": null,
      "outputs": []
    },
    {
      "cell_type": "code",
      "source": [
        "genera_numero() #devuelve el número entero generado en la función"
      ],
      "metadata": {
        "id": "9qgGAjSyLndK",
        "outputId": "ac45e73a-09c2-4de9-a968-9b3f0404305a",
        "colab": {
          "base_uri": "https://localhost:8080/"
        }
      },
      "execution_count": null,
      "outputs": [
        {
          "output_type": "execute_result",
          "data": {
            "text/plain": [
              "986"
            ]
          },
          "metadata": {},
          "execution_count": 38
        }
      ]
    },
    {
      "cell_type": "code",
      "source": [
        "nombres[0][0] #para devolver la letra inicial"
      ],
      "metadata": {
        "id": "gf3IYwkQZEXB",
        "outputId": "fd90c1bf-4de7-475a-952a-d8ad2c497520",
        "colab": {
          "base_uri": "https://localhost:8080/",
          "height": 36
        }
      },
      "execution_count": null,
      "outputs": [
        {
          "output_type": "execute_result",
          "data": {
            "text/plain": [
              "'J'"
            ],
            "application/vnd.google.colaboratory.intrinsic+json": {
              "type": "string"
            }
          },
          "metadata": {},
          "execution_count": 10
        }
      ]
    },
    {
      "cell_type": "code",
      "source": [
        "codigo_estudiantes = []\n",
        "\n",
        "for i in range(len(nombres)):\n",
        "  codigo_estudiantes.append((nombres[i],nombres[i][0]+str(genera_numero())))"
      ],
      "metadata": {
        "id": "6TO2fohDYrab"
      },
      "execution_count": null,
      "outputs": []
    },
    {
      "cell_type": "code",
      "source": [
        "#codigo_estudiantes.remove( ('Ana', 'A329')) #remueve tupla de Ana\n",
        "#codigo_estudiantes[1]=('Pedro','P238') #Reemplaza la tupla de María. Posición [1]\n"
      ],
      "metadata": {
        "id": "kvfF0zUWXn2F"
      },
      "execution_count": null,
      "outputs": []
    },
    {
      "cell_type": "code",
      "source": [
        "codigo_estudiantes"
      ],
      "metadata": {
        "id": "i6r75pELZ2qr",
        "outputId": "0bf2cbd3-79f3-44d2-e72f-89effb9895d0",
        "colab": {
          "base_uri": "https://localhost:8080/"
        }
      },
      "execution_count": null,
      "outputs": [
        {
          "output_type": "execute_result",
          "data": {
            "text/plain": [
              "[('Juan', 'J748'),\n",
              " ('Maria', 'M755'),\n",
              " ('José', 'J79'),\n",
              " ('Claudia', 'C35'),\n",
              " ('Ana', 'A690')]"
            ]
          },
          "metadata": {},
          "execution_count": 48
        }
      ]
    },
    {
      "cell_type": "code",
      "source": [],
      "metadata": {
        "id": "-8NocMDQd8Cw"
      },
      "execution_count": null,
      "outputs": []
    },
    {
      "cell_type": "markdown",
      "source": [
        "Las tuplas son estructuras de datos inmutables en el lenguaje Python que se utilizan para almacenar conjuntos de múltiples elementos y a menudo se aplican para agrupar datos que no deben modificarse. Es decir, no es posible agregar, cambiar o eliminar sus elementos después de creadas. Vamos a explorar un poco más este tipo de estructura enfocada en la aplicación en ciencia de datos.\n",
        "\n",
        "Las tuplas son especialmente útiles en situaciones en las que necesitamos garantizar que los datos no se modifiquen accidental o intencionalmente. Por ejemplo, en un conjunto de datos que representa el registro de estudiantes, podemos utilizar una tupla para representar a ese estudiante en particular y mantenerlo en la base de datos de una institución educativa. De esta manera, aseguramos que la información de cada estudiante no se modifique inadvertidamente.\n",
        "\n",
        "Para crear una tupla, simplemente separamos sus elementos por comas y los envolvemos entre paréntesis. Por ejemplo, podemos crear una tupla con un registro de una estudiante de la siguiente manera:"
      ],
      "metadata": {
        "id": "gXg3I3vPd7Q6"
      }
    },
    {
      "cell_type": "code",
      "source": [
        "registro = (\"Julia\", 23, \"CDMX\", \"EM\", \"Python para DS 1\")"
      ],
      "metadata": {
        "id": "BJImxxnTd-kC"
      },
      "execution_count": null,
      "outputs": []
    },
    {
      "cell_type": "code",
      "source": [
        "print(registro[0])  # imprime Julia\n",
        "print(registro[-1])  # imprime Python para DS 1"
      ],
      "metadata": {
        "colab": {
          "base_uri": "https://localhost:8080/"
        },
        "id": "QbSkGabVeAch",
        "outputId": "50d42b4d-eae2-4fb0-c6df-239ccc2dfd25"
      },
      "execution_count": null,
      "outputs": [
        {
          "output_type": "stream",
          "name": "stdout",
          "text": [
            "Julia\n",
            "Python para DS 1\n"
          ]
        }
      ]
    },
    {
      "cell_type": "code",
      "source": [
        "nombre, edad, ciudad, estado, curso = registro #podemos desempaquetar los datos de una tupla pasando cada valor a una variable"
      ],
      "metadata": {
        "id": "q0emuCN9eAka"
      },
      "execution_count": null,
      "outputs": []
    },
    {
      "cell_type": "code",
      "source": [
        "print(f'La estudiante {nombre} tiene {edad} años y vive en {ciudad}-{estado}. Ella está matriculada en el curso de {curso}.')"
      ],
      "metadata": {
        "colab": {
          "base_uri": "https://localhost:8080/"
        },
        "id": "aBGck9NweAsi",
        "outputId": "fe6f73a2-f5a4-4c18-b112-a8db8a32f5c8"
      },
      "execution_count": null,
      "outputs": [
        {
          "output_type": "stream",
          "name": "stdout",
          "text": [
            "La estudiante Julia tiene 23 años y vive en CDMX-EM. Ella está matriculada en el curso de Python para DS 1.\n"
          ]
        }
      ]
    },
    {
      "cell_type": "markdown",
      "source": [
        "## 3.2 List comprehension\n",
        "\n",
        "Es una forma simple y concisa de crear una lista. Podemos aplicar condicionales y lazos para crear diversos tipos de listas a partir de patrones que deseamos para nuestra estructura de datos.\n",
        "\n",
        "https://docs.python.org/es/3/tutorial/datastructures.html?#list-comprehensions\n",
        "\n",
        "#### Formato estándar:\n",
        "\n",
        "```python\n",
        "[expresion for item in lista]\n",
        "```"
      ],
      "metadata": {
        "id": "srHAov19QCdb"
      }
    },
    {
      "cell_type": "markdown",
      "source": [
        "#### **Situación 8:**\n",
        "\n",
        "Recibimos la demanda de crear una lista con el promedio de los estudiantes de la lista de listas que creamos en la Situación 6, redondeando el promedio a una casilla decimal. Recordando que cada lista de la lista de listas contiene las tres notas de cada estudiante.\n",
        "\n",
        "**¿Vamos a resolver este desafío?**\n",
        "\n",
        "**Tip:** Utiliza el formato:\n",
        "```python\n",
        "[expresion for item in lista]\n",
        "```"
      ],
      "metadata": {
        "id": "l4HW0gDqecgM"
      }
    },
    {
      "cell_type": "code",
      "source": [
        "notas = [[8.0, 9.0, 10.0],[9.0, 7.0, 6.0],[3.4, 7.0, 7.0],[5.5, 6.6, 8.0],[6.0, 10.0, 9.5]]"
      ],
      "metadata": {
        "id": "ioR3pxbf54KP"
      },
      "execution_count": null,
      "outputs": []
    },
    {
      "cell_type": "code",
      "source": [
        "def promedio(notas: list=[0]) -> float:\n",
        "  ''' Función para calcular el promedio de notas en una lista\n",
        "\n",
        "  lista: list, default [0]\n",
        "    Lista con las notas para calcular el promedio\n",
        "  return = calculo: float\n",
        "    Promedio calculado\n",
        "  '''\n",
        "\n",
        "  calculo = sum(notas) / len(notas)\n",
        "\n",
        "  return calculo"
      ],
      "metadata": {
        "id": "J_atQRQdlpNe"
      },
      "execution_count": null,
      "outputs": []
    },
    {
      "cell_type": "code",
      "source": [],
      "metadata": {
        "id": "i_nfW4yU_BRw"
      },
      "execution_count": null,
      "outputs": []
    },
    {
      "cell_type": "code",
      "source": [
        "promedios = [round(promedio(nota),1) for nota in notas] #usando list comprehesion\n",
        "promedios"
      ],
      "metadata": {
        "id": "3j8_H7e8LAJZ",
        "colab": {
          "base_uri": "https://localhost:8080/"
        },
        "outputId": "5fc8a3b4-e9c4-42cf-8b22-d3518a661ff6"
      },
      "execution_count": null,
      "outputs": [
        {
          "output_type": "execute_result",
          "data": {
            "text/plain": [
              "[9.0, 7.3, 5.8, 6.7, 8.5]"
            ]
          },
          "metadata": {},
          "execution_count": 4
        }
      ]
    },
    {
      "cell_type": "code",
      "source": [
        "#mi intento\n",
        "'''\n",
        "notas = [(8.0, 9.0, 10.0),\n",
        " (3.4, 7.0, 7.0),\n",
        " (9.0, 7.0, 6.0),\n",
        " (5.5, 6.6, 8.0),\n",
        " (6.0, 10.0, 9.5)]\n",
        "promedio = [sum(sublista) / len(sublista) for (sublista) in notas]\n",
        "promedio_redondeado = [round(p,1) for p in promedio]\n",
        "promedio_redondeado\n",
        "'''"
      ],
      "metadata": {
        "id": "PGxDbJOQA-Cf",
        "outputId": "17e30e95-f198-40a1-99f7-43625be01c63",
        "colab": {
          "base_uri": "https://localhost:8080/",
          "height": 54
        }
      },
      "execution_count": null,
      "outputs": [
        {
          "output_type": "execute_result",
          "data": {
            "text/plain": [
              "'\\nnotas = [(8.0, 9.0, 10.0),\\n (3.4, 7.0, 7.0),\\n (9.0, 7.0, 6.0),\\n (5.5, 6.6, 8.0),\\n (6.0, 10.0, 9.5)]\\npromedio = [sum(sublista) / len(sublista) for (sublista) in notas]\\npromedio_redondeado = [round(p,1) for p in promedio]\\npromedio_redondeado\\n'"
            ],
            "application/vnd.google.colaboratory.intrinsic+json": {
              "type": "string"
            }
          },
          "metadata": {},
          "execution_count": 101
        }
      ]
    },
    {
      "cell_type": "markdown",
      "source": [
        "#### **Situación 9:**\n",
        "\n",
        "Ahora, necesitamos utilizar los promedios calculados en el ejemplo anterior, y agruparlos con el nombre de los respectivos estudiantes. Esto será necesario para generar una lista que seleccione a aquellos estudiantes que posean un promedio final mayor o igual a 8 para concursar por una beca de estudios para el próximo año lectivo. Los datos recibidos corresponden a una lista de tuplas con los nombres y los códigos de los estudiantes junto a la lista de promedios calculados previamente.\n",
        "\n",
        "**Nota: El número de código será diferente cada vez que se ejecute la celda que los genera, por lo tanto, es completamente normal que estos códigos sean diferentes.**\n",
        "\n",
        "**¿Vamos a resolver este desafío?**\n",
        "\n",
        "Para facilitar nuestra comprensión del proceso vamos a trabajar con un grupo de 5 estudiantes.\n",
        "\n",
        "**Tip:** Utiliza el formato:\n",
        "\n",
        "```python\n",
        "[expresion for item in lista if condicion]\n",
        "```"
      ],
      "metadata": {
        "id": "ApLjXlAdhJKd"
      }
    },
    {
      "cell_type": "code",
      "source": [
        "nombres = [('Juan', 'J748'),('Maria', 'M755'),('José', 'J79'),('Claudia', 'C35'),('Ana', 'A690')]\n",
        "promedios = [9.0, 7.3, 5.8, 6.7, 8.5]"
      ],
      "metadata": {
        "id": "QK-ubmmrLC7I"
      },
      "execution_count": null,
      "outputs": []
    },
    {
      "cell_type": "code",
      "source": [
        "nombres = [nombre[0] for nombre in nombres]\n",
        "nombres"
      ],
      "metadata": {
        "id": "df1Q8GGELC9b",
        "colab": {
          "base_uri": "https://localhost:8080/"
        },
        "outputId": "2cd1f940-a630-4bd5-9056-687ec4737e84"
      },
      "execution_count": null,
      "outputs": [
        {
          "output_type": "execute_result",
          "data": {
            "text/plain": [
              "['Juan', 'Maria', 'José', 'Claudia', 'Ana']"
            ]
          },
          "metadata": {},
          "execution_count": 9
        }
      ]
    },
    {
      "cell_type": "markdown",
      "source": [
        "<font color=green>**Tip:**</font> Para lograr parear los promedios y\n",
        "los nombres fácilmente, podemos acudir a otra  built-in function: `zip()`\n",
        "\n",
        "Esta recibe uno o más iterables (lista, string, dict, etc.) y los retorna como un iterador de tuplas donde cada elemento de los iterables es pareado."
      ],
      "metadata": {
        "id": "U6KAABs7Dfpe"
      }
    },
    {
      "cell_type": "code",
      "source": [
        "estudiantes = list(zip(nombres,promedios)) #parea los nombres con los promedios\n",
        "estudiantes"
      ],
      "metadata": {
        "id": "841v92WvLEol",
        "colab": {
          "base_uri": "https://localhost:8080/"
        },
        "outputId": "6c791847-1e86-480c-b36b-6b283a647c0c"
      },
      "execution_count": null,
      "outputs": [
        {
          "output_type": "execute_result",
          "data": {
            "text/plain": [
              "[('Juan', 9.0), ('Maria', 7.3), ('José', 5.8), ('Claudia', 6.7), ('Ana', 8.5)]"
            ]
          },
          "metadata": {},
          "execution_count": 10
        }
      ]
    },
    {
      "cell_type": "code",
      "source": [
        "candidatos = [estudiante[0] for estudiante in estudiantes if estudiante[1] >= 8] #filtra segun los promedios >= a 8\n",
        "candidatos"
      ],
      "metadata": {
        "id": "U8b4G_2oLErp",
        "colab": {
          "base_uri": "https://localhost:8080/"
        },
        "outputId": "e6552bc8-db89-45dd-d393-d377c4b9eedb"
      },
      "execution_count": null,
      "outputs": [
        {
          "output_type": "execute_result",
          "data": {
            "text/plain": [
              "['Juan', 'Ana']"
            ]
          },
          "metadata": {},
          "execution_count": 12
        }
      ]
    },
    {
      "cell_type": "markdown",
      "source": [
        "# **Para saber más: función zip()**\n",
        "La función zip() es una función incorporada de Python que toma uno o más iterables (lista, cadena, diccionario, etc.) y los devuelve como un iterador de tuplas donde cada elemento de los iterables está emparejado. Es útil para realizar iteraciones simultáneas en varias listas.\n",
        "\n",
        "La función zip() se puede utilizar junto con otras funciones de Python, como map() y filter(), para crear soluciones elegantes y concisas para ciertos problemas. Realicemos una prueba simple para verificar este comportamiento:"
      ],
      "metadata": {
        "id": "_51neDabNFHQ"
      }
    },
    {
      "cell_type": "code",
      "source": [
        "objeto_zip = zip([1, 2, 3])\n",
        "objeto_zip"
      ],
      "metadata": {
        "colab": {
          "base_uri": "https://localhost:8080/"
        },
        "id": "KpT4i6oQNELS",
        "outputId": "535b944a-e4ed-4719-dd69-f223225cf332"
      },
      "execution_count": null,
      "outputs": [
        {
          "output_type": "execute_result",
          "data": {
            "text/plain": [
              "<zip at 0x7a51da656340>"
            ]
          },
          "metadata": {},
          "execution_count": 13
        }
      ]
    },
    {
      "cell_type": "markdown",
      "source": [
        "Notamos que zip() creó un objeto zip en la memoria, que sería nuestro iterable. Coloquemos el resultado en una lista para verificar la salida:"
      ],
      "metadata": {
        "id": "vuEwc4-dNSXE"
      }
    },
    {
      "cell_type": "code",
      "source": [
        "list(objeto_zip)"
      ],
      "metadata": {
        "colab": {
          "base_uri": "https://localhost:8080/"
        },
        "id": "lmSMlbpFNbdk",
        "outputId": "eed324d5-8e54-473d-d42a-b210f0d7bdbf"
      },
      "execution_count": null,
      "outputs": [
        {
          "output_type": "execute_result",
          "data": {
            "text/plain": [
              "[(1,), (2,), (3,)]"
            ]
          },
          "metadata": {},
          "execution_count": 14
        }
      ]
    },
    {
      "cell_type": "markdown",
      "source": [
        "Observa que, con solo un iterable, se generó una lista de tuplas, donde cada tupla tiene, como uno de los pares, los elementos provenientes de la lista [1, 2, 3] y la otra parte de los pares está vacía. Como solo usamos un iterable, cada tupla está vacía en el segundo elemento, ya que zip() actúa para crear pares de iterables.\n",
        "\n",
        "Pero lo más interesante es trabajar con dos o más iterables en los que podemos emparejarlos. Por ejemplo, si queremos crear una lista de tuplas con la asignación de las regiones de Brasil con sus respectivos identificadores:"
      ],
      "metadata": {
        "id": "jNGsi_WhNYY1"
      }
    },
    {
      "cell_type": "code",
      "source": [
        "id = [1, 2, 3, 4, 5]\n",
        "region = [\"Norte\", \"Oriente\", \"Sudeste\", \"Centro\", \"Sur\"]\n",
        "\n",
        "mapa = list(zip(id, region))\n",
        "mapa"
      ],
      "metadata": {
        "colab": {
          "base_uri": "https://localhost:8080/"
        },
        "id": "AACywa7wNg7P",
        "outputId": "080d6ca0-f0b2-4dde-a1a4-c35dbef2f05a"
      },
      "execution_count": null,
      "outputs": [
        {
          "output_type": "execute_result",
          "data": {
            "text/plain": [
              "[(1, 'Norte'), (2, 'Oriente'), (3, 'Sudeste'), (4, 'Centro'), (5, 'Sur')]"
            ]
          },
          "metadata": {},
          "execution_count": 15
        }
      ]
    },
    {
      "cell_type": "markdown",
      "source": [
        "Para un científico de datos, esta función puede ayudar a emparejar dos listas diferentes en un único objeto zip, que se puede transformar en una lista de tuplas (formato ideal para generar un índice de más de un nivel que se explorará en algunos de los cursos de la formación) o en un diccionario pasando el objeto zip a la función dict().\n",
        "\n",
        "Ahora, si las listas de entrada tienen longitudes diferentes, la salida contendrá el mismo número de tuplas que la lista de menor longitud y los elementos restantes de los otros iterables se ignorarán. Por ejemplo:"
      ],
      "metadata": {
        "id": "g39aSvpaNl-v"
      }
    },
    {
      "cell_type": "code",
      "source": [
        "codigos = [\"1000\", \"1001\", \"1002\", \"1003\", \"1004\", \"1005\"]\n",
        "frutas = [\"manzana\", \"uva\", \"banana\", \"naranja\"]\n",
        "\n",
        "mercancia = list(zip(codigos, frutas))\n",
        "mercancia"
      ],
      "metadata": {
        "colab": {
          "base_uri": "https://localhost:8080/"
        },
        "id": "TLs9TY4ONnFe",
        "outputId": "c55ff475-b07a-42f2-e974-e8b1bfede032"
      },
      "execution_count": null,
      "outputs": [
        {
          "output_type": "execute_result",
          "data": {
            "text/plain": [
              "[('1000', 'manzana'), ('1001', 'uva'), ('1002', 'banana'), ('1003', 'naranja')]"
            ]
          },
          "metadata": {},
          "execution_count": 16
        }
      ]
    },
    {
      "cell_type": "markdown",
      "source": [
        "Para realizar el proceso contrario, de transformar una tupla iterable en listas, basta con colocar el operador asterisco (*) al lado izquierdo del nombre de la tupla iterable que se desea extraer los datos, transmitiendo cada tupla a una variable."
      ],
      "metadata": {
        "id": "oQ0hos7QNrx4"
      }
    },
    {
      "cell_type": "code",
      "source": [
        "tupla_iterable = [('J392', 'Juan'), ('M890', 'Maria'), ('J681', 'José'), ('C325', 'Claudia'), ('A49', 'Ana')]\n",
        "ids, nombres = zip(*tupla_iterable)\n",
        "\n",
        "ids = list(ids)\n",
        "nombres = list(nombres)\n",
        "\n",
        "print(\"IDs = \", ids)\n",
        "print(\"Nombres = \", nombres)"
      ],
      "metadata": {
        "colab": {
          "base_uri": "https://localhost:8080/"
        },
        "id": "Isfnztf5NsuX",
        "outputId": "ccbde567-5cde-46a7-e293-ae2c669ae668"
      },
      "execution_count": null,
      "outputs": [
        {
          "output_type": "stream",
          "name": "stdout",
          "text": [
            "IDs =  ['J392', 'M890', 'J681', 'C325', 'A49']\n",
            "Nombres =  ['Juan', 'Maria', 'José', 'Claudia', 'Ana']\n"
          ]
        }
      ]
    },
    {
      "cell_type": "markdown",
      "source": [
        "La idea de realizar un \"desempaquetado inverso\" es útil cuando queremos extraer claves o valores por separado o generar una lista de tuplas separadas, con el conjunto de claves y valores, cada uno representado en una tupla."
      ],
      "metadata": {
        "id": "nm821OonNyFj"
      }
    },
    {
      "cell_type": "markdown",
      "source": [
        "#### **Situación 10:**\n",
        "\n",
        "Recibimos dos demandas sobre este proyecto con las notas de los estudiantes:\n",
        "- Crear una lista de la situación de los estudiantes considerando los siguientes casos: Si su promedio es mayor o igual a 7, recibirá el valor \"Aprobado\" y en caso contrario recibirá el valor \"Reprobado\".\n",
        "- Generar una lista de listas con:\n",
        "  - Lista de tuplas con el nombre de los estudiantes y sus códigos\n",
        "  - Lista de listas con las notas de cada estudiante\n",
        "  - Lista con los promedios de cada estudiante\n",
        "  - Lista de la situación de los estudiantes de acuerdo con los promedios\n",
        "\n",
        "Los datos que utilizaremos son los mismos que generamos en las situaciones anteriores (`nombres`, `notas`, `promedios`).\n",
        "\n",
        "**¿Vamos a resolver este desafío?**\n",
        "\n",
        "Para avanzar en el proceso, vamos a dejar escritas las estructuras de datos que ya produjimos.\n",
        "\n",
        "**Tip:** Para la lista de las situaciones utiliza el formato:\n",
        "```python\n",
        "[resultado_if if condicion else resultado_else for item in lista]\n",
        "```"
      ],
      "metadata": {
        "id": "9yzRDIB0fkeF"
      }
    },
    {
      "cell_type": "code",
      "source": [
        "nombres = [('Juan', 'J748'),('Maria', 'M755'),('José', 'J79'),('Claudia', 'C35'),('Ana', 'A690')]\n",
        "notas = [[8.0, 9.0, 10.0],[9.0, 7.0, 6.0],[3.4, 7.0, 7.0],[5.5, 6.6, 8.0],[6.0, 10.0, 9.5]]\n",
        "promedios = [9.0, 7.3, 5.8, 6.7, 8.5]"
      ],
      "metadata": {
        "id": "YGQIaCzkLGqd"
      },
      "execution_count": null,
      "outputs": []
    },
    {
      "cell_type": "code",
      "source": [
        "situacion = ['Aprobado(a)' if promedio >= 7 else 'Reprobado(a)' for promedio in promedios]\n",
        "situacion"
      ],
      "metadata": {
        "id": "OAAQHwE1LGs2",
        "colab": {
          "base_uri": "https://localhost:8080/"
        },
        "outputId": "fa0c2445-5c45-4cab-805b-1f7ae7631352"
      },
      "execution_count": null,
      "outputs": [
        {
          "output_type": "execute_result",
          "data": {
            "text/plain": [
              "['Aprobado(a)', 'Aprobado(a)', 'Reprobado(a)', 'Reprobado(a)', 'Aprobado(a)']"
            ]
          },
          "metadata": {},
          "execution_count": 25
        }
      ]
    },
    {
      "cell_type": "markdown",
      "source": [
        "**Tip:** Para generar la lista de listas del enunciado podemos utilizar el siguiente formato:\n",
        "```python\n",
        "[expresion for item in lista de listas]\n",
        "```"
      ],
      "metadata": {
        "id": "0XsAi49IF9Ta"
      }
    },
    {
      "cell_type": "code",
      "source": [
        "registros = [x for x in [nombres,notas,promedios,situacion]]\n",
        "registros"
      ],
      "metadata": {
        "id": "1Dj6R1vTLIbI",
        "colab": {
          "base_uri": "https://localhost:8080/"
        },
        "outputId": "f4f6ee9c-ac34-41d8-b5e9-dd2035a15736"
      },
      "execution_count": null,
      "outputs": [
        {
          "output_type": "execute_result",
          "data": {
            "text/plain": [
              "[[('Juan', 'J748'),\n",
              "  ('Maria', 'M755'),\n",
              "  ('José', 'J79'),\n",
              "  ('Claudia', 'C35'),\n",
              "  ('Ana', 'A690')],\n",
              " [[8.0, 9.0, 10.0],\n",
              "  [9.0, 7.0, 6.0],\n",
              "  [3.4, 7.0, 7.0],\n",
              "  [5.5, 6.6, 8.0],\n",
              "  [6.0, 10.0, 9.5]],\n",
              " [9.0, 7.3, 5.8, 6.7, 8.5],\n",
              " ['Aprobado(a)', 'Aprobado(a)', 'Reprobado(a)', 'Reprobado(a)', 'Aprobado(a)']]"
            ]
          },
          "metadata": {},
          "execution_count": 22
        }
      ]
    },
    {
      "cell_type": "code",
      "source": [],
      "metadata": {
        "id": "cTLEQQ2eLIqc"
      },
      "execution_count": null,
      "outputs": []
    },
    {
      "cell_type": "markdown",
      "source": [
        "<font color=green>**Tip:**</font> Podemos acudir a la forma más simple de generación de lista de listas con el uso directo de los corchetes sin la necesidad de utilizar las expresiones y el lazo `for` que se emplea en la comprensión de listas."
      ],
      "metadata": {
        "id": "4hkHEZGbGH7X"
      }
    },
    {
      "cell_type": "code",
      "source": [
        "lista_completa = [nombres,notas,promedios,situacion]\n",
        "lista_completa"
      ],
      "metadata": {
        "id": "1tEtWzSoLKKg",
        "colab": {
          "base_uri": "https://localhost:8080/"
        },
        "outputId": "d5dab747-c3ba-4273-e64d-5b5730b11b95"
      },
      "execution_count": null,
      "outputs": [
        {
          "output_type": "execute_result",
          "data": {
            "text/plain": [
              "[[('Juan', 'J748'),\n",
              "  ('Maria', 'M755'),\n",
              "  ('José', 'J79'),\n",
              "  ('Claudia', 'C35'),\n",
              "  ('Ana', 'A690')],\n",
              " [[8.0, 9.0, 10.0],\n",
              "  [9.0, 7.0, 6.0],\n",
              "  [3.4, 7.0, 7.0],\n",
              "  [5.5, 6.6, 8.0],\n",
              "  [6.0, 10.0, 9.5]],\n",
              " [9.0, 7.3, 5.8, 6.7, 8.5],\n",
              " ['Aprobado(a)', 'Aprobado(a)', 'Reprobado(a)', 'Reprobado(a)', 'Aprobado(a)']]"
            ]
          },
          "metadata": {},
          "execution_count": 24
        }
      ]
    },
    {
      "cell_type": "code",
      "source": [
        "# Mostrar nombre, notas, promedio y situación de cada estudiante usando forma tradicional\n",
        "for i in range(0,len(lista_completa)):\n",
        "  print(f\"El/la estudiante {nombres[i][0]} obtuvo las siguientes notas: {notas[i]}\")\n",
        "  print(f\"Sacando un promedio de {promedios[i]}. Su situación es: {situacion[i]}\")"
      ],
      "metadata": {
        "id": "lRk02Bm5LMB3",
        "colab": {
          "base_uri": "https://localhost:8080/"
        },
        "outputId": "5b13a4a7-e7af-4758-9469-4bead67427df"
      },
      "execution_count": null,
      "outputs": [
        {
          "output_type": "stream",
          "name": "stdout",
          "text": [
            "El/la estudiante Juan obtuvo las siguientes notas: [8.0, 9.0, 10.0]\n",
            "Sacando un promedio de 9.0. Su situación es: Aprobado(a)\n",
            "El/la estudiante Maria obtuvo las siguientes notas: [9.0, 7.0, 6.0]\n",
            "Sacando un promedio de 7.3. Su situación es: Aprobado(a)\n",
            "El/la estudiante José obtuvo las siguientes notas: [3.4, 7.0, 7.0]\n",
            "Sacando un promedio de 5.8. Su situación es: Reprobado(a)\n",
            "El/la estudiante Claudia obtuvo las siguientes notas: [5.5, 6.6, 8.0]\n",
            "Sacando un promedio de 6.7. Su situación es: Reprobado(a)\n"
          ]
        }
      ]
    },
    {
      "cell_type": "code",
      "source": [
        "# Mostrar nombre, notas, promedio y situación de cada estudiante usando comprensión de listas\n",
        "[print(f\"El/la estudiante {nombres[i][0]} obtuvo las siguientes notas: {notas[i]}\\n\"\n",
        "       f\"Sacando un promedio de {promedios[i]}. Su situación es: {situacion[i]}\")\n",
        "  for i in range(len(lista_completa))]\n"
      ],
      "metadata": {
        "colab": {
          "base_uri": "https://localhost:8080/"
        },
        "id": "Su3dksnJsm49",
        "outputId": "a0c42f6f-98fd-4a42-d3f9-dc8f8c7499d4"
      },
      "execution_count": null,
      "outputs": [
        {
          "output_type": "stream",
          "name": "stdout",
          "text": [
            "El/la estudiante Juan obtuvo las siguientes notas: [8.0, 9.0, 10.0]\n",
            "Sacando un promedio de 9.0. Su situación es: Aprobado(a)\n",
            "El/la estudiante Maria obtuvo las siguientes notas: [9.0, 7.0, 6.0]\n",
            "Sacando un promedio de 7.3. Su situación es: Aprobado(a)\n",
            "El/la estudiante José obtuvo las siguientes notas: [3.4, 7.0, 7.0]\n",
            "Sacando un promedio de 5.8. Su situación es: Reprobado(a)\n",
            "El/la estudiante Claudia obtuvo las siguientes notas: [5.5, 6.6, 8.0]\n",
            "Sacando un promedio de 6.7. Su situación es: Reprobado(a)\n"
          ]
        },
        {
          "output_type": "execute_result",
          "data": {
            "text/plain": [
              "[None, None, None, None]"
            ]
          },
          "metadata": {},
          "execution_count": 40
        }
      ]
    },
    {
      "cell_type": "markdown",
      "source": [
        "Quise agregar la lista de ***sexo***"
      ],
      "metadata": {
        "id": "b0PZ4XAIyPyu"
      }
    },
    {
      "cell_type": "code",
      "source": [
        "sexo = ['m', 'f', 'm', 'f', 'f']"
      ],
      "metadata": {
        "id": "QiinxX1OxEQd"
      },
      "execution_count": null,
      "outputs": []
    },
    {
      "cell_type": "code",
      "source": [
        "[print(f\"{'El' if sexo[i] == 'm' else 'La'} estudiante {nombres[i][0]} obtuvo las siguientes notas: {notas[i]}\\n\"\n",
        "       f\"Sacando un promedio de {promedios[i]}. Su situación es: {situacion[i]}\")\n",
        " for i in range(len(nombres))]\n"
      ],
      "metadata": {
        "colab": {
          "base_uri": "https://localhost:8080/"
        },
        "id": "ekLz8msDxAK4",
        "outputId": "3e0b0409-e960-4ffb-f8a3-b709fc430290"
      },
      "execution_count": null,
      "outputs": [
        {
          "output_type": "stream",
          "name": "stdout",
          "text": [
            "El estudiante Juan obtuvo las siguientes notas: [8.0, 9.0, 10.0]\n",
            "Sacando un promedio de 9.0. Su situación es: Aprobado(a)\n",
            "La estudiante Maria obtuvo las siguientes notas: [9.0, 7.0, 6.0]\n",
            "Sacando un promedio de 7.3. Su situación es: Aprobado(a)\n",
            "El estudiante José obtuvo las siguientes notas: [3.4, 7.0, 7.0]\n",
            "Sacando un promedio de 5.8. Su situación es: Reprobado(a)\n",
            "La estudiante Claudia obtuvo las siguientes notas: [5.5, 6.6, 8.0]\n",
            "Sacando un promedio de 6.7. Su situación es: Reprobado(a)\n",
            "La estudiante Ana obtuvo las siguientes notas: [6.0, 10.0, 9.5]\n",
            "Sacando un promedio de 8.5. Su situación es: Aprobado(a)\n"
          ]
        },
        {
          "output_type": "execute_result",
          "data": {
            "text/plain": [
              "[None, None, None, None, None]"
            ]
          },
          "metadata": {},
          "execution_count": 44
        }
      ]
    },
    {
      "cell_type": "code",
      "source": [
        "alturas = [1.70, 1.80, 1.65, 1.75, 1.90]\n",
        "pesos = [65, 80, 58, 70, 95]\n",
        "\n",
        "imc = [round((peso / altura**2), 1) for altura, peso in zip(alturas, pesos)]\n",
        "print(imc)"
      ],
      "metadata": {
        "id": "l4qJ20LXzo_M",
        "outputId": "973d12e5-de22-442e-80a0-ae82acf08ded",
        "colab": {
          "base_uri": "https://localhost:8080/"
        }
      },
      "execution_count": null,
      "outputs": [
        {
          "output_type": "stream",
          "name": "stdout",
          "text": [
            "[22.5, 24.7, 21.3, 22.9, 26.3]\n"
          ]
        }
      ]
    },
    {
      "cell_type": "markdown",
      "source": [
        "## 3.3 Dict comprehension\n",
        "\n",
        "Es una forma simple y concisa de crear o modificar un diccionario. Podemos aplicar condicionales y lazos para crear diversos tipos de diccionarios a partir de los patrones que buscamos para nuestra estructura de datos y con el soporte de iterables como listas o sets.\n",
        "\n",
        "https://peps.python.org/pep-0274/\n",
        "\n",
        "#### Formato estándar:\n",
        "\n",
        "```python\n",
        "{llave: valor for item in lista}\n",
        "```"
      ],
      "metadata": {
        "id": "NmohhDl-QRpx"
      }
    },
    {
      "cell_type": "markdown",
      "source": [
        "#### **Situación 11:**\n",
        "\n",
        "Ahora, nuestra demanda consiste en generar un diccionario a partir de la lista de listas que creamos en la Situación 10 para entregar a la persona responsable por construir las tablas para el análisis de los datos.\n",
        "- Las llaves de nuestro diccionario serán las columnas identificando el tipo de dato\n",
        "- Los valores serán las listas con los datos correspondientes a aquella llave.\n",
        "\n",
        "**¿Vamos a resolver este desafío?**\n",
        "\n",
        "Para facilitar nuestra comprensión del proceso vamos a trabajar con un grupo de 5 estudiantes.\n",
        "\n",
        "**Tip:** Utiliza el formato\n",
        "\n",
        "```python\n",
        "{llave: valor for item in lista}\n",
        "```"
      ],
      "metadata": {
        "id": "kGt8hQXOKeIt"
      }
    },
    {
      "cell_type": "code",
      "source": [
        "lista_completa = [[('Juan', 'J748'),('Maria', 'M755'),('José', 'J79'),('Claudia', 'C35'),('Ana', 'A690')],\n",
        "                  [[8.0, 9.0, 10.0],[9.0, 7.0, 6.0],[3.4, 7.0, 7.0],[5.5, 6.6, 8.0],[6.0, 10.0, 9.5]],\n",
        "                  [9.0, 7.3, 5.8, 6.7, 8.5],\n",
        "                  ['Aprobado(a)', 'Aprobado(a)', 'Reprobado(a)', 'Reprobado(a)', 'Aprobado(a)']]"
      ],
      "metadata": {
        "id": "GuTwYw8NLNST"
      },
      "execution_count": null,
      "outputs": []
    },
    {
      "cell_type": "code",
      "source": [
        "columnas = ['Notas','Promedio Final','Situación']  #Cada elemento se utilizará como una clave en el diccionario registro.\n",
        "\n",
        "#columnas[i] corresponde a elementos de mi columna\n",
        "#lista_completa[i+1] empieza a partir del segundo elemento\n",
        "#no ocupamos el primero porque tiene una tupla y sería mas complejo para el ejercicio práctico\n",
        "#Se recorre cada elemento de cada lista dentro de la lista_completa a partir de la segunda lista interna\n",
        "registro = {columnas[i]:lista_completa[i+1] for i in range(len(columnas))} #crea un nuevo diccionario llamado registro utilizando una comprensión de diccionarios.\n",
        "registro\n"
      ],
      "metadata": {
        "id": "Ka1JPCuvLP4x",
        "outputId": "c0dfca3b-c14e-4046-b28d-80a981c1eb66",
        "colab": {
          "base_uri": "https://localhost:8080/"
        }
      },
      "execution_count": null,
      "outputs": [
        {
          "output_type": "execute_result",
          "data": {
            "text/plain": [
              "{'Notas': [[8.0, 9.0, 10.0],\n",
              "  [9.0, 7.0, 6.0],\n",
              "  [3.4, 7.0, 7.0],\n",
              "  [5.5, 6.6, 8.0],\n",
              "  [6.0, 10.0, 9.5]],\n",
              " 'Promedio Final': [9.0, 7.3, 5.8, 6.7, 8.5],\n",
              " 'Situación': ['Aprobado(a)',\n",
              "  'Aprobado(a)',\n",
              "  'Reprobado(a)',\n",
              "  'Reprobado(a)',\n",
              "  'Aprobado(a)']}"
            ]
          },
          "metadata": {},
          "execution_count": 21
        }
      ]
    },
    {
      "cell_type": "code",
      "source": [
        "#Ahora creamos una nueva entrada en el diccionario registro con la clave 'Estudiante'\n",
        "registro['Estudiante'] = [lista_completa[0][i][0]  for i in range(len(lista_completa[0]))]\n",
        "#[0]: primer elemento de lista_completa\n",
        "#[i]: i-ésimo elemento de esa lista\n",
        "#[0]: primer elemento de ese i-ésimo elemento\n",
        "# len(lista_completa[0]): devuelve la longitud de la primera lista dentro de lista_completa\n",
        "registro"
      ],
      "metadata": {
        "id": "4GhlzfLbLP8L",
        "colab": {
          "base_uri": "https://localhost:8080/"
        },
        "outputId": "99a97776-4fc5-4558-c48b-322f0e2472f1"
      },
      "execution_count": null,
      "outputs": [
        {
          "output_type": "execute_result",
          "data": {
            "text/plain": [
              "{'Notas': [[8.0, 9.0, 10.0],\n",
              "  [9.0, 7.0, 6.0],\n",
              "  [3.4, 7.0, 7.0],\n",
              "  [5.5, 6.6, 8.0],\n",
              "  [6.0, 10.0, 9.5]],\n",
              " 'Promedio Final': [9.0, 7.3, 5.8, 6.7, 8.5],\n",
              " 'Situación': ['Aprobado(a)',\n",
              "  'Aprobado(a)',\n",
              "  'Reprobado(a)',\n",
              "  'Reprobado(a)',\n",
              "  'Aprobado(a)'],\n",
              " 'Estudiante': ['Juan', 'Maria', 'José', 'Claudia', 'Ana']}"
            ]
          },
          "metadata": {},
          "execution_count": 22
        }
      ]
    },
    {
      "cell_type": "markdown",
      "source": [
        "***VALIDANDO UN RUT***"
      ],
      "metadata": {
        "id": "pCPLLeDW-IRD"
      }
    },
    {
      "cell_type": "code",
      "source": [
        "def validar_rut(rut):\n",
        "    # Separar el RUT y el dígito verificador\n",
        "    rut = rut.replace(\".\", \"\").replace(\"-\", \"\")\n",
        "    numero = rut[:-1]\n",
        "    digito_verificador = rut[-1].upper()\n",
        "\n",
        "    # Calcular el dígito verificador\n",
        "    suma = 0\n",
        "    multiplicador = 2\n",
        "\n",
        "    for digito in reversed(numero):\n",
        "        suma += int(digito) * multiplicador\n",
        "        multiplicador += 1\n",
        "        if multiplicador > 7:\n",
        "            multiplicador = 2\n",
        "\n",
        "    digito_calculado = 11 - (suma % 11)\n",
        "    if digito_calculado == 11:\n",
        "        digito_calculado = '0'\n",
        "    elif digito_calculado == 10:\n",
        "        digito_calculado = 'K'\n",
        "    else:\n",
        "        digito_calculado = str(digito_calculado)\n",
        "\n",
        "    print(f\"Dígito calculado: {digito_calculado}, Dígito ingresado: {digito_verificador}\")  # Mensaje de depuración\n",
        "\n",
        "    # Comparar el dígito calculado con el ingresado\n",
        "    return digito_calculado == digito_verificador\n",
        "\n",
        "# Solicitar el RUT al usuario\n",
        "rut_usuario = input(\"Por favor, ingresa el RUT (formato: 12345678-9): \")\n",
        "\n",
        "# Validar el RUT\n",
        "if validar_rut(rut_usuario):\n",
        "    print(\"El RUT es válido.\")\n",
        "else:\n",
        "    print(\"El RUT es inválido.\")"
      ],
      "metadata": {
        "colab": {
          "base_uri": "https://localhost:8080/"
        },
        "id": "TTcCN_nn-HSw",
        "outputId": "ce23482f-a5fc-4d95-c1ce-87b1627afb63"
      },
      "execution_count": null,
      "outputs": [
        {
          "output_type": "stream",
          "name": "stdout",
          "text": [
            "Por favor, ingresa el RUT (formato: 12345678-9): 17538954-7\n",
            "Dígito calculado: 7, Dígito ingresado: 7\n",
            "El RUT es válido.\n"
          ]
        }
      ]
    },
    {
      "cell_type": "markdown",
      "source": [
        "## **Seleccionando a los becados**"
      ],
      "metadata": {
        "id": "it8yzEtWc-Q-"
      }
    },
    {
      "cell_type": "markdown",
      "source": [
        "Recibimos una demanda de la institución educativa de nuestro proyecto que nos proporcionó una lista de 20 estudiantes y sus respectivos promedios finales. Aquí, necesitamos seleccionar estudiantes que tengan un promedio final mayor o igual a 9.0. Estos estudiantes serán premiados con una beca de estudios para el próximo año escolar.\n",
        "\n",
        "Para filtrar los datos, debemos generar un diccionario cuyas claves son los nombres y los valores son los promedios de los estudiantes seleccionados.\n",
        "\n",
        "\n",
        "Tip ⇒ Utiliza a forma:\n",
        "\n",
        "`{expresion_llave: expresion_valor for item in iterable if condicion}`"
      ],
      "metadata": {
        "id": "fOtKOSXJc3GF"
      }
    },
    {
      "cell_type": "code",
      "source": [
        "nombres_estudiantes = [\"Enrique Montero\", \"Luna Pereira\", \"Anthony Silva\", \"Leticia Fernandez\", \"Juan González\", \"Maira Caldera\", \"Diana Carvajo\", \"Mariana Rosas\", \"Camila Fernandez\", \"Levi Alves\", \"Nicolás Rocha\", \"Amanda Navas\",  \"Lara Morales\", \"Leticia Olivera\", \"Lucas Navas\", \"Lara Arteaga\", \"Beatriz Martinez\", \"Victor Acevedo\", \"Stephany Hernández\", \"Gustavo Lima\"]\n",
        "\n",
        "medias_estudiantes = [5.4, 4.1, 9.1, 5.3, 6.9, 3.1, 9.0, 5.0, 8.2, 5.5,\n",
        "                    8.1, 7.4, 5.0, 3.7, 8.1, 6.2, 6.1, 5.6, 10.0, 8.2]"
      ],
      "metadata": {
        "id": "W-4WjU4ccA8U"
      },
      "execution_count": null,
      "outputs": []
    },
    {
      "cell_type": "code",
      "source": [
        "#Esta es una de las formas de generar el diccionario de estudiantes con un promedio superior a 9.0 teniendo en cuenta las listas proporcionadas.\n",
        "#zip() aquí ayuda en la construcción de los pares de nombre y promedio de cada estudiante, y cada par se itera y filtra por la condición para construir la clave y el valor del diccionario.\n",
        "becados = {nombre: media for nombre, media in zip(nombres_estudiantes, medias_estudiantes) if media >= 9.0}\n",
        "becados"
      ],
      "metadata": {
        "colab": {
          "base_uri": "https://localhost:8080/"
        },
        "id": "fkQQHonrdPh3",
        "outputId": "350c1d75-a19a-49ef-9ba5-dbf53288bc37"
      },
      "execution_count": null,
      "outputs": [
        {
          "output_type": "execute_result",
          "data": {
            "text/plain": [
              "{'Anthony Silva': 9.1, 'Diana Carvajo': 9.0, 'Stephany Hernández': 10.0}"
            ]
          },
          "metadata": {},
          "execution_count": 26
        }
      ]
    },
    {
      "cell_type": "markdown",
      "source": [
        "# **08 Desafío: hora de practicar**"
      ],
      "metadata": {
        "id": "AAKouk7Vh3lh"
      }
    },
    {
      "cell_type": "markdown",
      "source": [
        "1 - Crea un código para imprimir la suma de los elementos de cada una de las listas contenidas en la siguiente lista:\n",
        "\n",
        "`lista_de_listas = [[4, 6, 5, 9], [1, 0, 7, 2], [3, 4, 1, 8]]`"
      ],
      "metadata": {
        "id": "DMSmr-yMh9kJ"
      }
    },
    {
      "cell_type": "code",
      "source": [
        "lista_de_listas = [[4, 6, 5, 9], [1, 0, 7, 2], [3, 4, 1, 8]]"
      ],
      "metadata": {
        "id": "mLFTOPpbkvkd"
      },
      "execution_count": null,
      "outputs": []
    },
    {
      "cell_type": "code",
      "source": [
        "sumas = [sum(elemento) for elemento in lista_de_listas]\n",
        "print(f\"La suma de cada elemento de las listas son: {sumas}\")"
      ],
      "metadata": {
        "id": "223rJmnoQldY",
        "outputId": "7d6ac5b0-533d-4cad-f24c-618350402301",
        "colab": {
          "base_uri": "https://localhost:8080/"
        }
      },
      "execution_count": null,
      "outputs": [
        {
          "output_type": "stream",
          "name": "stdout",
          "text": [
            "La suma de cada elemento de las listas son: [24, 10, 16]\n"
          ]
        }
      ]
    },
    {
      "cell_type": "markdown",
      "source": [
        "2 - Crea un código para generar una lista que almacene el tercer elemento de cada tupla contenida en la siguiente lista de tuplas:\n",
        "\n",
        "`lista_de_tuplas = [('Pedro', 1.74, 81), ('Julia', 1.65, 67), ('Octavio', 1.81, 83)]`\n",
        "\n",
        "\n",
        "\n"
      ],
      "metadata": {
        "id": "p0DJkyuBiG9O"
      }
    },
    {
      "cell_type": "code",
      "source": [
        "lista_de_tuplas = [('Pedro', 1.74, 82), ('Julia', 1.65, 67), ('Octavio', 1.81, 83)]"
      ],
      "metadata": {
        "id": "HLOc304ykwhU"
      },
      "execution_count": null,
      "outputs": []
    },
    {
      "cell_type": "code",
      "source": [
        "#funciones para extraer nombres, estaturas y pesos desde lista de tuplas\n",
        "def obtener_nombre(tupla): #obtiene el elemento del indice 0 para cada tupla\n",
        "    return tupla[0]\n",
        "\n",
        "def obtener_estatura(tupla): #obtiene el elemento del indice 1 para cada tupla\n",
        "    return tupla[1]\n",
        "\n",
        "def obtener_peso(tupla): #obtiene el elemento del indice 2 para cada tupla\n",
        "    return tupla[2]\n",
        "\n",
        "#crea lista para cada elemento de manera independiente\n",
        "nombres = [obtener_nombre(tupla) for tupla in lista_de_tuplas]\n",
        "estaturas = [obtener_estatura(tupla) for tupla in lista_de_tuplas]\n",
        "pesos = [obtener_peso(tupla) for tupla in lista_de_tuplas]\n",
        "\n",
        "#otra manera, sin necesidad de definir funciones\n",
        "#nombres = [tupla[0] for tupla in lista_de_tuplas]\n",
        "#estaturas = [tupla[1] for tupla in lista_de_tuplas]\n",
        "#pesos = [tupla[2] for tupla in lista_de_tuplas]\n",
        "\n",
        "#imprime las listas\n",
        "print(nombres)\n",
        "print(estaturas)\n",
        "print(pesos)"
      ],
      "metadata": {
        "id": "Zq23QNYyTvpZ",
        "outputId": "328a7e9a-b844-4b19-c954-f3a362e0f9a3",
        "colab": {
          "base_uri": "https://localhost:8080/"
        }
      },
      "execution_count": null,
      "outputs": [
        {
          "output_type": "stream",
          "name": "stdout",
          "text": [
            "['Pedro', 'Julia', 'Octavio']\n",
            "[1.74, 1.65, 1.81]\n",
            "[82, 67, 83]\n"
          ]
        }
      ]
    },
    {
      "cell_type": "markdown",
      "source": [
        "3 - A partir de la lista:\n",
        "\n",
        "`lista = ['Pedro', 'Julia', 'Octavio', 'Eduardo']`\n",
        "\n",
        " crea un código para generar una lista de tuplas en la que cada tupla tenga el primer elemento como la posición del nombre en la lista original y el segundo elemento siendo el propio nombre."
      ],
      "metadata": {
        "id": "VradrlA9iHTh"
      }
    },
    {
      "cell_type": "code",
      "source": [
        "lista = ['Pedro', 'Julia', 'Octavio', 'Eduardo']"
      ],
      "metadata": {
        "id": "cG7qNBnqkxn-"
      },
      "execution_count": null,
      "outputs": []
    },
    {
      "cell_type": "code",
      "source": [
        "lista_de_tuplas = []\n",
        "for i in range(len(lista)):\n",
        "    lista_de_tuplas.append((i, lista[i]))\n",
        "\n",
        "lista_de_tuplas"
      ],
      "metadata": {
        "id": "M4SXfZDsaZKK",
        "outputId": "4633e81a-42e1-4327-daa1-91f8617f94b2",
        "colab": {
          "base_uri": "https://localhost:8080/"
        }
      },
      "execution_count": null,
      "outputs": [
        {
          "output_type": "execute_result",
          "data": {
            "text/plain": [
              "[(0, 'Pedro'), (1, 'Julia'), (2, 'Octavio'), (3, 'Eduardo')]"
            ]
          },
          "metadata": {},
          "execution_count": 102
        }
      ]
    },
    {
      "cell_type": "markdown",
      "source": [
        "¿Qué hace enumerate(lista)?\n",
        "Devuelve un iterador que produce tuplas en la forma:\n",
        "`(index, valor)`\n",
        "\n",
        "Es como hacer:\n",
        "\n",
        "```\n",
        "for i in range(len(lista)):\n",
        "    (i, lista[i])\n",
        "```\n",
        "\n",
        "\n",
        "\n"
      ],
      "metadata": {
        "id": "1B6KZpRUi1Gu"
      }
    },
    {
      "cell_type": "code",
      "source": [
        "#mismo ejercicio, usando comprehesion y la función incorporada 'enumerate'.\n",
        "lista_de_tuplas = [(i, valor) for i, valor in enumerate(lista)]\n",
        "lista_de_tuplas"
      ],
      "metadata": {
        "id": "6Ynih6vkdgDk",
        "outputId": "ddf0fbbb-62ba-43d6-aeee-f67d4a779dd4",
        "colab": {
          "base_uri": "https://localhost:8080/"
        }
      },
      "execution_count": null,
      "outputs": [
        {
          "output_type": "execute_result",
          "data": {
            "text/plain": [
              "[(0, 'Pedro'), (1, 'Julia'), (2, 'Octavio'), (3, 'Eduardo')]"
            ]
          },
          "metadata": {},
          "execution_count": 104
        }
      ]
    },
    {
      "cell_type": "markdown",
      "source": [
        "4 - Crea una lista usando la comprensión de listas (list comprehension) que almacene solo el valor numérico de cada tupla en caso de que el primer elemento sea 'Apartamento', a partir de la siguiente lista de tuplas:\n",
        "\n",
        "\n",
        "`alquiler = [('Apartamento', 1700), ('Apartamento', 1400), ('Casa', 2150), ('Apartamento', 1900), ('Casa', 1100)]`"
      ],
      "metadata": {
        "id": "QZjdr51ziHcp"
      }
    },
    {
      "cell_type": "code",
      "source": [
        "alquiler = [('Apartamento', 1700), ('Apartamento', 1400), ('Casa', 2150), ('Apartamento', 1900), ('Casa', 1100)]"
      ],
      "metadata": {
        "id": "udL4ZWIIkygF"
      },
      "execution_count": null,
      "outputs": []
    },
    {
      "cell_type": "code",
      "source": [
        "lista = [tupla[1] for tupla in alquiler if tupla[0]== 'Apartamento']\n",
        "lista"
      ],
      "metadata": {
        "id": "yWKFO6oukYO9",
        "outputId": "f916ad62-98d1-48db-b825-c3b6c19fe061",
        "colab": {
          "base_uri": "https://localhost:8080/"
        }
      },
      "execution_count": null,
      "outputs": [
        {
          "output_type": "execute_result",
          "data": {
            "text/plain": [
              "[1700, 1400, 1900]"
            ]
          },
          "metadata": {},
          "execution_count": 111
        }
      ]
    },
    {
      "cell_type": "markdown",
      "source": [
        "5 - Crea un diccionario usando la comprensión de diccionarios (dict comprehension) en el que las claves estén en la lista:\n",
        "\n",
        "`meses = ['Ene', 'Feb', 'Mar', 'Abr', 'May', 'Jun', 'Jul', 'Ago', 'Sep', 'Oct', 'Nov', 'Dic']`\n",
        "\n",
        "y los valores estén en:\n",
        "\n",
        " `gasto = [860, 490, 1010, 780, 900, 630, 590, 770, 620, 560, 840, 360]`."
      ],
      "metadata": {
        "id": "VJpk-FXjiHlR"
      }
    },
    {
      "cell_type": "code",
      "source": [
        "meses = ['Ene', 'Feb', 'Mar', 'Abr', 'May', 'Jun', 'Jul', 'Ago', 'Sep', 'Oct', 'Nov', 'Dic']\n",
        "gasto = [860, 490, 1010, 780, 900, 630, 590, 770, 620, 560, 840, 360]"
      ],
      "metadata": {
        "id": "EsrOmtZylp_d"
      },
      "execution_count": null,
      "outputs": []
    },
    {
      "cell_type": "code",
      "source": [
        "diccionario = {meses[i]: gasto[i] for i in range(len(meses))}\n",
        "diccionario"
      ],
      "metadata": {
        "id": "z3gi8jk5kzQF",
        "colab": {
          "base_uri": "https://localhost:8080/"
        },
        "outputId": "211687c2-15ec-4b93-9bb8-0a35f13afeb7"
      },
      "execution_count": null,
      "outputs": [
        {
          "output_type": "execute_result",
          "data": {
            "text/plain": [
              "{'Ene': 860,\n",
              " 'Feb': 490,\n",
              " 'Mar': 1010,\n",
              " 'Abr': 780,\n",
              " 'May': 900,\n",
              " 'Jun': 630,\n",
              " 'Jul': 590,\n",
              " 'Ago': 770,\n",
              " 'Sep': 620,\n",
              " 'Oct': 560,\n",
              " 'Nov': 840,\n",
              " 'Dic': 360}"
            ]
          },
          "metadata": {},
          "execution_count": 119
        }
      ]
    },
    {
      "cell_type": "markdown",
      "source": [
        "6 - Una tienda tiene una base de datos con la información de venta de cada representante y de cada año y necesita filtrar solo los datos del año 2022 con ventas mayores a 6000. La tienda proporcionó una muestra con solo las columnas de los años y los valores de venta para que puedas ayudar a realizar la filtración de los datos a través de un código:\n",
        "\n",
        "`ventas = [('2023', 4093), ('2021', 4320), ('2021', 5959), ('2022', 8883), ('2023', 9859), ('2022', 5141), ('2022', 7688), ('2022', 9544), ('2023', 4794), ('2021', 7178), ('2022', 3030), ('2021', 7471), ('2022', 4226), ('2022', 8190), ('2021', 9680), ('2022', 5616)]`\n",
        "\n",
        "*Crea una lista usando la comprensión de listas para filtrar los valores de 2022 que sean mayores a 6000.*"
      ],
      "metadata": {
        "id": "cEFUG046iHtp"
      }
    },
    {
      "cell_type": "code",
      "source": [
        "ventas = [('2023', 4093), ('2021', 4320), ('2021', 5959), ('2022', 8883), ('2023', 9859), ('2022', 5141), ('2022', 7688), ('2022', 9544), ('2023', 4794), ('2021', 7178), ('2022', 3030), ('2021', 7471), ('2022', 4226), ('2022', 8190), ('2021', 9680), ('2022', 5616)]"
      ],
      "metadata": {
        "id": "T4ndccA8kz1t"
      },
      "execution_count": null,
      "outputs": []
    },
    {
      "cell_type": "code",
      "source": [
        "ventas_fuertes_2022 = [tupla[1] for tupla in ventas if tupla[0] == '2022' and tupla[1] >= 6000 ]\n",
        "ventas_fuertes_2022"
      ],
      "metadata": {
        "id": "Qr-67jPXmir2",
        "outputId": "52cd506b-87ff-4243-fe86-a4946ec4783b",
        "colab": {
          "base_uri": "https://localhost:8080/"
        }
      },
      "execution_count": null,
      "outputs": [
        {
          "output_type": "execute_result",
          "data": {
            "text/plain": [
              "[8883, 7688, 9544, 8190]"
            ]
          },
          "metadata": {},
          "execution_count": 124
        }
      ]
    },
    {
      "cell_type": "markdown",
      "source": [
        "7 - Una clínica analiza datos de pacientes y almacena el valor numérico de la glucosa en una base de datos y le gustaría etiquetar los datos de la siguiente manera:\n",
        "\n",
        "Glucosa igual o inferior a 70: 'Hipoglicemia'\n",
        "Glucosa entre 70 y 99: 'Normal'\n",
        "Glucosa entre 100 y 125: 'Alterada'\n",
        "Glucosa superior a 125: 'Diabetes'\n",
        "La clínica proporcionó parte de los valores y tu tarea es crear una lista de tuplas usando la comprensión de listas que contenga la etiqueta y el valor de la glucemia en cada tupla.\n",
        "\n",
        "\n",
        "`glicemia = [129, 82, 60, 97, 101, 65, 62, 167, 87, 53, 58, 92, 66, 120, 109, 62, 86, 96, 103, 88, 155, 52, 89, 73]`\n"
      ],
      "metadata": {
        "id": "2md_zXk9iH1a"
      }
    },
    {
      "cell_type": "code",
      "source": [
        "glicemia = [129, 82, 60, 97, 101, 65, 62, 167, 87, 53, 58, 92, 66, 120, 109, 62, 86, 96, 103, 88, 155, 52, 89, 73]"
      ],
      "metadata": {
        "id": "iD9S6xBrk0Yf"
      },
      "execution_count": null,
      "outputs": []
    },
    {
      "cell_type": "code",
      "source": [
        "glucosa_paciente = ['Hipoglicemia' if analisis < 70 else 'Normal' if analisis >=70 and analisis <=99 else 'Alterada' if analisis >= 100 and analisis <=125 else 'Diabetes' for analisis in glicemia]\n",
        "datos_paciente = list(zip(glucosa_paciente,glicemia))\n",
        "datos_paciente"
      ],
      "metadata": {
        "id": "MXSt13ykoYlV",
        "outputId": "b74304cc-7814-4c3d-c675-c42ba03982f7",
        "colab": {
          "base_uri": "https://localhost:8080/"
        }
      },
      "execution_count": null,
      "outputs": [
        {
          "output_type": "execute_result",
          "data": {
            "text/plain": [
              "[('Diabetes', 129),\n",
              " ('Normal', 82),\n",
              " ('Hipoglicemia', 60),\n",
              " ('Normal', 97),\n",
              " ('Alterada', 101),\n",
              " ('Hipoglicemia', 65),\n",
              " ('Hipoglicemia', 62),\n",
              " ('Diabetes', 167),\n",
              " ('Normal', 87),\n",
              " ('Hipoglicemia', 53),\n",
              " ('Hipoglicemia', 58),\n",
              " ('Normal', 92),\n",
              " ('Hipoglicemia', 66),\n",
              " ('Alterada', 120),\n",
              " ('Alterada', 109),\n",
              " ('Hipoglicemia', 62),\n",
              " ('Normal', 86),\n",
              " ('Normal', 96),\n",
              " ('Alterada', 103),\n",
              " ('Normal', 88),\n",
              " ('Diabetes', 155),\n",
              " ('Hipoglicemia', 52),\n",
              " ('Normal', 89),\n",
              " ('Normal', 73)]"
            ]
          },
          "metadata": {},
          "execution_count": 142
        }
      ]
    },
    {
      "cell_type": "markdown",
      "source": [
        "8 - Un comercio electrónico tiene información de id de venta, cantidad vendida y precio del producto divididos en las siguientes listas:\n",
        "\n",
        "`id = [0, 1, 2, 3, 4, 5, 6, 7, 8, 9]`\n",
        "\n",
        "`cantidad = [15, 12, 1, 15, 2, 11, 2, 12, 2, 4]`\n",
        "\n",
        "`precio = [93.0, 102.0, 18.0, 41.0, 122.0, 14.0, 71.0, 48.0, 14.0, 144.0]`\n",
        "\n",
        "La plataforma necesita estructurar estos datos en una tabla que contenga el valor total de la venta, que se obtiene multiplicando la cantidad por el precio unitario. Además, la tabla debe contener un encabezado indicando las columnas: 'id', 'cantidad', 'precio' y 'total'.\n",
        "\n",
        "Crea una lista de tuplas en la que cada tupla tenga id, cantidad, precio y valor total, siendo la primera tupla el encabezado de la tabla.\n"
      ],
      "metadata": {
        "id": "MeS5b1ljiH9R"
      }
    },
    {
      "cell_type": "code",
      "source": [
        "id = [0, 1, 2, 3, 4, 5, 6, 7, 8, 9]\n",
        "cantidad = [15, 12, 1, 15, 2, 11, 2, 12, 2, 4]\n",
        "precio = [93.0, 102.0, 18.0, 41.0, 122.0, 14.0, 71.0, 48.0, 14.0, 144.0]"
      ],
      "metadata": {
        "id": "H2YJuMP3k07-"
      },
      "execution_count": null,
      "outputs": []
    },
    {
      "cell_type": "code",
      "source": [
        "#Cálculo de totales: usamos zip() para multiplicar cantidad * precio en paralelo\n",
        "total = [cant*valor for cant,valor in zip(cantidad,precio)] #generamos lista con totales\n",
        "\n",
        "#Lista de tuplas con encabezado + datos, ideal para mostrar como tabla\n",
        "lista_de_tuplas_productos = [('Id','Cantidad','Precio','Total')]\n",
        "lista_de_tuplas_productos += list(zip(id, cantidad, precio, total))\n",
        "print(lista_de_tuplas_productos)\n",
        "\n",
        "#Lista agrupada por columnas (estructura de datos en paralelo)\n",
        "lista_completa_productos = [id,cantidad,precio,total]\n",
        "print(lista_completa_productos)\n",
        "\n",
        "#Diccionario creado con comprensión (usa índice para emparejar encabezado con columna)\n",
        "encabezados = ['Id','Cantidades','Precios','Totales']\n",
        "diccionario_productos = {encabezados[i]:lista_completa_productos[i] for i in range(len(encabezados))}\n",
        "print(diccionario_productos)\n",
        "\n",
        "#Diccionario creado con zip() directamente (forma optimizada y más legible)\n",
        "diccionario_optimizado = dict(zip(encabezados, lista_completa_productos))\n",
        "print(diccionario_optimizado)"
      ],
      "metadata": {
        "id": "yXAWAZX1vgEe",
        "outputId": "9a424ca6-fd9a-4e9e-e05e-9fb19c3f42da",
        "colab": {
          "base_uri": "https://localhost:8080/"
        }
      },
      "execution_count": null,
      "outputs": [
        {
          "output_type": "stream",
          "name": "stdout",
          "text": [
            "[('Id', 'Cantidad', 'Precio', 'Total'), (0, 15, 93.0, 1395.0), (1, 12, 102.0, 1224.0), (2, 1, 18.0, 18.0), (3, 15, 41.0, 615.0), (4, 2, 122.0, 244.0), (5, 11, 14.0, 154.0), (6, 2, 71.0, 142.0), (7, 12, 48.0, 576.0), (8, 2, 14.0, 28.0), (9, 4, 144.0, 576.0)]\n",
            "[[0, 1, 2, 3, 4, 5, 6, 7, 8, 9], [15, 12, 1, 15, 2, 11, 2, 12, 2, 4], [93.0, 102.0, 18.0, 41.0, 122.0, 14.0, 71.0, 48.0, 14.0, 144.0], [1395.0, 1224.0, 18.0, 615.0, 244.0, 154.0, 142.0, 576.0, 28.0, 576.0]]\n",
            "{'Id': [0, 1, 2, 3, 4, 5, 6, 7, 8, 9], 'Cantidades': [15, 12, 1, 15, 2, 11, 2, 12, 2, 4], 'Precios': [93.0, 102.0, 18.0, 41.0, 122.0, 14.0, 71.0, 48.0, 14.0, 144.0], 'Totales': [1395.0, 1224.0, 18.0, 615.0, 244.0, 154.0, 142.0, 576.0, 28.0, 576.0]}\n",
            "{'Id': [0, 1, 2, 3, 4, 5, 6, 7, 8, 9], 'Cantidades': [15, 12, 1, 15, 2, 11, 2, 12, 2, 4], 'Precios': [93.0, 102.0, 18.0, 41.0, 122.0, 14.0, 71.0, 48.0, 14.0, 144.0], 'Totales': [1395.0, 1224.0, 18.0, 615.0, 244.0, 154.0, 142.0, 576.0, 28.0, 576.0]}\n"
          ]
        }
      ]
    },
    {
      "cell_type": "code",
      "source": [
        "#lo que se pidió en el ejercicio\n",
        "#imprimiendo como tabla\n",
        "total = [cant*valor for cant,valor in zip(cantidad,precio)] #generamos lista con totales\n",
        "lista_de_tuplas_productos = [('Id','Cantidad','Precio','Total')] + list(zip(id, cantidad, precio, total))\n",
        "lista_de_tuplas_productos"
      ],
      "metadata": {
        "id": "n-sOXQA46R2a",
        "outputId": "a19b21de-af6e-437e-8f90-17fd36e15523",
        "colab": {
          "base_uri": "https://localhost:8080/"
        }
      },
      "execution_count": null,
      "outputs": [
        {
          "output_type": "execute_result",
          "data": {
            "text/plain": [
              "[('Id', 'Cantidad', 'Precio', 'Total'),\n",
              " (0, 15, 93.0, 1395.0),\n",
              " (1, 12, 102.0, 1224.0),\n",
              " (2, 1, 18.0, 18.0),\n",
              " (3, 15, 41.0, 615.0),\n",
              " (4, 2, 122.0, 244.0),\n",
              " (5, 11, 14.0, 154.0),\n",
              " (6, 2, 71.0, 142.0),\n",
              " (7, 12, 48.0, 576.0),\n",
              " (8, 2, 14.0, 28.0),\n",
              " (9, 4, 144.0, 576.0)]"
            ]
          },
          "metadata": {},
          "execution_count": 97
        }
      ]
    },
    {
      "cell_type": "code",
      "source": [
        "#listas\n",
        "id = [0, 1, 2, 3, 4, 5, 6, 7, 8, 9]\n",
        "cantidad = [15, 12, 1, 15, 2, 11, 2, 12, 2, 4]\n",
        "precio = [93.0, 102.0, 18.0, 41.0, 122.0, 14.0, 71.0, 48.0, 14.0, 144.0]\n",
        "\n",
        "#método más simplificado de uso de diccionario\n",
        "# cálculoS\n",
        "total = [c * p for c, p in zip(cantidad, precio)]\n",
        "encabezados = ['Id','Cantidades','Precios','Totales']\n",
        "# estructura final\n",
        "diccionario = dict(zip(encabezados, [id, cantidad, precio, total]))\n",
        "diccionario\n",
        "\n",
        "#para mostrarlo como una tabla\n",
        "from tabulate import tabulate\n",
        "filas = list(zip(id, cantidad, precio, total))\n",
        "print(tabulate(filas, headers=encabezados, tablefmt='grid'))"
      ],
      "metadata": {
        "id": "-3wLfqkU6-HL",
        "outputId": "af747b3d-c19a-4f9f-f13c-c489f4b1257b",
        "colab": {
          "base_uri": "https://localhost:8080/"
        }
      },
      "execution_count": null,
      "outputs": [
        {
          "output_type": "stream",
          "name": "stdout",
          "text": [
            "+------+--------------+-----------+-----------+\n",
            "|   Id |   Cantidades |   Precios |   Totales |\n",
            "+======+==============+===========+===========+\n",
            "|    0 |           15 |        93 |      1395 |\n",
            "+------+--------------+-----------+-----------+\n",
            "|    1 |           12 |       102 |      1224 |\n",
            "+------+--------------+-----------+-----------+\n",
            "|    2 |            1 |        18 |        18 |\n",
            "+------+--------------+-----------+-----------+\n",
            "|    3 |           15 |        41 |       615 |\n",
            "+------+--------------+-----------+-----------+\n",
            "|    4 |            2 |       122 |       244 |\n",
            "+------+--------------+-----------+-----------+\n",
            "|    5 |           11 |        14 |       154 |\n",
            "+------+--------------+-----------+-----------+\n",
            "|    6 |            2 |        71 |       142 |\n",
            "+------+--------------+-----------+-----------+\n",
            "|    7 |           12 |        48 |       576 |\n",
            "+------+--------------+-----------+-----------+\n",
            "|    8 |            2 |        14 |        28 |\n",
            "+------+--------------+-----------+-----------+\n",
            "|    9 |            4 |       144 |       576 |\n",
            "+------+--------------+-----------+-----------+\n"
          ]
        }
      ]
    },
    {
      "cell_type": "code",
      "source": [
        "# Paso 1: importar pandas\n",
        "import pandas as pd\n",
        "\n",
        "# Paso 2: listas\n",
        "id = [0, 1, 2, 3, 4, 5, 6, 7, 8, 9]\n",
        "cantidad = [15, 12, 1, 15, 2, 11, 2, 12, 2, 4]\n",
        "precio = [93.0, 102.0, 18.0, 41.0, 122.0, 14.0, 71.0, 48.0, 14.0, 144.0]\n",
        "total = [c * p for c, p in zip(cantidad, precio)]\n",
        "\n",
        "# Paso 3: crear DataFrame\n",
        "df = pd.DataFrame({\n",
        "    'Id': id,\n",
        "    'Cantidades': cantidad,\n",
        "    'Precios': precio,\n",
        "    'Totales': total\n",
        "})\n",
        "\n",
        "# Paso 4: aplicar estilo con colores\n",
        "def resaltar_totales(val):\n",
        "    if val > 1000:\n",
        "        return 'background-color: green; font-weight: bold'\n",
        "    elif val < 200:\n",
        "        return 'background-color: coral; font-weight: bold; color: white'\n",
        "    return ''\n",
        "\n",
        "# Paso 5: mostrar en tabla colorida en Colab\n",
        "# Estilo visual aplicado a ambas columnas\n",
        "# Paso 5: mostrar en tabla colorida en Colab\n",
        "df.style\\\n",
        "  .map(resaltar_totales, subset=['Totales'])\\\n",
        "  .format({'Precios': '{:.2f}', 'Totales': '{:.2f}'})\n"
      ],
      "metadata": {
        "colab": {
          "base_uri": "https://localhost:8080/",
          "height": 362
        },
        "id": "kPnkSU2okA4q",
        "outputId": "b59ab810-0dcb-486c-f35e-8288de31f428"
      },
      "execution_count": null,
      "outputs": [
        {
          "output_type": "execute_result",
          "data": {
            "text/plain": [
              "<pandas.io.formats.style.Styler at 0x7ff73e9ff950>"
            ],
            "text/html": [
              "<style type=\"text/css\">\n",
              "#T_359db_row0_col3, #T_359db_row1_col3 {\n",
              "  background-color: green;\n",
              "  font-weight: bold;\n",
              "}\n",
              "#T_359db_row2_col3, #T_359db_row5_col3, #T_359db_row6_col3, #T_359db_row8_col3 {\n",
              "  background-color: coral;\n",
              "  font-weight: bold;\n",
              "  color: white;\n",
              "}\n",
              "</style>\n",
              "<table id=\"T_359db\" class=\"dataframe\">\n",
              "  <thead>\n",
              "    <tr>\n",
              "      <th class=\"blank level0\" >&nbsp;</th>\n",
              "      <th id=\"T_359db_level0_col0\" class=\"col_heading level0 col0\" >Id</th>\n",
              "      <th id=\"T_359db_level0_col1\" class=\"col_heading level0 col1\" >Cantidades</th>\n",
              "      <th id=\"T_359db_level0_col2\" class=\"col_heading level0 col2\" >Precios</th>\n",
              "      <th id=\"T_359db_level0_col3\" class=\"col_heading level0 col3\" >Totales</th>\n",
              "    </tr>\n",
              "  </thead>\n",
              "  <tbody>\n",
              "    <tr>\n",
              "      <th id=\"T_359db_level0_row0\" class=\"row_heading level0 row0\" >0</th>\n",
              "      <td id=\"T_359db_row0_col0\" class=\"data row0 col0\" >0</td>\n",
              "      <td id=\"T_359db_row0_col1\" class=\"data row0 col1\" >15</td>\n",
              "      <td id=\"T_359db_row0_col2\" class=\"data row0 col2\" >93.00</td>\n",
              "      <td id=\"T_359db_row0_col3\" class=\"data row0 col3\" >1395.00</td>\n",
              "    </tr>\n",
              "    <tr>\n",
              "      <th id=\"T_359db_level0_row1\" class=\"row_heading level0 row1\" >1</th>\n",
              "      <td id=\"T_359db_row1_col0\" class=\"data row1 col0\" >1</td>\n",
              "      <td id=\"T_359db_row1_col1\" class=\"data row1 col1\" >12</td>\n",
              "      <td id=\"T_359db_row1_col2\" class=\"data row1 col2\" >102.00</td>\n",
              "      <td id=\"T_359db_row1_col3\" class=\"data row1 col3\" >1224.00</td>\n",
              "    </tr>\n",
              "    <tr>\n",
              "      <th id=\"T_359db_level0_row2\" class=\"row_heading level0 row2\" >2</th>\n",
              "      <td id=\"T_359db_row2_col0\" class=\"data row2 col0\" >2</td>\n",
              "      <td id=\"T_359db_row2_col1\" class=\"data row2 col1\" >1</td>\n",
              "      <td id=\"T_359db_row2_col2\" class=\"data row2 col2\" >18.00</td>\n",
              "      <td id=\"T_359db_row2_col3\" class=\"data row2 col3\" >18.00</td>\n",
              "    </tr>\n",
              "    <tr>\n",
              "      <th id=\"T_359db_level0_row3\" class=\"row_heading level0 row3\" >3</th>\n",
              "      <td id=\"T_359db_row3_col0\" class=\"data row3 col0\" >3</td>\n",
              "      <td id=\"T_359db_row3_col1\" class=\"data row3 col1\" >15</td>\n",
              "      <td id=\"T_359db_row3_col2\" class=\"data row3 col2\" >41.00</td>\n",
              "      <td id=\"T_359db_row3_col3\" class=\"data row3 col3\" >615.00</td>\n",
              "    </tr>\n",
              "    <tr>\n",
              "      <th id=\"T_359db_level0_row4\" class=\"row_heading level0 row4\" >4</th>\n",
              "      <td id=\"T_359db_row4_col0\" class=\"data row4 col0\" >4</td>\n",
              "      <td id=\"T_359db_row4_col1\" class=\"data row4 col1\" >2</td>\n",
              "      <td id=\"T_359db_row4_col2\" class=\"data row4 col2\" >122.00</td>\n",
              "      <td id=\"T_359db_row4_col3\" class=\"data row4 col3\" >244.00</td>\n",
              "    </tr>\n",
              "    <tr>\n",
              "      <th id=\"T_359db_level0_row5\" class=\"row_heading level0 row5\" >5</th>\n",
              "      <td id=\"T_359db_row5_col0\" class=\"data row5 col0\" >5</td>\n",
              "      <td id=\"T_359db_row5_col1\" class=\"data row5 col1\" >11</td>\n",
              "      <td id=\"T_359db_row5_col2\" class=\"data row5 col2\" >14.00</td>\n",
              "      <td id=\"T_359db_row5_col3\" class=\"data row5 col3\" >154.00</td>\n",
              "    </tr>\n",
              "    <tr>\n",
              "      <th id=\"T_359db_level0_row6\" class=\"row_heading level0 row6\" >6</th>\n",
              "      <td id=\"T_359db_row6_col0\" class=\"data row6 col0\" >6</td>\n",
              "      <td id=\"T_359db_row6_col1\" class=\"data row6 col1\" >2</td>\n",
              "      <td id=\"T_359db_row6_col2\" class=\"data row6 col2\" >71.00</td>\n",
              "      <td id=\"T_359db_row6_col3\" class=\"data row6 col3\" >142.00</td>\n",
              "    </tr>\n",
              "    <tr>\n",
              "      <th id=\"T_359db_level0_row7\" class=\"row_heading level0 row7\" >7</th>\n",
              "      <td id=\"T_359db_row7_col0\" class=\"data row7 col0\" >7</td>\n",
              "      <td id=\"T_359db_row7_col1\" class=\"data row7 col1\" >12</td>\n",
              "      <td id=\"T_359db_row7_col2\" class=\"data row7 col2\" >48.00</td>\n",
              "      <td id=\"T_359db_row7_col3\" class=\"data row7 col3\" >576.00</td>\n",
              "    </tr>\n",
              "    <tr>\n",
              "      <th id=\"T_359db_level0_row8\" class=\"row_heading level0 row8\" >8</th>\n",
              "      <td id=\"T_359db_row8_col0\" class=\"data row8 col0\" >8</td>\n",
              "      <td id=\"T_359db_row8_col1\" class=\"data row8 col1\" >2</td>\n",
              "      <td id=\"T_359db_row8_col2\" class=\"data row8 col2\" >14.00</td>\n",
              "      <td id=\"T_359db_row8_col3\" class=\"data row8 col3\" >28.00</td>\n",
              "    </tr>\n",
              "    <tr>\n",
              "      <th id=\"T_359db_level0_row9\" class=\"row_heading level0 row9\" >9</th>\n",
              "      <td id=\"T_359db_row9_col0\" class=\"data row9 col0\" >9</td>\n",
              "      <td id=\"T_359db_row9_col1\" class=\"data row9 col1\" >4</td>\n",
              "      <td id=\"T_359db_row9_col2\" class=\"data row9 col2\" >144.00</td>\n",
              "      <td id=\"T_359db_row9_col3\" class=\"data row9 col3\" >576.00</td>\n",
              "    </tr>\n",
              "  </tbody>\n",
              "</table>\n"
            ]
          },
          "metadata": {},
          "execution_count": 54
        }
      ]
    },
    {
      "cell_type": "markdown",
      "source": [
        "9 - Una empresa tiene sucursales distribuidas en los estados de la región Sudeste de Brasil. En una de las tablas de registro de las sucursales, hay una columna que contiene la información de a qué estado pertenece:\n",
        "\n",
        "`estados =['CMX', 'OAX', 'PUE', 'PUE', 'CMX', 'PUE', 'OAX', 'OAX', 'OAX', 'CMX', 'CMX', 'PUE', 'OAX', 'CMX', 'VER', 'PUE', 'VER', 'CMX', 'PUE', 'CMX', 'OAX', 'CMX', 'PUE'].`\n",
        "\n",
        "La empresa siempre está abriendo nuevas sucursales, por lo que la tabla está constantemente recibiendo nuevos registros y al gerente le gustaría tener la información actualizada de la cantidad de sucursales en cada estado.\n",
        "\n",
        "A partir de la columna con la información de los estados, crea un diccionario utilizando la comprensión de diccionarios (dict comprehension) con la clave siendo el nombre de un estado y el valor siendo la cantidad de veces que aparece el estado en la lista.\n",
        "\n",
        "Consejo: Puedes hacer un paso intermedio para generar una lista de listas en la que cada una de las listas tenga el nombre de solo un estado con valores repetidos."
      ],
      "metadata": {
        "id": "2zhu42pKiIFC"
      }
    },
    {
      "cell_type": "code",
      "source": [
        "estados =['CMX', 'OAX', 'PUE', 'PUE', 'CMX', 'PUE', 'OAX', 'OAX', 'OAX', 'CMX', 'CMX', 'PUE', 'OAX', 'CMX', 'VER', 'PUE', 'VER', 'CMX', 'PUE', 'CMX', 'OAX', 'CMX', 'PUE']"
      ],
      "metadata": {
        "id": "kHOo3hJAk1h1"
      },
      "execution_count": null,
      "outputs": []
    },
    {
      "cell_type": "code",
      "source": [
        "# Obtener estados únicos (sin repeticiones)\n",
        "estados_unicos = list(set(estados))  # Convertimos la lista a un set (conjuntos eliminan duplicados) y luego lo transformamos en lista\n",
        "print(\"Estados únicos:\", estados_unicos)  # Mostramos los estados únicos encontrados\n",
        "\n",
        "# Crear una lista de listas con todas las repeticiones de cada estado\n",
        "lista_de_listas = []  # Inicializamos una lista vacía que contendrá sublistas por cada estado único\n",
        "\n",
        "for estado in estados_unicos:\n",
        "    # Creamos una sublista con todas las ocurrencias del estado en la lista original\n",
        "    lista = [e for e in estados if e == estado]  # List comprehension para agrupar por estado\n",
        "    lista_de_listas.append(lista)  # Añadimos esa sublista a la lista principal\n",
        "print(\"Lista de listas con agrupación por estado:\")\n",
        "print(lista_de_listas)  # Mostramos la agrupación\n",
        "\n",
        "# Crear un diccionario con la cantidad de veces que aparece cada estado\n",
        "#conteo_valores = {estados_unicos[i]: len(lista_de_listas[i]) for i in range(len(estados_unicos))}\n",
        "conteo_valores = {\n",
        "    estados_unicos[i]: len(lista_de_listas[i])  # Asignamos como clave el estado y como valor el tamaño de su sublista\n",
        "    for i in range(len(estados_unicos))  # Iteramos sobre los índices de la lista de estados únicos\n",
        "}\n",
        "print(\"Conteo de valores por estado:\")\n",
        "print(conteo_valores)  # Mostramos cuántas veces aparece cada estado"
      ],
      "metadata": {
        "colab": {
          "base_uri": "https://localhost:8080/"
        },
        "id": "5oPtgnR-o1h8",
        "outputId": "5e21085c-c858-45ce-f8bd-79c9bf4f29ce"
      },
      "execution_count": null,
      "outputs": [
        {
          "output_type": "stream",
          "name": "stdout",
          "text": [
            "Estados únicos: ['OAX', 'VER', 'CMX', 'PUE']\n",
            "Lista de listas con agrupación por estado:\n",
            "[['OAX', 'OAX', 'OAX', 'OAX', 'OAX', 'OAX'], ['VER', 'VER'], ['CMX', 'CMX', 'CMX', 'CMX', 'CMX', 'CMX', 'CMX', 'CMX'], ['PUE', 'PUE', 'PUE', 'PUE', 'PUE', 'PUE', 'PUE']]\n",
            "Conteo de valores por estado:\n",
            "{'OAX': 6, 'VER': 2, 'CMX': 8, 'PUE': 7}\n"
          ]
        }
      ]
    },
    {
      "cell_type": "code",
      "source": [
        "#otra forma de resolver el ejeercicio\n",
        "estados =['CMX', 'OAX', 'PUE', 'PUE', 'CMX', 'PUE', 'OAX', 'OAX', 'OAX', 'CMX', 'CMX', 'PUE', 'OAX', 'CMX', 'VER', 'PUE', 'VER', 'CMX', 'PUE', 'CMX', 'OAX', 'CMX', 'PUE']\n",
        "informacion_actualizada = {estado: estados.count(estado) for estado in estados}\n",
        "print(informacion_actualizada)"
      ],
      "metadata": {
        "id": "fy4IhSUuEHUD",
        "outputId": "5eef247f-d96f-4acb-abe5-0d55bb5140f3",
        "colab": {
          "base_uri": "https://localhost:8080/"
        }
      },
      "execution_count": null,
      "outputs": [
        {
          "output_type": "stream",
          "name": "stdout",
          "text": [
            "{'CMX': 8, 'OAX': 6, 'PUE': 7, 'VER': 2}\n"
          ]
        }
      ]
    },
    {
      "cell_type": "markdown",
      "source": [
        "10 - En esa misma tabla de registro de sucursales, hay una columna con la información de la cantidad de personas empleadas y el gerente quisiera tener un agrupamiento de la suma de esas personas para cada estado. Las informaciones contenidas en la tabla son:\n",
        "\n",
        "` empleados = [('CMX', 16), ('OAX', 8), ('PUE', 9), ('PUE', 6), ('CMX', 10), ('PUE', 4), ('OAX',9),  ('OAX', 7), ('OAX', 12), ('CMX', 7), ('CMX', 11), ('PUE',8), ('OAX',8), ('CMX',9), ('VER', 13), ('PUE', 5),  ('VER', 9), ('CMX', 12), ('PUE', 10), ('CMX', 7), ('OAX', 14), ('CMX', 10), ('PUE', 12)]`\n",
        "\n",
        "A partir de la lista de tuplas, crea un diccionario en el que las claves son los nombres de los estados únicos y los valores son las listas con el número de empleados referentes al estado. También crea un diccionario en el que las claves son los nombres de los estados y los valores son la suma de empleados por estado."
      ],
      "metadata": {
        "id": "s43V5OxRiIOJ"
      }
    },
    {
      "cell_type": "code",
      "source": [
        "empleados = [('CMX', 16), ('OAX', 8), ('PUE', 9), ('PUE', 6), ('CMX', 10), ('PUE', 4), ('OAX',9), ('OAX', 7), ('OAX', 12), ('CMX', 7), ('CMX', 11), ('PUE',8), ('OAX',8), ('CMX',9), ('VER', 13), ('PUE', 5), ('VER', 9), ('CMX', 12), ('PUE', 10), ('CMX', 7), ('OAX', 14), ('CMX', 10), ('PUE', 12)]"
      ],
      "metadata": {
        "id": "w0aPum05k2Ll"
      },
      "execution_count": null,
      "outputs": []
    },
    {
      "cell_type": "code",
      "source": [
        "# Creamos un diccionario para agrupar los empleados por estado\n",
        "empleados_por_estado = {}  # Inicializamos diccionario vacío\n",
        "\n",
        "for estado, cantidad in empleados:\n",
        "    # Si el estado no está en el diccionario, lo creamos con una lista inicial\n",
        "    if estado not in empleados_por_estado:\n",
        "        empleados_por_estado[estado] = []\n",
        "    # Agregamos la cantidad de empleados a la lista correspondiente al estado\n",
        "    empleados_por_estado[estado].append(cantidad)\n",
        "\n",
        "# Mostramos el diccionario de listas de empleados por estado\n",
        "print(\"Diccionario de empleados por estado (lista de cantidades):\")\n",
        "print(empleados_por_estado)\n",
        "\n",
        "# Ahora creamos otro diccionario para sumar la cantidad total de empleados por estado\n",
        "suma_empleados_por_estado = {\n",
        "    estado: sum(cantidades)  # sumamos todos los valores de la lista de empleados para ese estado\n",
        "    for estado, cantidades in empleados_por_estado.items()\n",
        "}\n",
        "\n",
        "# Mostramos el diccionario con la suma total de empleados por estado\n",
        "print(\"\\nDiccionario de suma total de empleados por estado:\")\n",
        "print(suma_empleados_por_estado)"
      ],
      "metadata": {
        "colab": {
          "base_uri": "https://localhost:8080/"
        },
        "id": "rL_ASX-avVGV",
        "outputId": "c8432ff6-3ada-4231-c8b7-b7b1ab92626b"
      },
      "execution_count": null,
      "outputs": [
        {
          "output_type": "stream",
          "name": "stdout",
          "text": [
            "Diccionario de empleados por estado (lista de cantidades):\n",
            "{'CMX': [16, 10, 7, 11, 9, 12, 7, 10], 'OAX': [8, 9, 7, 12, 8, 14], 'PUE': [9, 6, 4, 8, 5, 10, 12], 'VER': [13, 9]}\n",
            "\n",
            "Diccionario de suma total de empleados por estado:\n",
            "{'CMX': 82, 'OAX': 58, 'PUE': 54, 'VER': 22}\n"
          ]
        }
      ]
    },
    {
      "cell_type": "markdown",
      "source": [
        "# **PRACTICANDO LO APRENDIDO**\n",
        "\n",
        "### **Objetivo:**\n",
        "\n",
        "Practicar y aplicar conceptos fundamentales de Python como comprensión de diccionarios y listas, zip(), string.ascii_lowercase y manejo de estructuras de datos.\n",
        "\n",
        "### **Descripción del ejercicio:**\n",
        "\n",
        "A partir de los números pares entre 2 y 10, se construirá un diccionario donde:\n",
        "\n",
        "1. Cada clave será un número par.\n",
        "\n",
        "2. Cada valor será su cuadrado.\n",
        "\n",
        "3. Se calculará la suma de clave + valor y se almacenará en una lista.\n",
        "\n",
        "4. Se formarán tuplas con la estructura (par, potencia, suma).\n",
        "\n",
        "5. Se asignará una letra del abecedario a cada tupla, generando un nuevo diccionario con letras como claves.\n",
        "\n",
        "6. Finalmente, se organizará toda la información en un diccionario estructurado por columnas (como una tabla), separando los campos nombres, pares, potencias y sumas.\n",
        "\n",
        "\n"
      ],
      "metadata": {
        "id": "psM9AMRasvB6"
      }
    },
    {
      "cell_type": "code",
      "source": [
        "import string  # Importamos el módulo string para trabajar con letras del alfabeto (ascii_lowercase)\n",
        "\n",
        "\n",
        "# 1. Crear un diccionario con pares del 2 al 10 como claves, y sus cuadrados como valores\n",
        "diccionario_pares = {k: k**2 for k in range(1, 11) if k % 2 == 0}\n",
        "# Usamos comprensión de diccionario para filtrar solo los pares y asignarles como valor su cuadrado\n",
        "print(f\"Diccionario [pares (key) y potencia al cuadrado (value)]: {diccionario_pares}\")\n",
        "\n",
        "\n",
        "# 2. Crear una lista con la suma de cada clave (par) y su valor (potencia)\n",
        "suma_key_value = [k + v for k, v in diccionario_pares.items()]\n",
        "# Recorremos los pares clave-valor del diccionario y sumamos cada uno, generando una nueva lista\n",
        "print(f\"Lista (La suma de key + value de diccionario anterior): {suma_key_value}\")\n",
        "\n",
        "\n",
        "# 3. Crear una lista de tuplas con formato (clave, valor, suma)\n",
        "tuplas_con_par_potencia_suma = [(k, v, suma) for (k, v), suma in zip(diccionario_pares.items(), suma_key_value)]\n",
        "# zip une los items del diccionario con la lista de sumas, para crear tuplas completas\n",
        "print(f\"Tuplas (key, value, key+value): {tuplas_con_par_potencia_suma}\")\n",
        "\n",
        "\n",
        "# 4. Crear un diccionario nuevo con letras del abecedario como claves\n",
        "letras = string.ascii_lowercase[:len(tuplas_con_par_potencia_suma)]\n",
        "# Tomamos las letras desde 'a' hasta la cantidad necesaria (una por tupla)\n",
        "\n",
        "diccionario_con_letras = dict(zip(letras, tuplas_con_par_potencia_suma))\n",
        "# Asociamos cada letra con su tupla correspondiente usando zip, y lo convertimos a diccionario\n",
        "print(f\"Diccionario con letras como clave: {diccionario_con_letras}\")\n",
        "\n",
        "\n",
        "# 5. Crear listas separadas por cada campo (nombre, par, potencia, suma)\n",
        "nombres = []     # Lista para las letras ('a', 'b', ...)\n",
        "pares = []       # Lista para los números pares\n",
        "potencias = []   # Lista para las potencias al cuadrado\n",
        "sumas = []       # Lista para las sumas de par + potencia\n",
        "\n",
        "# Recorremos la lista de letras y sus tuplas asociadas para separar la información\n",
        "for letra, (par, potencia, suma) in zip(letras, tuplas_con_par_potencia_suma):\n",
        "    nombres.append(letra)\n",
        "    pares.append(par)\n",
        "    potencias.append(potencia)\n",
        "    sumas.append(suma)\n",
        "\n",
        "\n",
        "# 6. Crear un diccionario final estructurado con encabezados de tabla\n",
        "diccionario_final = {\n",
        "    'nombres': nombres,\n",
        "    'pares': pares,\n",
        "    'potencias': potencias,\n",
        "    'sumas': sumas\n",
        "}\n",
        "# Este diccionario agrupa toda la información por categorías, útil para análisis o exportación\n",
        "print(f\"Diccionario con encabezado y listas (nombres, pares, potencias y sumas):\\n{diccionario_final}\")\n",
        "\n",
        "\n",
        "#si quisieramos usar pandas, para visualizar la última tabla\n",
        "#import pandas as pd\n",
        "#df = pd.DataFrame(diccionario_final)\n",
        "#df.set_index('nombres', inplace=True)  # Usa la columna 'nombres' como índice y evita comenzar con índice 0,1,2,...\n",
        "#print(df)\n"
      ],
      "metadata": {
        "id": "OqNQXetk6ES7",
        "colab": {
          "base_uri": "https://localhost:8080/"
        },
        "outputId": "e4ed4b6f-a307-4cd8-8ff2-4d329728fc6e"
      },
      "execution_count": null,
      "outputs": [
        {
          "output_type": "stream",
          "name": "stdout",
          "text": [
            "Diccionario [pares (key) y potencia al cuadrado (value)]: {2: 4, 4: 16, 6: 36, 8: 64, 10: 100}\n",
            "Lista (La suma de key + value de diccionario anterior): [6, 20, 42, 72, 110]\n",
            "Tuplas (key, value, key+value): [(2, 4, 6), (4, 16, 20), (6, 36, 42), (8, 64, 72), (10, 100, 110)]\n",
            "Diccionario con letras como clave: {'a': (2, 4, 6), 'b': (4, 16, 20), 'c': (6, 36, 42), 'd': (8, 64, 72), 'e': (10, 100, 110)}\n",
            "Diccionario con encabezado y listas (nombres, pares, potencias y sumas):\n",
            "{'nombres': ['a', 'b', 'c', 'd', 'e'], 'pares': [2, 4, 6, 8, 10], 'potencias': [4, 16, 36, 64, 100], 'sumas': [6, 20, 42, 72, 110]}\n"
          ]
        }
      ]
    },
    {
      "cell_type": "markdown",
      "source": [
        "### **Conceptos básicos aplicados**\n",
        "\n",
        "| Concepto                  | Aplicación práctica                                                                 |\n",
        "|---------------------------|--------------------------------------------------------------------------------------|\n",
        "| `dict comprehension`      | Crear el diccionario de pares y su cuadrado                                          |\n",
        "| `list comprehension`      | Generar la lista de sumas de clave + valor                                           |\n",
        "| `zip()`                   | Unir los items del diccionario con la lista de sumas para crear tuplas               |\n",
        "| `string.ascii_lowercase`  | Generar claves alfabéticas automáticamente                                           |\n",
        "| `tuplas`                  | Empaquetar datos como (par, potencia, suma)                                          |\n",
        "| `listas`                  | Separar datos por columnas (nombres, pares, potencias, sumas)                        |\n",
        "| `for` + `append()`        | Llenar listas con datos extraídos de tuplas                                          |\n",
        "| `dict()` + `zip()`        | Crear diccionarios personalizados a partir de listas y claves                        |\n",
        "| Formato tipo DataFrame    | Organizar columnas como si fuera una tabla o estructura para análisis de datos       |\n"
      ],
      "metadata": {
        "id": "LoFX8nRX-64N"
      }
    },
    {
      "cell_type": "markdown",
      "source": [
        "# **PRACTICANDO LO APRENDIDO Y MÁS:**\n",
        "\n",
        "### **Ejercicio: Registro de Ventas Diarias**\n",
        "Simularemos un sistema que registra ventas de productos por letra de vendedor (a, b, c, ...), en el que cada entrada representa una venta con su monto. Calcularemos estadísticas como:**\n",
        "\n",
        "* ventas por vendedor\n",
        "* ventas totales\n",
        "* promedio de ventas\n",
        "* mayores a cierto umbral\n",
        "* agrupación por montos\n",
        "* formato final ordenado\n",
        "\n"
      ],
      "metadata": {
        "id": "n4czBb4P6ZfO"
      }
    },
    {
      "cell_type": "code",
      "source": [
        "import string\n",
        "from collections import defaultdict\n",
        "\n",
        "# Simulamos 5 vendedores (a-e) y asignamos 3 ventas a cada uno (simuladas con montos distintos)\n",
        "vendedores = string.ascii_lowercase[:5]  # ['a', 'b', 'c', 'd', 'e']\n",
        "ventas = [10, 20, 15, 30, 50, 25, 35, 40, 18, 22, 60, 33, 45, 19, 28]  # 15 ventas en total\n",
        "\n",
        "\n",
        "# 1. Agrupamos ventas a cada vendedor usando zip y una lista de listas\n",
        "ventas_por_vendedor = defaultdict(list)\n",
        "for vendedor, venta in zip(vendedores * 3, ventas):  # Cada vendedor tendrá 3 ventas\n",
        "    ventas_por_vendedor[vendedor].append(venta)\n",
        "print(f\"Ventas agrupadas por vendedor:\\n{dict(ventas_por_vendedor)}\")\n",
        "\n",
        "\n",
        "# 2. Calculamos suma total y promedio de ventas por vendedor usando dict comprehension\n",
        "estadisticas = {\n",
        "    vendedor: {\n",
        "        'total': sum(montos),\n",
        "        'promedio': round(sum(montos)/len(montos), 2)\n",
        "    }\n",
        "    for vendedor, montos in ventas_por_vendedor.items()\n",
        "}\n",
        "print(f\"\\nEstadísticas por vendedor (total y promedio):\\n{estadisticas}\")\n",
        "\n",
        "\n",
        "# 3. Creamos lista de tuplas con vendedor, total, promedio, y conteo\n",
        "resumen = [\n",
        "    (vendedor, datos['total'], datos['promedio'], len(ventas_por_vendedor[vendedor]))\n",
        "    for vendedor, datos in estadisticas.items()\n",
        "]\n",
        "print(f\"\\nResumen (vendedor, total, promedio, cantidad ventas):\\n{resumen}\")\n",
        "\n",
        "\n",
        "# 4. Filtramos tuplas donde el total vendido es mayor a 70\n",
        "mayores_70 = [t for t in resumen if t[1] > 70]\n",
        "print(f\"\\nVendedores con total de ventas mayor a 70:\\n{mayores_70}\")\n",
        "\n",
        "\n",
        "# 5. Ordenamos los datos por promedio de ventas (de mayor a menor)\n",
        "ordenado_por_promedio = sorted(resumen, key=lambda x: x[2], reverse=True)\n",
        "print(f\"\\nResumen ordenado por promedio de venta (descendente):\\n{ordenado_por_promedio}\")\n",
        "\n",
        "\n",
        "# 6. Generamos identificadores únicos con enumerate y zip\n",
        "identificadores = [f\"{i+1}-{letra}\" for i, letra in enumerate(vendedores)]\n",
        "resumen_con_id = dict(zip(identificadores, resumen))\n",
        "print(f\"\\nResumen con ID personalizado como clave:\\n{resumen_con_id}\")\n",
        "\n",
        "\n",
        "# 7. Agrupamos por rangos de venta total usando defaultdict\n",
        "rango_ventas = defaultdict(list)\n",
        "for vendedor, total, promedio, cantidad in resumen:\n",
        "    if total >= 90:\n",
        "        rango = 'alto'\n",
        "    elif total >= 60:\n",
        "        rango = 'medio'\n",
        "    else:\n",
        "        rango = 'bajo'\n",
        "    rango_ventas[rango].append(vendedor)\n",
        "print(f\"\\nAgrupación de vendedores por rango de venta total:\\n{dict(rango_ventas)}\")\n",
        "\n",
        "\n",
        "# 8. Extra: lista de diccionarios, útil para JSON o pandas\n",
        "diccionarios_finales = [\n",
        "    {'vendedor': vendedor, 'total': total, 'promedio': promedio, 'cantidad': cantidad}\n",
        "    for vendedor, total, promedio, cantidad in resumen\n",
        "]\n",
        "print(\"\\nDiccionarios individuales para cada vendedor:\")\n",
        "for d in diccionarios_finales:\n",
        "    print(d)\n"
      ],
      "metadata": {
        "colab": {
          "base_uri": "https://localhost:8080/"
        },
        "id": "5xENxAFX6Zse",
        "outputId": "6c3817a6-c7b2-4e8c-94d5-921968508a36"
      },
      "execution_count": null,
      "outputs": [
        {
          "output_type": "stream",
          "name": "stdout",
          "text": [
            "Ventas agrupadas por vendedor:\n",
            "{'a': [10, 25, 60], 'b': [20, 35, 33], 'c': [15, 40, 45], 'd': [30, 18, 19], 'e': [50, 22, 28]}\n",
            "\n",
            "Estadísticas por vendedor (total y promedio):\n",
            "{'a': {'total': 95, 'promedio': 31.67}, 'b': {'total': 88, 'promedio': 29.33}, 'c': {'total': 100, 'promedio': 33.33}, 'd': {'total': 67, 'promedio': 22.33}, 'e': {'total': 100, 'promedio': 33.33}}\n",
            "\n",
            "Resumen (vendedor, total, promedio, cantidad ventas):\n",
            "[('a', 95, 31.67, 3), ('b', 88, 29.33, 3), ('c', 100, 33.33, 3), ('d', 67, 22.33, 3), ('e', 100, 33.33, 3)]\n",
            "\n",
            "Vendedores con total de ventas mayor a 70:\n",
            "[('a', 95, 31.67, 3), ('b', 88, 29.33, 3), ('c', 100, 33.33, 3), ('e', 100, 33.33, 3)]\n",
            "\n",
            "Resumen ordenado por promedio de venta (descendente):\n",
            "[('c', 100, 33.33, 3), ('e', 100, 33.33, 3), ('a', 95, 31.67, 3), ('b', 88, 29.33, 3), ('d', 67, 22.33, 3)]\n",
            "\n",
            "Resumen con ID personalizado como clave:\n",
            "{'1-a': ('a', 95, 31.67, 3), '2-b': ('b', 88, 29.33, 3), '3-c': ('c', 100, 33.33, 3), '4-d': ('d', 67, 22.33, 3), '5-e': ('e', 100, 33.33, 3)}\n",
            "\n",
            "Agrupación de vendedores por rango de venta total:\n",
            "{'alto': ['a', 'c', 'e'], 'medio': ['b', 'd']}\n",
            "\n",
            "Diccionarios individuales para cada vendedor:\n",
            "{'vendedor': 'a', 'total': 95, 'promedio': 31.67, 'cantidad': 3}\n",
            "{'vendedor': 'b', 'total': 88, 'promedio': 29.33, 'cantidad': 3}\n",
            "{'vendedor': 'c', 'total': 100, 'promedio': 33.33, 'cantidad': 3}\n",
            "{'vendedor': 'd', 'total': 67, 'promedio': 22.33, 'cantidad': 3}\n",
            "{'vendedor': 'e', 'total': 100, 'promedio': 33.33, 'cantidad': 3}\n"
          ]
        }
      ]
    },
    {
      "cell_type": "markdown",
      "source": [
        "### **¿Qué conceptos se practicaron?**\n",
        "\n",
        "| Concepto               | Aplicación práctica                                  |\n",
        "|------------------------|------------------------------------------------------|\n",
        "| `zip()`                | Combinar vendedor con ventas, ID con tuplas          |\n",
        "| `defaultdict`          | Agrupar ventas y rangos                              |\n",
        "| Comprensión de listas  | Filtrar, generar, transformar listas                 |\n",
        "| Comprensión de diccs   | Crear estadísticas y agrupar                         |\n",
        "| `enumerate()`          | Crear identificadores únicos                         |\n",
        "| `sorted()` + `lambda`  | Ordenar tuplas por un campo                          |\n",
        "| `string.ascii_lowercase` | Generar nombres de vendedores                      |\n",
        "| `round()`              | Promedios con decimales                              |\n",
        "| Listas de diccionarios | Representación estilo JSON / DataFrame              |\n",
        "\n"
      ],
      "metadata": {
        "id": "I-95nWGB7kLo"
      }
    },
    {
      "cell_type": "markdown",
      "source": [
        "## <font color=green> 4. LIDIANDO CON EXCEPCIONES\n",
        "---"
      ],
      "metadata": {
        "id": "RxKC5WVoCYp3"
      }
    },
    {
      "cell_type": "markdown",
      "source": [
        "Hemos podido evidenciar hasta aquí la existencia de algunos errores y excepciones en la ejecución de algún comando. Como científico/a de datos o programador, necesitarás estar atento a estas situaciones para evitar bugs o problemas en tus códigos y análisis que puedan afectar la experiencia tanto del usuario como la eficiencia de su análisis.\n",
        "\n",
        "Existen básicamente dos formas distintas de errores: Los **errores de sintáxis** y las **excepciones**.\n",
        "\n",
        "Las excepciones son errores detectados durante la ejecución e interrumpen el flujo del programa cerrándolo en caso de que no sean tratadas.  \n",
        "\n",
        "Vamos a aprender a identificar y tratar algunas de las excepciones aquí, pero es siempre importante consultar la documentación para investigar y verificar cuáles se ajustan a sus proyectos.\n",
        "\n",
        "**Documentación sobre errores y excepciones:** https://docs.python.org/es/3/tutorial/errors.html"
      ],
      "metadata": {
        "id": "MzOZ_0M3CU1x"
      }
    },
    {
      "cell_type": "markdown",
      "source": [
        "## 4.1 Tratando las Excepciones\n",
        "\n",
        "El tratamiento de las excepciones contribuye a establecer un flujo alternativo para la ejecución del código evitando la interrupción de los procesos inesperadamente.\n",
        "\n",
        "Existe una serie de excepciones, y a partir del comportamiento que queremos, y de los errores que queremos tratar, es posible construir un camino para el usuario, o también, proveer más detalles sobre aquella excepción.\n",
        "\n",
        "- Jerarquía de las excepciones (https://docs.python.org/es/3/library/exceptions.html#exception-hierarchy)"
      ],
      "metadata": {
        "id": "x3E66krBST7K"
      }
    },
    {
      "cell_type": "markdown",
      "source": [
        "### Try ... Except\n",
        "\n",
        "```python\n",
        "try:\n",
        "  # código que será ejecutado. En caso de que surja una excepción, para inmediatamente\n",
        "except <nombre_de_la_excepcion as e>:\n",
        "  # Si surje una excepción en el try, ejecuta este código, si no, salta esta etapa\n",
        "```"
      ],
      "metadata": {
        "id": "h9lj8Wfk__cl"
      }
    },
    {
      "cell_type": "markdown",
      "source": [
        "#### **Situación 12:**\n",
        "\n",
        "Creaste un código que lee un diccionario con las notas de los estudiantes y querías retornar la lista de notas de un estudiante.\n",
        "\n",
        "En caso que el/la estudiante no esté matriculado(a) en el grupo debemos tratar la excepción para presentar el mensaje \"Estudiante no matriculado(a) en el grupo\".\n",
        "\n",
        "Vamos a trabajar en este ejemplo con la excepción **Key Error** que interrumpirá el processo de este trecho de código.\n",
        "\n",
        "**¿Vamos a probar este primer tratamiento?**\n",
        "\n"
      ],
      "metadata": {
        "id": "miwzhPNdD8Ty"
      }
    },
    {
      "cell_type": "code",
      "source": [
        "notas = {'Juan': [8.0, 9.0, 10.0], 'Maria': [9.0, 7.0, 6.0], 'José': [3.4, 7.0, 8.0], 'Claudia': [5.5, 6.6, 8.0],\n",
        "         'Ana': [6.0, 10.0, 9.5], 'Jorge': [5.5, 7.5, 9.0], 'Julia': [6.0, 8.0, 7.0], 'Pedro': [3.0, 4.0, 6.0]}"
      ],
      "metadata": {
        "id": "UvVbXY0XVm-f"
      },
      "execution_count": null,
      "outputs": []
    },
    {
      "cell_type": "markdown",
      "source": [
        "# **Practicando antes de empezar**"
      ],
      "metadata": {
        "id": "zkJmp79E5IZz"
      }
    },
    {
      "cell_type": "code",
      "source": [
        "nombre = input(\"Digite el nombre de el/la estudiante: \")\n",
        "#almacena en un diccionario la llave y el valor seleccionado [0]\n",
        "resultado = {k: v[0] for (k,v) in notas.items() if k == nombre}\n",
        "print(resultado)\n",
        "print(type(resultado))\n",
        "\n",
        "#almacena solo el valor seleccionado[0]\n",
        "# Busca la primera nota del estudiante v[0] ingresado; si no lo encuentra, devuelve None\n",
        "resultado = next((v[0] for k, v in notas.items() if k == nombre), None)\n",
        "print(resultado)\n",
        "print(type(resultado))\n",
        "\n",
        "# Verifica si se encontró el estudiante y muestra un mensaje\n",
        "if resultado is None:\n",
        "    print(\"Estudiante no encontrado.\")\n",
        "else:\n",
        "    print(f\"La primera nota de {nombre} es: {resultado}\")"
      ],
      "metadata": {
        "id": "rFBq02dbJtkF",
        "outputId": "277d7215-1283-4363-e21f-9d8f57e727d1",
        "colab": {
          "base_uri": "https://localhost:8080/"
        }
      },
      "execution_count": null,
      "outputs": [
        {
          "output_type": "stream",
          "name": "stdout",
          "text": [
            "Digite el nombre de el/la estudiante: Juan\n",
            "{'Juan': 8.0}\n",
            "<class 'dict'>\n",
            "8.0\n",
            "<class 'float'>\n",
            "La primera nota de Juan es: 8.0\n"
          ]
        }
      ]
    },
    {
      "cell_type": "code",
      "source": [
        "#Para que me vuelva a preguntar en caso de que el nombre no sea válido, también se normaliza para que ignore mayúsculas y minúsculas\n",
        "while True:\n",
        "    nombre = input(\"Digite el nombre de el/la estudiante: \").strip()\n",
        "\n",
        "    # Normaliza el nombre para que ignore mayúsculas y minúsculas\n",
        "    resultado_dict = {\n",
        "        k: v[0] for k, v in notas.items()\n",
        "        if k.lower() == nombre.lower()\n",
        "    }\n",
        "\n",
        "    if resultado_dict:\n",
        "        print(f\"Resultado como diccionario: {resultado_dict}\")\n",
        "        print(f\"Tipo: {type(resultado_dict)}\")\n",
        "        break\n",
        "    else:\n",
        "        print(\"Estudiante no encontrado. Intente nuevamente.\")\n",
        "\n",
        "\n",
        "while True:\n",
        "    nombre = input(\"Digite el nombre de el/la estudiante: \").strip()\n",
        "\n",
        "    # next devuelve el valor si lo encuentra, si no, None\n",
        "    resultado_valor = next(\n",
        "        (v[0] for k, v in notas.items() if k.lower() == nombre.lower()), None\n",
        "    )\n",
        "\n",
        "    if resultado_valor is not None:\n",
        "        print(f\"La primera nota de {nombre} es: {resultado_valor}\")\n",
        "        print(f\"Tipo: {type(resultado_valor)}\")\n",
        "        break\n",
        "    else:\n",
        "        print(\"Estudiante no encontrado. Intente nuevamente.\")\n"
      ],
      "metadata": {
        "id": "Fk5btyYH4e1A",
        "outputId": "c083d497-9b00-4aee-98f3-30b2a4fab436",
        "colab": {
          "base_uri": "https://localhost:8080/"
        }
      },
      "execution_count": null,
      "outputs": [
        {
          "output_type": "stream",
          "name": "stdout",
          "text": [
            "Digite el nombre de el/la estudiante: juan\n",
            "Resultado como diccionario: {'Juan': 8.0}\n",
            "Tipo: <class 'dict'>\n",
            "Digite el nombre de el/la estudiante: juan\n",
            "La primera nota de juan es: 8.0\n",
            "Tipo: <class 'float'>\n"
          ]
        }
      ]
    },
    {
      "cell_type": "markdown",
      "source": [
        "### **Ahora sí, lo de la clase**"
      ],
      "metadata": {
        "id": "jAf8Zh6t5mrQ"
      }
    },
    {
      "cell_type": "code",
      "source": [
        "notas = {'Juan': [8.0, 9.0, 10.0], 'Maria': [9.0, 7.0, 6.0], 'José': [3.4, 7.0, 8.0], 'Claudia': [5.5, 6.6, 8.0],\n",
        "         'Ana': [6.0, 10.0, 9.5], 'Jorge': [5.5, 7.5, 9.0], 'Julia': [6.0, 8.0, 7.0], 'Pedro': [3.0, 4.0, 6.0]}"
      ],
      "metadata": {
        "id": "IZwxTL1EJvRl"
      },
      "execution_count": null,
      "outputs": []
    },
    {
      "cell_type": "code",
      "source": [
        "#si le forzamos un error al ingresar un nombre no válido, entrega la excepción\n",
        "try:\n",
        "  nombre = input('Ingrese el nombre de el/la estudiante: ')\n",
        "  resultado = notas[nombre]\n",
        "except Exception as e:\n",
        "  #nos imprime tipo de error, y donde se origina el error\n",
        "  print(type(e), e)"
      ],
      "metadata": {
        "id": "y_B6dQON5yWg",
        "outputId": "37676233-14f1-4165-d56b-4b84d299b5e4",
        "colab": {
          "base_uri": "https://localhost:8080/"
        }
      },
      "execution_count": null,
      "outputs": [
        {
          "output_type": "stream",
          "name": "stdout",
          "text": [
            "Ingrese el nombre de el/la estudiante: michael\n",
            "<class 'KeyError'> 'michael'\n"
          ]
        }
      ]
    },
    {
      "cell_type": "code",
      "source": [
        "#si le forzamos un error al ingresar un nombre no válido, entrega la excepción\n",
        "try:\n",
        "  nombre = input('Ingrese el nombre de el/la estudiante: ')\n",
        "  resultado = notas[nombre]\n",
        "except KeyError:\n",
        "  print(\"Estudiante no matriculado(a) en el grupo\")"
      ],
      "metadata": {
        "id": "PIExcikx6smx",
        "outputId": "c3046340-4e3c-4631-c97e-dbb903efb23c",
        "colab": {
          "base_uri": "https://localhost:8080/"
        }
      },
      "execution_count": null,
      "outputs": [
        {
          "output_type": "stream",
          "name": "stdout",
          "text": [
            "Ingrese el nombre de el/la estudiante: michael\n",
            "Estudiante no matriculado(a) en el grupo\n"
          ]
        }
      ]
    },
    {
      "cell_type": "markdown",
      "source": [
        "### Agregando la cláusula Else\n",
        "\n",
        "```python\n",
        "try:\n",
        "  # código que será ejecutado. En caso de que surja una excepción, para inmediatamente\n",
        "except:\n",
        "  # Si surje una excepción en el try, ejecuta este código, si no, salta esta etapa\n",
        "else:\n",
        "  # Si no surjen excepciones, ejecuta esta parte del código\n",
        "```"
      ],
      "metadata": {
        "id": "hKhKzgQoBHLb"
      }
    },
    {
      "cell_type": "markdown",
      "source": [
        "#### **Situación 13:**\n",
        "\n",
        "Creaste un código que lee un diccionario con las notas de los estudiantes y querías retornar la lista de notas de un estudiante.\n",
        "\n",
        "En caso de que el/la estudiante no esté matriculado(a) en la clase, debe aparecer el siguiente mensaje: \"Estudiante no matriculado(a) en el grupo\" y, si no surje la excepción, debemos exhibir la lista con las notas del(la) estudiante.\n",
        "\n",
        "Vamos a trabajar en este ejemplo con la excepción **Key Error** que interrumpirá el proceso de este trecho de código.\n",
        "\n",
        "**¿Vamos a probar este tratamiento?**\n"
      ],
      "metadata": {
        "id": "USN3SA2tMjL0"
      }
    },
    {
      "cell_type": "code",
      "source": [
        "#probando\n",
        "nombre = input('Ingrese el nombre de el/la estudiante: ')\n",
        "\n",
        "# 1. Lista con solo los valores (lista de notas), usando comprensión\n",
        "resultado_lista = [v for k, v in notas.items() if k.lower() == nombre.lower()]\n",
        "\n",
        "# 2. Lista de tuplas con nombre y lista de notas (estructura más clara)\n",
        "resultado_lista_con_lista = [(k, v) for k, v in notas.items() if k.lower() == nombre.lower()]\n",
        "\n",
        "# 3. Diccionario con la coincidencia encontrada (nombre: [notas])\n",
        "resultado_diccionario = {k: v for k, v in notas.items() if k.lower() == nombre.lower()}\n",
        "\n",
        "# Verificamos si alguna coincidencia fue encontrada (basta con verificar una)\n",
        "if resultado_lista:\n",
        "    print(type(resultado_lista))\n",
        "    print(f\"Las notas del estudiante {nombre.capitalize()} son: {resultado_lista}\")\n",
        "\n",
        "    print(type(resultado_lista_con_lista))\n",
        "    print(f\"Notas detalladas (como tupla): {resultado_lista_con_lista}\")\n",
        "\n",
        "    print(type(resultado_diccionario))\n",
        "    print(f\"Notas como diccionario: {resultado_diccionario}\")\n",
        "else:\n",
        "    print(\"Estudiante no matriculado(a) en el grupo\")\n"
      ],
      "metadata": {
        "id": "FT535l6_Dp97",
        "outputId": "dfbb6558-1213-44fb-8937-083fa2377b5c",
        "colab": {
          "base_uri": "https://localhost:8080/"
        }
      },
      "execution_count": null,
      "outputs": [
        {
          "output_type": "stream",
          "name": "stdout",
          "text": [
            "Ingrese el nombre de el/la estudiante: juan\n",
            "<class 'list'>\n",
            "Las notas del estudiante Juan son: [[8.0, 9.0, 10.0]]\n",
            "<class 'list'>\n",
            "Notas detalladas (como tupla): [('Juan', [8.0, 9.0, 10.0])]\n",
            "<class 'dict'>\n",
            "Notas como diccionario: {'Juan': [8.0, 9.0, 10.0]}\n"
          ]
        }
      ]
    },
    {
      "cell_type": "code",
      "source": [
        "try:\n",
        "  nombre = input('Ingrese el nombre de el/la estudiante: ')\n",
        "  resultado= notas[nombre]\n",
        "\n",
        "except KeyError:\n",
        "  print(\"Estudiante no matriculado(a) en el grupo\")\n",
        "else:\n",
        "  print(type(resultado))\n",
        "  print(f\"Las notas del estudiante son: {resultado}.\")\n"
      ],
      "metadata": {
        "id": "Qr_4-D3UJxcE",
        "outputId": "e819f6ca-cb0e-4256-dc95-83ac806f5b34",
        "colab": {
          "base_uri": "https://localhost:8080/"
        }
      },
      "execution_count": null,
      "outputs": [
        {
          "output_type": "stream",
          "name": "stdout",
          "text": [
            "Ingrese el nombre de el/la estudiante: Juan\n",
            "<class 'list'>\n",
            "Las notas del estudiante son: [8.0, 9.0, 10.0].\n"
          ]
        }
      ]
    },
    {
      "cell_type": "code",
      "source": [],
      "metadata": {
        "id": "uy2xPGXoJzXS"
      },
      "execution_count": null,
      "outputs": []
    },
    {
      "cell_type": "markdown",
      "source": [
        "### Añadiendo la cláusula finally\n",
        "\n",
        "```python\n",
        "try:\n",
        "  # código que será ejecutado. En caso de que surja una excepción, para inmediatamente\n",
        "except:\n",
        "  # Si surje una excepción en el try, ejecuta este código, si no, salta esta etapa\n",
        "else:\n",
        "  # Si no surjen excepciones, ejecuta esta parte del código\n",
        "finally:\n",
        "  # Ejecuta este trecho (con o sin excepción)\n",
        "```"
      ],
      "metadata": {
        "id": "Dw_efTlbBhll"
      }
    },
    {
      "cell_type": "markdown",
      "source": [
        "#### **Situación 14:**\n",
        "\n",
        "Creaste un código que lee un diccionario con las notas de los estudiantes y querías retornar la lista de notas de un estudiante.\n",
        "\n",
        "En caso de que el/la estudiante no esté matriculado(a) en la clase, debe aparecer el siguiente mensaje: \"Estudiante no matriculado(a) en el grupo\" y, si no surje la excepción, debemos exhibir la lista con las notas del(la) estudiante. Un texto avisando que \"La consulta ha concluído.\" debe ser mostrado independientemente de si surgió o no alguna excepción.\n",
        "\n",
        "\n",
        "Vamos a trabajar en este ejemplo con la excepción **Key Error** que interrumpirá el proceso de este trecho del código.\n",
        "\n",
        "**¿Vamos a probar este tratamiento?**"
      ],
      "metadata": {
        "id": "jGtFVx5GdnsS"
      }
    },
    {
      "cell_type": "code",
      "source": [
        "try:\n",
        "  nombre = input('Ingrese el nombre de el/la estudiante: ')\n",
        "  resultado= notas[nombre]\n",
        "\n",
        "except KeyError:\n",
        "  print(\"Estudiante no matriculado(a) en el grupo\")\n",
        "else:\n",
        "  print(type(resultado))\n",
        "  print(f\"Las notas del estudiante son: {resultado}.\")\n",
        "finally:\n",
        "  print(\"La consulta ha concluido\")"
      ],
      "metadata": {
        "id": "PwdLYP_zJ04s",
        "outputId": "75141f86-78f9-400e-bb0d-6894984cebfc",
        "colab": {
          "base_uri": "https://localhost:8080/"
        }
      },
      "execution_count": null,
      "outputs": [
        {
          "output_type": "stream",
          "name": "stdout",
          "text": [
            "Ingrese el nombre de el/la estudiante: Juan\n",
            "<class 'list'>\n",
            "Las notas del estudiante son: [8.0, 9.0, 10.0].\n",
            "La consulta ha concluido\n"
          ]
        }
      ]
    },
    {
      "cell_type": "markdown",
      "source": [
        "## 4.2 Raise\n",
        "\n",
        "Otra forma de trabajar con las excepciones en tu código, es generando tus propias excepciones para determinados comportamientos que deseas en tu código.\n",
        "\n",
        "Para ello, utilizamos la palabra clave `raise` junto al tipo de excepción que se desea mostrar y el mensaje que será exhibido.   "
      ],
      "metadata": {
        "id": "HdjllLBpST_2"
      }
    },
    {
      "cell_type": "markdown",
      "source": [
        "```python\n",
        "raise NombreDelError(\"Mensaje deseado.\")\n",
        "```"
      ],
      "metadata": {
        "id": "_nIOnDQufv6Z"
      }
    },
    {
      "cell_type": "markdown",
      "source": [
        "#### **Situação 15:**\n",
        "\n",
        "Creaste una función para calcular el promedio de un estudiante en una determinada materia pasando en una lista las notas de este estudiante.\n",
        "\n",
        "Pretendes tratar 2 situaciones:\n",
        "\n",
        "- Si la lista posee un valor no numérico el cálculo de promedio no será ejecutado y un mensaje de \"No fue posible calcular el promedio del(la) estudiante. Solo se admiten valores numéricos!\" será exhibido.\n",
        "\n",
        "- En caso que la lista tenga más de 4 notas, surgirá una excepción del tipo **ValueError** informando que \"La lista no puede poseer más de 4 notas.\"\n",
        "\n",
        "Un texto avisando que \"La consulta ha concluído.\" debe ser mostrado independientemente de si surgió o no alguna excepción.\n",
        "\n",
        "**¿Vamos a resolver este desafío?**"
      ],
      "metadata": {
        "id": "xapeB2ivgB7R"
      }
    },
    {
      "cell_type": "code",
      "source": [
        "def promedio(lista: list=[0]) -> float:\n",
        "  ''' Función para calcular el promedio de notas en una lista\n",
        "\n",
        "  lista: list, default [0]\n",
        "    Lista con las notas para calcular el promedio\n",
        "  return = calculo: float\n",
        "    Promedio calculado\n",
        "  '''\n",
        "\n",
        "  calculo = sum(lista) / len(lista)\n",
        "  if len(lista) > 4:\n",
        "    raise ValueError(\"La lista no puede poseer más de 4 notas.\")\n",
        "\n",
        "  return calculo"
      ],
      "metadata": {
        "id": "kKeFuHUfhSfa"
      },
      "execution_count": null,
      "outputs": []
    },
    {
      "cell_type": "code",
      "source": [
        "notas = [6,7,8,9,'10']\n",
        "resultado = promedio(notas)\n",
        "resultado"
      ],
      "metadata": {
        "id": "_ghW6hb9KBpU",
        "colab": {
          "base_uri": "https://localhost:8080/",
          "height": 308
        },
        "outputId": "93da57f0-5a7d-4436-8c0b-709eac473f94"
      },
      "execution_count": null,
      "outputs": [
        {
          "output_type": "error",
          "ename": "TypeError",
          "evalue": "unsupported operand type(s) for +: 'int' and 'str'",
          "traceback": [
            "\u001b[0;31m---------------------------------------------------------------------------\u001b[0m",
            "\u001b[0;31mTypeError\u001b[0m                                 Traceback (most recent call last)",
            "\u001b[0;32m<ipython-input-35-f48d04f1e9ba>\u001b[0m in \u001b[0;36m<cell line: 0>\u001b[0;34m()\u001b[0m\n\u001b[1;32m      1\u001b[0m \u001b[0mnotas\u001b[0m \u001b[0;34m=\u001b[0m \u001b[0;34m[\u001b[0m\u001b[0;36m6\u001b[0m\u001b[0;34m,\u001b[0m\u001b[0;36m7\u001b[0m\u001b[0;34m,\u001b[0m\u001b[0;36m8\u001b[0m\u001b[0;34m,\u001b[0m\u001b[0;36m9\u001b[0m\u001b[0;34m,\u001b[0m\u001b[0;34m'10'\u001b[0m\u001b[0;34m]\u001b[0m\u001b[0;34m\u001b[0m\u001b[0;34m\u001b[0m\u001b[0m\n\u001b[0;32m----> 2\u001b[0;31m \u001b[0mresultado\u001b[0m \u001b[0;34m=\u001b[0m \u001b[0mpromedio\u001b[0m\u001b[0;34m(\u001b[0m\u001b[0mnotas\u001b[0m\u001b[0;34m)\u001b[0m\u001b[0;34m\u001b[0m\u001b[0;34m\u001b[0m\u001b[0m\n\u001b[0m\u001b[1;32m      3\u001b[0m \u001b[0mresultado\u001b[0m\u001b[0;34m\u001b[0m\u001b[0;34m\u001b[0m\u001b[0m\n",
            "\u001b[0;32m<ipython-input-12-fd8291e0d82d>\u001b[0m in \u001b[0;36mpromedio\u001b[0;34m(lista)\u001b[0m\n\u001b[1;32m      8\u001b[0m   '''\n\u001b[1;32m      9\u001b[0m \u001b[0;34m\u001b[0m\u001b[0m\n\u001b[0;32m---> 10\u001b[0;31m   \u001b[0mcalculo\u001b[0m \u001b[0;34m=\u001b[0m \u001b[0msum\u001b[0m\u001b[0;34m(\u001b[0m\u001b[0mlista\u001b[0m\u001b[0;34m)\u001b[0m \u001b[0;34m/\u001b[0m \u001b[0mlen\u001b[0m\u001b[0;34m(\u001b[0m\u001b[0mlista\u001b[0m\u001b[0;34m)\u001b[0m\u001b[0;34m\u001b[0m\u001b[0;34m\u001b[0m\u001b[0m\n\u001b[0m\u001b[1;32m     11\u001b[0m   \u001b[0;32mif\u001b[0m \u001b[0mlen\u001b[0m\u001b[0;34m(\u001b[0m\u001b[0mlista\u001b[0m\u001b[0;34m)\u001b[0m \u001b[0;34m>\u001b[0m \u001b[0;36m4\u001b[0m\u001b[0;34m:\u001b[0m\u001b[0;34m\u001b[0m\u001b[0;34m\u001b[0m\u001b[0m\n\u001b[1;32m     12\u001b[0m     \u001b[0;32mraise\u001b[0m \u001b[0mValueError\u001b[0m\u001b[0;34m(\u001b[0m\u001b[0;34m\"La lista no puede poseer más de 4 notas.\"\u001b[0m\u001b[0;34m)\u001b[0m\u001b[0;34m\u001b[0m\u001b[0;34m\u001b[0m\u001b[0m\n",
            "\u001b[0;31mTypeError\u001b[0m: unsupported operand type(s) for +: 'int' and 'str'"
          ]
        }
      ]
    },
    {
      "cell_type": "code",
      "source": [
        "#error al ingresar '10' (string)\n",
        "try:\n",
        "  notas = [6,7,8,9,'10']\n",
        "  resultado = promedio(notas)\n",
        "#error al ingresar un string como nota\n",
        "except TypeError:\n",
        "  print(\"No fue posible calcular el promedio del(la) estudiante. Solo se admiten valores numéricos!\")\n",
        "\n",
        "except ValueError as e:\n",
        "  print(e)\n",
        "else:\n",
        "  print(f\"El promedio del(la) estudiante es: {resultado}.\")"
      ],
      "metadata": {
        "id": "X2To8kJdKGFk",
        "colab": {
          "base_uri": "https://localhost:8080/"
        },
        "outputId": "a976877c-66fa-4fef-80d1-34091f4e03e8"
      },
      "execution_count": null,
      "outputs": [
        {
          "output_type": "stream",
          "name": "stdout",
          "text": [
            "No fue posible calcular el promedio del(la) estudiante. Solo se admiten valores numéricos!\n"
          ]
        }
      ]
    },
    {
      "cell_type": "code",
      "source": [
        "#error al ingresar mas de 4 notas\n",
        "try:\n",
        "  notas = [6,7,8,9,10]\n",
        "  resultado = promedio(notas)\n",
        "\n",
        "except TypeError:\n",
        "  print(\"No fue posible calcular el promedio del(la) estudiante. Solo se admiten valores numéricos!\")\n",
        "#muestra el error de valor (por ingresar más de 4 notas)\n",
        "except ValueError as e:\n",
        "  print(e)\n",
        "else:\n",
        "  print(f\"El promedio del(la) estudiante es: {resultado}.\")"
      ],
      "metadata": {
        "id": "oaVqlfUN6v_w",
        "outputId": "efdcba12-6f29-4426-d636-be4621dcdc66",
        "colab": {
          "base_uri": "https://localhost:8080/"
        }
      },
      "execution_count": null,
      "outputs": [
        {
          "output_type": "stream",
          "name": "stdout",
          "text": [
            "La lista no puede poseer más de 4 notas.\n"
          ]
        }
      ]
    },
    {
      "cell_type": "code",
      "source": [
        "#al ingresar 4 notas  o menos , se salta todas las excepciones e ingresa al else: resultado\n",
        "#y finaliza con finally\n",
        "try:\n",
        "  notas = [6,7,8,9]\n",
        "  resultado = promedio(notas)\n",
        "except TypeError:\n",
        "  print(\"No fue posible calcular el promedio del(la) estudiante. Solo se admiten valores numéricos!\")\n",
        "except ValueError as e:\n",
        "  print(e)\n",
        "else:\n",
        "  print(f\"El promedio del(la) estudiante es: {resultado}.\")\n",
        "finally:\n",
        "  print(\"La consulta ha concluido.\")\n"
      ],
      "metadata": {
        "id": "nrCsWqX6KGIA",
        "colab": {
          "base_uri": "https://localhost:8080/"
        },
        "outputId": "85a9ce0b-6cf1-4bd2-e9bf-87208be0fa74"
      },
      "execution_count": null,
      "outputs": [
        {
          "output_type": "stream",
          "name": "stdout",
          "text": [
            "El promedio del(la) estudiante es: 7.5.\n",
            "La consulta ha concluido.\n"
          ]
        }
      ]
    },
    {
      "cell_type": "markdown",
      "source": [
        "------"
      ],
      "metadata": {
        "id": "PDpx5QFv_3sV"
      }
    },
    {
      "cell_type": "code",
      "source": [
        "#ejemplo con error forzado: más de 3 notas en la lista\n",
        "def exhibir_notas_anuales(lista):\n",
        "\n",
        "    if len(lista) > 3: #más de 3 notass en la lista\n",
        "        raise ValueError(\"La lista de notas debe tener 3 elementos\")\n",
        "\n",
        "    for i, nota in enumerate(lista):\n",
        "        print(f\"{i+1}ª Trimestre = {nota}\")"
      ],
      "metadata": {
        "id": "F01dYXu9DozP"
      },
      "execution_count": null,
      "outputs": []
    },
    {
      "cell_type": "code",
      "source": [
        "try:\n",
        "  notas = [5.0, 2.0, 6.0, 10]\n",
        "  exhibir_notas_anuales(notas)\n",
        "except Exception as e:\n",
        "  print(type(e), f'Error: {e}')"
      ],
      "metadata": {
        "id": "fYzBSJUDD47o",
        "outputId": "f78f78a7-268a-467e-ac33-4db15838d669",
        "colab": {
          "base_uri": "https://localhost:8080/"
        }
      },
      "execution_count": null,
      "outputs": [
        {
          "output_type": "stream",
          "name": "stdout",
          "text": [
            "<class 'ValueError'> Error: La lista de notas debe tener 3 elementos\n"
          ]
        }
      ]
    },
    {
      "cell_type": "code",
      "source": [
        "#ejemplo sin error forzado: solo 3 notas en la lista\n",
        "def exhibir_notas_anuales(lista):\n",
        "\n",
        "    if len(lista) > 3:\n",
        "        raise ValueError(\"La lista de notas debe tener 3 elementos\")\n",
        "\n",
        "    for i, nota in enumerate(lista):\n",
        "        print(f\"{i+1}ª Trimestre = {nota}\")"
      ],
      "metadata": {
        "id": "mEe3airCEEF4"
      },
      "execution_count": null,
      "outputs": []
    },
    {
      "cell_type": "code",
      "source": [
        "try:\n",
        "  notas = [5.0, 2.0, 6.0] #solo 3 notas en la lista\n",
        "  exhibir_notas_anuales(notas)\n",
        "except Exception as e:\n",
        "  print(type(e), f'Error: {e}')"
      ],
      "metadata": {
        "id": "QiYsVOisEER3",
        "outputId": "e44846cf-fa71-4451-cd49-490231a992e3",
        "colab": {
          "base_uri": "https://localhost:8080/"
        }
      },
      "execution_count": null,
      "outputs": [
        {
          "output_type": "stream",
          "name": "stdout",
          "text": [
            "1ª Trimestre = 5.0\n",
            "2ª Trimestre = 2.0\n",
            "3ª Trimestre = 6.0\n"
          ]
        }
      ]
    },
    {
      "cell_type": "markdown",
      "source": [
        "# **05 Desafío: hora de practicar**"
      ],
      "metadata": {
        "id": "x6qqRRxjdsO0"
      }
    },
    {
      "cell_type": "markdown",
      "source": [
        "Vamos practicar lo que hemos aprendido hasta ahora resolviendo los problemas propuestos en código.\n",
        "\n",
        "**Calentamiento**\n",
        "\n",
        "1 - Haz un programa que solicite a la persona usuaria ingresar dos números decimales y calcular la división entre estos números. El código debe incluir un manejo de error, indicando el tipo de error que se generó si la división no es posible.\n",
        "\n",
        "Prueba el programa con el segundo valor numérico de la entrada igual a 0. También prueba usando caracteres textuales en la entrada para verificar los tipos de errores que ocurren."
      ],
      "metadata": {
        "id": "5P6fKRekdsTt"
      }
    },
    {
      "cell_type": "code",
      "source": [
        "numero_1 = input(\"Ingrese primer número: \")\n",
        "numero_2 = input(\"Ingrese segundo número: \")\n",
        "numeros = []\n",
        "try:\n",
        "  numeros.append(float(numero_1))\n",
        "  numeros.append(float(numero_2))\n",
        "  print(numeros)\n",
        "\n",
        "\n",
        "  def division(lista):\n",
        "    ''' Función para calcular la división entre 2 números ingresados a una lista\n",
        "    lista:\n",
        "      Lista con las notas para calcular la división\n",
        "    return = division: float\n",
        "      División calculada\n",
        "    '''\n",
        "    if lista[0] == 0 or lista[1] == 0:\n",
        "      raise ZeroDivisionError(\"El número divisor no puede ser 0\")\n",
        "    div = lista[0]/lista[1]\n",
        "    return div\n",
        "  resultado = round(division(numeros),1)\n",
        "\n",
        "except TypeError:\n",
        "  print(\"Error de tipo\")\n",
        "except ZeroDivisionError as e:\n",
        "  print(e)\n",
        "except ValueError:\n",
        "  print(\"Debe ingresar un valor numérico\")\n",
        "else:\n",
        "  print(f\"El resultado de la división es: {resultado}\")\n",
        "finally:\n",
        "  print(\"La consulta ha concluido.\")\n"
      ],
      "metadata": {
        "id": "mOyiwUI9eZ34",
        "outputId": "8d9ffa14-d21f-4ff9-841e-ddb7d30bdbd8",
        "colab": {
          "base_uri": "https://localhost:8080/"
        }
      },
      "execution_count": null,
      "outputs": [
        {
          "output_type": "stream",
          "name": "stdout",
          "text": [
            "Ingrese primer número: 2\n",
            "Ingrese segundo número: 2\n",
            "[2.0, 2.0]\n",
            "El resultado de la división es: 1.0\n",
            "La consulta ha concluido.\n"
          ]
        }
      ]
    },
    {
      "cell_type": "markdown",
      "source": [
        "2 - Haz un programa que solicite a la persona usuaria ingresar un texto que será una clave a buscar en el siguiente diccionario: `edades = {'Júlia': 16, 'Carol': 23, 'Alberto': 19, 'Roberta': 17}`, almacenando el resultado del valor en una variable. El código debe incluir un manejo de error KeyError, imprimiendo la información 'Nombre no encontrado' en caso de error, e imprimir el valor si no ocurre ninguno.\n",
        "\n",
        "Prueba el programa con un nombre presente en una de las claves del diccionario y con uno que no esté en el diccionario para verificar el mensaje de error."
      ],
      "metadata": {
        "id": "2YuoXY_leSqe"
      }
    },
    {
      "cell_type": "code",
      "source": [
        "edades = {'Julia': 16, 'Carol': 23, 'Alberto': 19, 'Roberta': 17}"
      ],
      "metadata": {
        "id": "jXimfUJSebKp"
      },
      "execution_count": null,
      "outputs": []
    },
    {
      "cell_type": "code",
      "source": [
        "try:\n",
        "  ingreso_nombre = input(\"Ingresa el nombre de la persona a buscar: \")\n",
        "  edad = edades[ingreso_nombre]\n",
        "\n",
        "except KeyError:\n",
        "  print(\"Nombre no encontrado.\")\n",
        "\n",
        "else:\n",
        "  print(f\"La edad del/la estudiante {ingreso_nombre} es: {edad} años.\")\n"
      ],
      "metadata": {
        "id": "hBYLkLZhq18z",
        "outputId": "d2042e0f-24e2-4c83-b454-f927a41ef8e0",
        "colab": {
          "base_uri": "https://localhost:8080/"
        }
      },
      "execution_count": null,
      "outputs": [
        {
          "output_type": "stream",
          "name": "stdout",
          "text": [
            "Ingresa el nombre de la persona a buscar: Julia\n",
            "La edad del/la estudiante Julia es: 16 años.\n"
          ]
        }
      ]
    },
    {
      "cell_type": "markdown",
      "source": [
        "3 - Crea una función que reciba una lista como parámetro y convierta todos los valores de la lista a flotantes. La función debe incluir un manejo de error indicando el tipo de error generado y devolver la lista si no ha ocurrido ningún error. Por último, debe tener la cláusula finally para imprimir el texto: 'Fin de la ejecución de la función'."
      ],
      "metadata": {
        "id": "qBYCmg3VeSs4"
      }
    },
    {
      "cell_type": "code",
      "source": [
        "def convertir_a_flotantes(lista):\n",
        "  '''Convierte todos los valores de una lista a tipo float.\n",
        "\n",
        "  Parámetros:\n",
        "    lista: list\n",
        "      Lista con valores a convertir\n",
        "\n",
        "  Retorna:\n",
        "    list: Lista con valores convertidos a float si no hay errores\n",
        "  '''\n",
        "  if not lista:\n",
        "    print(\"La lista está vacía.\")\n",
        "    return []\n",
        "\n",
        "  try:\n",
        "    lista_convertida = [float(valor) for valor in lista]\n",
        "  except TypeError as e:\n",
        "    print(f\"Ocurrió un error: TypeError - El argumento debe ser una cadena o un número real, no 'NoneType'.\")\n",
        "    return None\n",
        "  except ValueError as e:\n",
        "    print(f\"Ocurrió un error: ValueError - No se ha podido convertir cadena a float.\")\n",
        "    return None\n",
        "  else:\n",
        "    return lista_convertida\n",
        "  finally:\n",
        "    print(\"Fin de la ejecución de la función.\")\n",
        "\n",
        "\n",
        "print(convertir_a_flotantes([\"4\", \"5.5\", 3]))\n",
        "#[4.0, 5.5, 3.0]\n",
        "\n",
        "print(convertir_a_flotantes([None, 2]))\n",
        "#TypeError\n",
        "\n",
        "print(convertir_a_flotantes([\"4\", \"hola\", 2]))\n",
        "#ValueError\n",
        "\n",
        "print(convertir_a_flotantes([]))\n",
        "#Lista vacía"
      ],
      "metadata": {
        "id": "X-TvgVQlgOpp",
        "outputId": "54890661-dca2-44f4-ef34-9ada38dd8661",
        "colab": {
          "base_uri": "https://localhost:8080/"
        }
      },
      "execution_count": null,
      "outputs": [
        {
          "output_type": "stream",
          "name": "stdout",
          "text": [
            "Fin de la ejecución de la función.\n",
            "[4.0, 5.5, 3.0]\n",
            "Ocurrió un error: TypeError - El argumento debe ser una cadena o un número real, no 'NoneType'.\n",
            "Fin de la ejecución de la función.\n",
            "None\n",
            "Ocurrió un error: ValueError - No se ha podido convertir cadena a float.\n",
            "Fin de la ejecución de la función.\n",
            "None\n",
            "La lista está vacía.\n",
            "[]\n"
          ]
        }
      ]
    },
    {
      "cell_type": "markdown",
      "source": [
        "4 - Crea una función que reciba dos listas como parámetros y agrupe los elementos uno a uno de las listas, formando una lista de tuplas de 3 elementos. El primer y segundo elemento de la tupla son los valores en la posición i de las listas y el tercer elemento es la suma de los valores en la posición i de las listas.\n",
        "\n",
        "La función debe incluir un manejo de error indicando el tipo de error generado y devolver como resultado la lista de tuplas. Si las listas enviadas como parámetro tienen tamaños diferentes, la función debe devolver un IndexError con la frase: 'La cantidad de elementos en cada lista es diferente.'.\n",
        "\n",
        "***Datos para probar la función:***\n",
        "\n",
        "**Valores sin error:**\n",
        "```\n",
        "lista1 = [4, 6, 7, 9, 10]\n",
        "lista2 = [-4, 6, 8, 7, 9]\n",
        "```\n",
        "\n",
        "**Listas con tamaños diferentes:**\n",
        "```\n",
        "lista1 = [4, 6, 7, 9, 10, 4]\n",
        "lista2 = [-4, 6, 8, 7, 9]\n",
        "```\n",
        "\n",
        "**Listas con valores incoherentes:**\n",
        "```\n",
        "lista1 = [4, 6, 7, 9, 'A']\n",
        "lista2 = [-4, 'E', 8, 7, 9]\n",
        "```"
      ],
      "metadata": {
        "id": "A5-FaE34eSvK"
      }
    },
    {
      "cell_type": "code",
      "source": [
        "# Paso 1 - operaciones simples - sin resultado óptimo\n",
        "lista1 = [4, 6, 7, 9, 10]\n",
        "lista2 = [-4, 6, 8, 7, 9]\n",
        "\n",
        "if len(lista1) != len(lista2):\n",
        "  print(\"Ocurrió un error: IndexError - La cantidad de elementos en cada lista es diferente.\")\n",
        "else:\n",
        "  lista_tuplas = []  # Crear lista vacía para guardar las tuplas\n",
        "\n",
        "  for i in range(len(lista1)):\n",
        "    tupla = (lista1[i], lista2[i], lista1[i] + lista2[i])  # Crear tupla\n",
        "    lista_tuplas.append(tupla)  # Agregarla a la lista\n",
        "\n",
        "  print(lista_tuplas)  # Imprimir la lista completa de tuplas\n",
        "\n"
      ],
      "metadata": {
        "id": "yDBptKp8_0Dy",
        "outputId": "e92ce69d-599a-435d-8fcd-926046120276",
        "colab": {
          "base_uri": "https://localhost:8080/"
        }
      },
      "execution_count": null,
      "outputs": [
        {
          "output_type": "stream",
          "name": "stdout",
          "text": [
            "[(4, -4, 0), (6, 6, 12), (7, 8, 15), (9, 7, 16), (10, 9, 19)]\n"
          ]
        }
      ]
    },
    {
      "cell_type": "code",
      "source": [
        "#paso 2 - usando comprehesion\n",
        "lista1 = [4, 6, 7, 9, 10]\n",
        "lista2 = [-4, 6, 8, 7, 9]\n",
        "\n",
        "lista_tuplas = [(lista1[i], lista2[i], lista1[i]+lista2[i]) for i in range(len(lista1)) if len(lista1) == len(lista2)]\n",
        "\n",
        "lista_tuplas\n"
      ],
      "metadata": {
        "id": "P6zwtplC7QwZ",
        "outputId": "4e8e9efc-2744-40b8-f372-5713e22e676b",
        "colab": {
          "base_uri": "https://localhost:8080/"
        }
      },
      "execution_count": null,
      "outputs": [
        {
          "output_type": "execute_result",
          "data": {
            "text/plain": [
              "[(4, -4, 0), (6, 6, 12), (7, 8, 15), (9, 7, 16), (10, 9, 19)]"
            ]
          },
          "metadata": {},
          "execution_count": 120
        }
      ]
    },
    {
      "cell_type": "code",
      "source": [
        "#paso 3 - usando función y comprehesion\n",
        "def crear_lista_de_tuplas(l1,l2):\n",
        "  lista_tuplas = [(l1[i], l2[i], l1[i]+l2[i]) for i in range(len(l1)) if len(l1) == len(l2)]\n",
        "  return lista_tuplas\n",
        "\n",
        "lista1 = [4, 6, 7, 9, 10]\n",
        "lista2 = [-4, 6, 8, 7, 9]\n",
        "\n",
        "print(crear_lista_de_tuplas(lista1,lista2))"
      ],
      "metadata": {
        "id": "tYRHkhgX-JoC",
        "outputId": "6715ad3c-f96b-4aa3-e072-fb2fdb61025a",
        "colab": {
          "base_uri": "https://localhost:8080/"
        }
      },
      "execution_count": 18,
      "outputs": [
        {
          "output_type": "stream",
          "name": "stdout",
          "text": [
            "[(4, -4, 0), (6, 6, 12), (7, 8, 15), (9, 7, 16), (10, 9, 19)]\n"
          ]
        }
      ]
    },
    {
      "cell_type": "code",
      "source": [
        "#paso 4 - usando función, comprehesión y manejo de errores (Valores sin error y tamaño diferente)\n",
        "def crear_lista_de_tuplas(l1,l2):\n",
        "\n",
        "\n",
        "  try:\n",
        "    if len(l1) != len(l2):\n",
        "      raise IndexError(\"Ocurrió un error: IndexError - La cantidad de elementos en cada lista es diferente.\")\n",
        "    else:\n",
        "      lista_tuplas = [(l1[i], l2[i], l1[i]+l2[i]) for i in range(len(l1))] #elimino el if, porque la validación ya está hecha\n",
        "      return lista_tuplas\n",
        "  except IndexError as e:\n",
        "    print(e)\n",
        "\n",
        "#Valores sin error\n",
        "lista1 = [4, 6, 7, 9, 10]\n",
        "lista2 = [-4, 6, 8, 7, 9]\n",
        "\n",
        "#Listas con tamaños diferentes\n",
        "lista3 = [4, 6, 7, 9, 10, 4]\n",
        "lista4 = [-4, 6, 8, 7, 9]\n",
        "\n",
        "\n",
        "\n",
        "print(crear_lista_de_tuplas(lista1,lista2))\n",
        "print(crear_lista_de_tuplas(lista3,lista4))\n",
        "\n"
      ],
      "metadata": {
        "id": "Jxt37KQADmOd",
        "outputId": "ad10d1c8-9614-41a9-9851-f8d48ef7f3d7",
        "colab": {
          "base_uri": "https://localhost:8080/"
        }
      },
      "execution_count": 23,
      "outputs": [
        {
          "output_type": "stream",
          "name": "stdout",
          "text": [
            "[(4, -4, 0), (6, 6, 12), (7, 8, 15), (9, 7, 16), (10, 9, 19)]\n",
            "Ocurrió un error: IndexError - La cantidad de elementos en cada lista es diferente.\n",
            "None\n"
          ]
        }
      ]
    },
    {
      "cell_type": "code",
      "source": [
        "#paso 5: usando función, comrehesion y todas las validaciones (ejercicio completo)\n",
        "def crear_lista_de_tuplas(l1, l2):\n",
        "  try:\n",
        "\n",
        "    # Validación de longitud\n",
        "    if len(l1) != len(l2):\n",
        "      raise IndexError(\"Ocurrió un error: IndexError - La cantidad de elementos en cada lista es diferente.\")\n",
        "\n",
        "    # Validación de contenido (solo números)\n",
        "    for x in l1 + l2:\n",
        "      if not isinstance(x, (int, float)):\n",
        "        raise TypeError(\"Ocurrió un error: TypeError - Todos los elementos deben ser numéricos.\")\n",
        "\n",
        "    # Crear la lista de tuplas\n",
        "    lista_tuplas = [(l1[i], l2[i], l1[i] + l2[i]) for i in range(len(l1))]\n",
        "    return lista_tuplas\n",
        "\n",
        "  except (IndexError, TypeError) as e:\n",
        "    print(e)\n",
        "\n",
        "#Valores sin error\n",
        "lista1 = [4, 6, 7, 9, 10]\n",
        "lista2 = [-4, 6, 8, 7, 9]\n",
        "\n",
        "#Listas con tamaños diferentes\n",
        "lista3 = [4, 6, 7, 9, 10, 4]\n",
        "lista4 = [-4, 6, 8, 7, 9]\n",
        "\n",
        "#Listas con valores incoherentes\n",
        "lista5 = [4, 6, 7, 9, 'A']\n",
        "lista6 = [-4, 'E', 8, 7, 9]\n",
        "\n",
        "print(\"Valores sin error\".upper())\n",
        "print(crear_lista_de_tuplas(lista1,lista2))\n",
        "\n",
        "print(\"\\nListas con tamaños diferentes\".upper())\n",
        "print(crear_lista_de_tuplas(lista3,lista4))\n",
        "\n",
        "print(\"\\nListas con valores incoherentes\".upper())\n",
        "print(crear_lista_de_tuplas(lista5,lista6))\n"
      ],
      "metadata": {
        "id": "f-BxPPHTIwxe",
        "outputId": "f90446f8-9fc6-405f-b7a9-09c8c0b8022f",
        "colab": {
          "base_uri": "https://localhost:8080/"
        }
      },
      "execution_count": 25,
      "outputs": [
        {
          "output_type": "stream",
          "name": "stdout",
          "text": [
            "VALORES SIN ERROR\n",
            "[(4, -4, 0), (6, 6, 12), (7, 8, 15), (9, 7, 16), (10, 9, 19)]\n",
            "\n",
            "LISTAS CON TAMAÑOS DIFERENTES\n",
            "Ocurrió un error: IndexError - La cantidad de elementos en cada lista es diferente.\n",
            "None\n",
            "\n",
            "LISTAS CON VALORES INCOHERENTES\n",
            "Ocurrió un error: TypeError - Todos los elementos deben ser numéricos.\n",
            "None\n"
          ]
        }
      ]
    },
    {
      "cell_type": "markdown",
      "source": [
        "**Aplicando a proyectos**\n",
        "\n",
        "5 - Como desafío, se te ha asignado la tarea de desarrollar un código que contabiliza las puntuaciones de estudiantes de una institución educativa de acuerdo con sus respuestas en una prueba. Este código debe ser probado para un ejemplo de 3 estudiantes con una lista de listas en la que cada lista tiene las respuestas de 5 preguntas objetivas de cada estudiante. Cada pregunta vale un punto y las alternativas posibles son A, B, C o D.\n",
        "\n",
        "Si alguna alternativa en una de las pruebas no está entre las alternativas posibles, debes lanzar un ValueError con el mensaje \"La alternativa [alternativa] no es una opción de alternativa válida\". El cálculo de las 3 notas solo se realizará mediante las entradas con las alternativas A, B, C o D en todas las pruebas. Si no se lanza la excepción, se mostrará una lista con las notas en cada prueba.\n",
        "\n",
        "\n",
        "***Datos para la prueba del código:***\n",
        "\n",
        "\n",
        "**Respuestas de la prueba:**\n",
        "\n",
        "`respuestas = ['D', 'A', 'B', 'C', 'A']`\n",
        "\n",
        "A continuación, hay 2 listas de listas que puedes usar como prueba:\n",
        "\n",
        "**Notas sin excepción:**\n",
        "```\n",
        "tests_sin_ex = [['D', 'A', 'B', 'C', 'A'], ['C', 'A', 'A', 'C', 'A'],\n",
        "                ['D',   'B', 'A', 'C', 'A']]\n",
        "```\n",
        "\n",
        "**Notas con excepción:**\n",
        "```\n",
        "tests_con_ex = [['D', 'A', 'B', 'C', 'A'], ['C', 'A', 'A', 'E', 'A'],\n",
        "                ['D', 'B', 'A', 'C', 'A']]\n",
        "```"
      ],
      "metadata": {
        "id": "vJCa6Ne4eSxb"
      }
    },
    {
      "cell_type": "code",
      "source": [
        "respuestas = ['D', 'A', 'B', 'C', 'A']\n",
        "\n",
        "def contabilizar_puntuaciones(lista, resp):\n",
        "  try:\n",
        "    # Validación: verificar si hay alguna alternativa no válida\n",
        "    alternativas_invalidas = [test[i] for test in lista for i in range(len(test)) if test[i] not in ['A', 'B', 'C', 'D']]\n",
        "\n",
        "    if alternativas_invalidas:\n",
        "      alternativas_unicas = sorted(set(alternativas_invalidas))\n",
        "      raise ValueError(f\"Las siguientes alternativas no son válidas: {', '.join(alternativas_unicas)}\")\n",
        "\n",
        "    # Calcular puntuaciones si todo está correcto\n",
        "    puntuaciones = [sum([1 for i in range(len(test)) if test[i] == resp[i]]) for test in lista]\n",
        "    return puntuaciones\n",
        "\n",
        "  except ValueError as e:\n",
        "    print(e)\n",
        "\n",
        "\n",
        "tests_sin_ex = [['D', 'A', 'B', 'C', 'A'], ['C', 'A', 'A', 'C', 'A'],\n",
        "                ['D',   'B', 'A', 'C', 'A']]\n",
        "\n",
        "tests_con_ex = [['D', 'A', 'B', 'C', 'A'], ['C', 'A', 'A', 'E', 'A'],\n",
        "                ['D', 'B', 'A', 'C', 'A']]\n",
        "\n",
        "print(\"Tests sin Excepciones: \".upper())\n",
        "print(contabilizar_puntuaciones(tests_sin_ex, respuestas))\n",
        "print(\"\\nTest con excepciones: \".upper())\n",
        "print(contabilizar_puntuaciones(tests_con_ex, respuestas))\n",
        ""
      ],
      "metadata": {
        "id": "g21zeXxmgP-h",
        "colab": {
          "base_uri": "https://localhost:8080/"
        },
        "outputId": "20b7e007-8f54-48f6-a6d8-523b0d13f968"
      },
      "execution_count": 100,
      "outputs": [
        {
          "output_type": "stream",
          "name": "stdout",
          "text": [
            "TESTS SIN EXCEPCIONES: \n",
            "[5, 3, 3]\n",
            "\n",
            "TEST CON EXCEPCIONES: \n",
            "Las siguientes alternativas no son válidas: E\n",
            "None\n"
          ]
        }
      ]
    },
    {
      "cell_type": "markdown",
      "source": [
        "6 - Estás trabajando con procesamiento de lenguaje natural (NLP) y, en esta ocasión, tu líder te pidió que crees un fragmento de código que reciba una lista con las palabras separadas de una frase generada por ChatGPT.\n",
        "\n",
        "Necesitas crear una función que evalúe cada palabra de este texto y verifique si el tratamiento para quitar los símbolos de puntuación (',', '.', '!' y '?') se realizó. De lo contrario, se lanzará una excepción del tipo ValueError señalando el primer caso en que se detectó el uso de una puntuación a través de la frase \"El texto presenta puntuaciones en la palabra \"[palabra]\"\". Esta solicitud se centra en el análisis del patrón de frases generadas por la inteligencia artificial.\n",
        "\n",
        "***Datos para probar el código:***\n",
        "\n",
        "\n",
        "**Lista tratada:**\n",
        "\n",
        "```\n",
        "lista_tratada = ['Python', 'es', 'un', 'lenguaje', 'de', 'programación', 'poderoso', 'versátil',\n",
        "                  'y', 'fácil', 'de', 'aprender', 'utilizado', 'en', 'diversos', 'campos', 'desde',\n",
        "                  'análisis', 'de', 'datos', 'hasta', 'inteligencia', 'artificial']\n",
        "```\n",
        "\n",
        "**Lista no tratada:**\n",
        "\n",
        "```\n",
        "lista_no_tratada = ['Python', 'es', 'un', 'lenguaje', 'de', 'programación', 'poderoso,', 'versátil',\n",
        "                  'y', 'fácil,', 'de', 'aprender', 'utilizado', 'en', 'diversos', 'campos,', 'desde',\n",
        "                  'análisis', 'de', 'datos', 'hasta', 'inteligencia', 'artificial!']\n",
        "```\n",
        "\n",
        "\n",
        "\n",
        "\n"
      ],
      "metadata": {
        "id": "gIUy_26YeS4D"
      }
    },
    {
      "cell_type": "code",
      "source": [],
      "metadata": {
        "id": "RZse9Q6XgQl5"
      },
      "execution_count": null,
      "outputs": []
    }
  ]
}